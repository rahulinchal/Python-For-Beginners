{
 "cells": [
  {
   "cell_type": "code",
   "execution_count": 1,
   "id": "3a823bc6-ba37-417b-b4cf-890a5cb73e28",
   "metadata": {},
   "outputs": [
    {
     "name": "stdout",
     "output_type": "stream",
     "text": [
      "Hello,World\n"
     ]
    }
   ],
   "source": [
    "print(\"Hello,World\")"
   ]
  },
  {
   "cell_type": "code",
   "execution_count": 3,
   "id": "0a740a7a-521c-4bc3-a7c0-47d464dfac89",
   "metadata": {},
   "outputs": [],
   "source": [
    "AB104 = 50"
   ]
  },
  {
   "cell_type": "markdown",
   "id": "0f436ba2-a56d-4658-afe9-9a24adcf6358",
   "metadata": {},
   "source": [
    "### AB104 is a variable <br>50 is the value which is stored in that variable"
   ]
  },
  {
   "cell_type": "markdown",
   "id": "3eb0fb1c-4270-4523-b6b4-02a408229ada",
   "metadata": {},
   "source": [
    "### There are rules which are set to decalre a variable. <br> There are multiple data types which are\n",
    "1. Integer - Any natural number\n",
    "2. FLoat - Any decimal number\n",
    "3. String - Anything which is enclosed in quotes (\"\")\n",
    "4. Boolean - True/ False\n",
    "5. Complex - Complex numbers like 3 + 4j\n",
    "6. Nonetype - The variable which contain none"
   ]
  },
  {
   "cell_type": "code",
   "execution_count": 4,
   "id": "396919bd-d8e0-4486-a480-07f421767dfa",
   "metadata": {},
   "outputs": [],
   "source": [
    "a = 5 # integer"
   ]
  },
  {
   "cell_type": "code",
   "execution_count": 5,
   "id": "8197c9ff-c119-4546-89d9-0b04e6001dfc",
   "metadata": {},
   "outputs": [
    {
     "data": {
      "text/plain": [
       "int"
      ]
     },
     "execution_count": 5,
     "metadata": {},
     "output_type": "execute_result"
    }
   ],
   "source": [
    "type(a)"
   ]
  },
  {
   "cell_type": "code",
   "execution_count": 6,
   "id": "7a21ccb9-d316-4e83-9982-b45fa216913b",
   "metadata": {},
   "outputs": [],
   "source": [
    "a = 5.5"
   ]
  },
  {
   "cell_type": "code",
   "execution_count": 7,
   "id": "9116c9f4-fa4a-405a-a544-592183b943d2",
   "metadata": {},
   "outputs": [
    {
     "data": {
      "text/plain": [
       "float"
      ]
     },
     "execution_count": 7,
     "metadata": {},
     "output_type": "execute_result"
    }
   ],
   "source": [
    "type(a)"
   ]
  },
  {
   "cell_type": "code",
   "execution_count": 8,
   "id": "299db487-a53e-43e7-9783-06e53f4e68ac",
   "metadata": {},
   "outputs": [],
   "source": [
    "a = \"India\""
   ]
  },
  {
   "cell_type": "code",
   "execution_count": 9,
   "id": "3e3e3389-36c9-4af0-9ae5-a1fa4faa7e8f",
   "metadata": {},
   "outputs": [
    {
     "data": {
      "text/plain": [
       "str"
      ]
     },
     "execution_count": 9,
     "metadata": {},
     "output_type": "execute_result"
    }
   ],
   "source": [
    "type(a)"
   ]
  },
  {
   "cell_type": "code",
   "execution_count": 10,
   "id": "0f0bb4b1-7508-4768-96bd-250525bfa64c",
   "metadata": {},
   "outputs": [],
   "source": [
    "a = True"
   ]
  },
  {
   "cell_type": "code",
   "execution_count": 11,
   "id": "c47f4553-c74b-46ac-85ac-bafc32df53e5",
   "metadata": {},
   "outputs": [
    {
     "data": {
      "text/plain": [
       "bool"
      ]
     },
     "execution_count": 11,
     "metadata": {},
     "output_type": "execute_result"
    }
   ],
   "source": [
    "type(a)"
   ]
  },
  {
   "cell_type": "code",
   "execution_count": 12,
   "id": "b0494284-2515-425e-b7cc-019bac0d95ba",
   "metadata": {},
   "outputs": [],
   "source": [
    "a = False"
   ]
  },
  {
   "cell_type": "code",
   "execution_count": 13,
   "id": "c4827cb3-a113-4f14-b92b-90217c5fb58a",
   "metadata": {},
   "outputs": [
    {
     "data": {
      "text/plain": [
       "bool"
      ]
     },
     "execution_count": 13,
     "metadata": {},
     "output_type": "execute_result"
    }
   ],
   "source": [
    "type(a)"
   ]
  },
  {
   "cell_type": "code",
   "execution_count": 14,
   "id": "ee8cbe02-deb5-4a11-923f-18b6616fe408",
   "metadata": {},
   "outputs": [],
   "source": [
    "a = 3 +6j"
   ]
  },
  {
   "cell_type": "code",
   "execution_count": 15,
   "id": "c88a8fd9-ee31-4606-8a28-663a75b0653c",
   "metadata": {},
   "outputs": [
    {
     "data": {
      "text/plain": [
       "complex"
      ]
     },
     "execution_count": 15,
     "metadata": {},
     "output_type": "execute_result"
    }
   ],
   "source": [
    "type(a)"
   ]
  },
  {
   "cell_type": "code",
   "execution_count": 16,
   "id": "d805b349-be13-4c18-9c04-9aaf28af8732",
   "metadata": {},
   "outputs": [],
   "source": [
    "a = None"
   ]
  },
  {
   "cell_type": "code",
   "execution_count": 17,
   "id": "f6438202-f960-4da1-9bc8-8aa8a6bd8256",
   "metadata": {},
   "outputs": [
    {
     "data": {
      "text/plain": [
       "NoneType"
      ]
     },
     "execution_count": 17,
     "metadata": {},
     "output_type": "execute_result"
    }
   ],
   "source": [
    "type(a)"
   ]
  },
  {
   "cell_type": "markdown",
   "id": "20243897-e8c9-4e77-b4d0-1694872300f6",
   "metadata": {},
   "source": [
    "### There are some rules to declare a variable\n",
    "1. Variable names are case sensitive.\n",
    "2. Variable names can include alphabets A-Z, a-z, 0-9.\n",
    "3. Varibale name cannot start with a number and can never include any special character except underscore(_).\n",
    "4. Avoid using reserved keywords in naming a Variable."
   ]
  },
  {
   "cell_type": "code",
   "execution_count": 18,
   "id": "09447767-0684-47df-8cba-77be2b9def45",
   "metadata": {},
   "outputs": [],
   "source": [
    "name = \"Rahul\""
   ]
  },
  {
   "cell_type": "code",
   "execution_count": 19,
   "id": "b5811b9a-51db-4852-9396-11f86ab75ab0",
   "metadata": {},
   "outputs": [
    {
     "data": {
      "text/plain": [
       "str"
      ]
     },
     "execution_count": 19,
     "metadata": {},
     "output_type": "execute_result"
    }
   ],
   "source": [
    "type(name)"
   ]
  },
  {
   "cell_type": "code",
   "execution_count": 22,
   "id": "b6b9fe79-f2e4-40be-af95-8a15b3802ffe",
   "metadata": {},
   "outputs": [
    {
     "name": "stdout",
     "output_type": "stream",
     "text": [
      "Rahul\n"
     ]
    }
   ],
   "source": [
    "print(name)"
   ]
  },
  {
   "cell_type": "code",
   "execution_count": 30,
   "id": "48b8841e-79f1-4ed8-897c-c863296c5766",
   "metadata": {},
   "outputs": [],
   "source": [
    "NaMe13 = \"Rahul\""
   ]
  },
  {
   "cell_type": "code",
   "execution_count": 26,
   "id": "eda097b8-b2cc-437b-935f-38da9745b4f8",
   "metadata": {},
   "outputs": [
    {
     "name": "stdout",
     "output_type": "stream",
     "text": [
      "Rahul\n"
     ]
    }
   ],
   "source": [
    "print(Name)"
   ]
  },
  {
   "cell_type": "code",
   "execution_count": 33,
   "id": "e0c72017-73eb-4395-bfc7-be36b5bfd43d",
   "metadata": {},
   "outputs": [],
   "source": [
    "na_me = \"Rahul\""
   ]
  },
  {
   "cell_type": "code",
   "execution_count": 37,
   "id": "96a92f19-5300-46a4-a2f9-37e8c4eb1c37",
   "metadata": {},
   "outputs": [],
   "source": [
    "for1 = \"Rahul\""
   ]
  },
  {
   "cell_type": "code",
   "execution_count": 36,
   "id": "d4a9c73c-167d-4800-ad95-e03761324dac",
   "metadata": {},
   "outputs": [],
   "source": [
    "List = \"Rahul\""
   ]
  },
  {
   "cell_type": "markdown",
   "id": "cfca30ce-1b43-4c30-882b-01de7d9a8097",
   "metadata": {},
   "source": [
    "### How to take an input from the user"
   ]
  },
  {
   "cell_type": "code",
   "execution_count": 51,
   "id": "2ec9c173-7455-47f9-a060-b31d7d564dc1",
   "metadata": {},
   "outputs": [
    {
     "name": "stdin",
     "output_type": "stream",
     "text": [
      "Enter a number:  10\n"
     ]
    }
   ],
   "source": [
    "a = int(input(\"Enter a number: \"))"
   ]
  },
  {
   "cell_type": "markdown",
   "id": "5c2dc0fd-09c9-442d-b4cb-6cbd79afae5c",
   "metadata": {},
   "source": [
    "### How to convert from one data type to another"
   ]
  },
  {
   "cell_type": "code",
   "execution_count": 52,
   "id": "184b533b-a09f-496a-9613-ab6b672f649b",
   "metadata": {},
   "outputs": [],
   "source": [
    "a = 10"
   ]
  },
  {
   "cell_type": "code",
   "execution_count": 53,
   "id": "44f37baa-4931-418c-9e4c-b705e55077ee",
   "metadata": {},
   "outputs": [
    {
     "data": {
      "text/plain": [
       "int"
      ]
     },
     "execution_count": 53,
     "metadata": {},
     "output_type": "execute_result"
    }
   ],
   "source": [
    "type(a)"
   ]
  },
  {
   "cell_type": "code",
   "execution_count": 54,
   "id": "0741c7a0-953c-44db-85cc-87d0eec25834",
   "metadata": {},
   "outputs": [
    {
     "data": {
      "text/plain": [
       "10.0"
      ]
     },
     "execution_count": 54,
     "metadata": {},
     "output_type": "execute_result"
    }
   ],
   "source": [
    "float(a)"
   ]
  },
  {
   "cell_type": "code",
   "execution_count": 56,
   "id": "35a08d8f-9333-4a6d-8a27-d72b2d919ece",
   "metadata": {},
   "outputs": [
    {
     "data": {
      "text/plain": [
       "'10'"
      ]
     },
     "execution_count": 56,
     "metadata": {},
     "output_type": "execute_result"
    }
   ],
   "source": [
    "str(a)"
   ]
  },
  {
   "cell_type": "markdown",
   "id": "abb098d1-84ae-4730-ab83-cc77b929f692",
   "metadata": {},
   "source": [
    "### Operators and operands"
   ]
  },
  {
   "cell_type": "code",
   "execution_count": 2,
   "id": "465aa7e0-f9b5-4a2e-9892-3b5543379e12",
   "metadata": {},
   "outputs": [
    {
     "data": {
      "text/plain": [
       "15"
      ]
     },
     "execution_count": 2,
     "metadata": {},
     "output_type": "execute_result"
    }
   ],
   "source": [
    "x = 5  # operands\n",
    "y = 10 # operands\n",
    "\n",
    "z = x + y # + is my operator\n",
    "z"
   ]
  },
  {
   "cell_type": "markdown",
   "id": "27e9e422-c839-4db4-86d6-259321c4bc36",
   "metadata": {},
   "source": [
    "### Typese of operator\n",
    "1. Arithmatic operator\n",
    "2. Unary operator\n",
    "3. Binary operator\n",
    "4. Relational operators\n",
    "5. Logical operator\n",
    "6. Arithmatic assignment operator\n",
    "7. Bitwise operator"
   ]
  },
  {
   "cell_type": "markdown",
   "id": "bf48e2fe-1a35-4ac8-bfd2-0ae53b049425",
   "metadata": {},
   "source": [
    "### 1. Arithmatic operator"
   ]
  },
  {
   "cell_type": "code",
   "execution_count": 3,
   "id": "8b797a79-4d85-44de-bd47-da095bde24e1",
   "metadata": {},
   "outputs": [],
   "source": [
    "x = 5 # integer\n",
    "y = 3 # integer"
   ]
  },
  {
   "cell_type": "code",
   "execution_count": 6,
   "id": "4b0bd4d0-5a62-4eaa-9443-321cd2d3821d",
   "metadata": {},
   "outputs": [
    {
     "name": "stdout",
     "output_type": "stream",
     "text": [
      "Addition 8\n",
      "Subtraction 2\n",
      "Division 1.6666666666666667\n",
      "Multiplication 15\n",
      "Modulus 2\n",
      "Exponential 125\n",
      "Floor division 1\n"
     ]
    }
   ],
   "source": [
    "print(\"Addition\", x + y) # Addition \n",
    "print(\"Subtraction\", x - y) # Subtraction\n",
    "print(\"Division\", x / y) # Division\n",
    "print(\"Multiplication\", x * y) # Multiplication\n",
    "print(\"Modulus\", x % y) # Modulus\n",
    "print(\"Exponential\", x ** y) # Exponential\n",
    "print(\"Floor division\", x //y ) # Floor division"
   ]
  },
  {
   "cell_type": "markdown",
   "id": "c77acfd3-7d68-4b05-8d04-62b018f04a62",
   "metadata": {},
   "source": [
    "### 2. Unary operator: Operators on a single operands"
   ]
  },
  {
   "cell_type": "code",
   "execution_count": 7,
   "id": "ffee1d07-df26-434f-982b-30fa9274673e",
   "metadata": {},
   "outputs": [
    {
     "name": "stdout",
     "output_type": "stream",
     "text": [
      "-5\n"
     ]
    }
   ],
   "source": [
    "x = 5\n",
    "print(-x)"
   ]
  },
  {
   "cell_type": "markdown",
   "id": "6f8a2ae2-507d-4ba9-9688-95af829661c7",
   "metadata": {},
   "source": [
    "### 3. Binary Operator: Opearate on two operands eg Addition, Multiplication, division, subtraction etc"
   ]
  },
  {
   "cell_type": "code",
   "execution_count": 10,
   "id": "d2634db4-c880-4a16-9c3c-d9b1504b7f4f",
   "metadata": {},
   "outputs": [
    {
     "name": "stdout",
     "output_type": "stream",
     "text": [
      "Addition 8\n",
      "Subtraction 2\n",
      "Division 1.6666666666666667\n",
      "Multiplication 15\n",
      "Modulus 2\n",
      "Exponential 125\n",
      "Floor division 1\n"
     ]
    }
   ],
   "source": [
    "print(\"Addition\", x + y) # Addition \n",
    "print(\"Subtraction\", x - y) # Subtraction\n",
    "print(\"Division\", x / y) # Division\n",
    "print(\"Multiplication\", x * y) # Multiplication\n",
    "print(\"Modulus\", x % y) # Modulus\n",
    "print(\"Exponential\", x ** y) # Exponential\n",
    "print(\"Floor division\", x //y ) # Floor division"
   ]
  },
  {
   "cell_type": "code",
   "execution_count": null,
   "id": "b453d5e1-3619-45e2-a840-2372a050cfd6",
   "metadata": {},
   "outputs": [],
   "source": []
  },
  {
   "cell_type": "markdown",
   "id": "1ac0a4fe-1d02-4cda-9d8c-aafa552f9ec4",
   "metadata": {},
   "source": [
    "### 4. Relational Opearator: Compares two values and gives you boolean value"
   ]
  },
  {
   "cell_type": "code",
   "execution_count": 11,
   "id": "39ccd9ec-01a4-4e7b-a1e5-a933e17eaeb9",
   "metadata": {},
   "outputs": [],
   "source": [
    "x = 10\n",
    "y = 5"
   ]
  },
  {
   "cell_type": "code",
   "execution_count": 12,
   "id": "b1ff6d86-9f01-427f-8764-976e43fc10cd",
   "metadata": {},
   "outputs": [
    {
     "name": "stdout",
     "output_type": "stream",
     "text": [
      "True\n",
      "False\n",
      "True\n",
      "False\n",
      "True\n",
      "False\n"
     ]
    }
   ],
   "source": [
    "print(x > y)\n",
    "print(x < y)\n",
    "print(x != y)\n",
    "print(x == y)\n",
    "print(x >= y)\n",
    "print(x <= y)"
   ]
  },
  {
   "cell_type": "markdown",
   "id": "a74e0394-9d5c-4f29-b8a2-47fdb0852df5",
   "metadata": {},
   "source": [
    "### 5. Logical operator: Used to combine conditional statements "
   ]
  },
  {
   "cell_type": "code",
   "execution_count": 13,
   "id": "2ae16a7b-a8bc-4786-9ffe-da0d9e0e0403",
   "metadata": {},
   "outputs": [],
   "source": [
    "x = True # 1\n",
    "y = False # 0"
   ]
  },
  {
   "cell_type": "code",
   "execution_count": 14,
   "id": "34407abe-2dff-413a-8c02-8a33e0a401d3",
   "metadata": {},
   "outputs": [
    {
     "name": "stdout",
     "output_type": "stream",
     "text": [
      "False\n",
      "True\n",
      "False\n"
     ]
    }
   ],
   "source": [
    "print(x and y)\n",
    "print(x or y)\n",
    "print(not x)"
   ]
  },
  {
   "cell_type": "markdown",
   "id": "4965a82d-4f55-47ab-984c-ca0a56b79294",
   "metadata": {},
   "source": [
    "### 6. Arithmatic assignment operator: eg +=, -=, *=,/="
   ]
  },
  {
   "cell_type": "code",
   "execution_count": 15,
   "id": "9a3d209d-ef76-48c9-8945-b2fccbbffc2a",
   "metadata": {},
   "outputs": [
    {
     "data": {
      "text/plain": [
       "15"
      ]
     },
     "execution_count": 15,
     "metadata": {},
     "output_type": "execute_result"
    }
   ],
   "source": [
    "x = 10\n",
    "\n",
    "x += 5 # x = x + 5\n",
    "x"
   ]
  },
  {
   "cell_type": "code",
   "execution_count": 17,
   "id": "e7303fff-4a0e-441f-9938-3f47ddf1767f",
   "metadata": {},
   "outputs": [
    {
     "data": {
      "text/plain": [
       "50"
      ]
     },
     "execution_count": 17,
     "metadata": {},
     "output_type": "execute_result"
    }
   ],
   "source": [
    "a = 10\n",
    "a *= 5 # a = a*5\n",
    "a"
   ]
  },
  {
   "cell_type": "markdown",
   "id": "bfca74d7-aca5-4ce2-a3c5-e15f7340cf33",
   "metadata": {},
   "source": [
    "### 7. Bitwise Operator"
   ]
  },
  {
   "cell_type": "code",
   "execution_count": 18,
   "id": "459d4d0b-b2c2-4d55-8fbf-dff0472a2b57",
   "metadata": {},
   "outputs": [],
   "source": [
    "x = 5\n",
    "y = 3"
   ]
  },
  {
   "cell_type": "code",
   "execution_count": 20,
   "id": "aafbf01e-8880-4414-996c-17349b53000e",
   "metadata": {},
   "outputs": [
    {
     "name": "stdout",
     "output_type": "stream",
     "text": [
      "1\n",
      "7\n",
      "6\n",
      "-6\n",
      "10\n",
      "2\n"
     ]
    }
   ],
   "source": [
    "print(x & y)\n",
    "print(x | y)\n",
    "print(x ^ y)\n",
    "print(~x)\n",
    "print(x << 1)\n",
    "print(x >> 1)"
   ]
  },
  {
   "cell_type": "raw",
   "id": "ba261779-f558-4eaf-a47c-9e0ddc8424c5",
   "metadata": {},
   "source": [
    "Explanation of print(x & y)\n",
    ". . . 128 64 32 16 8 4 2 1\n",
    "               5 = 0 1 0 1   \n",
    "               3 = 0 0 1 1\n",
    "            -----------------\n",
    "                   0 0 0 1\n",
    "            -----------------"
   ]
  },
  {
   "cell_type": "markdown",
   "id": "7b65040a-6311-4a12-a080-76231676c27e",
   "metadata": {},
   "source": [
    "## **Control statement**\n",
    "Control statement alters the flow of execution of a program. It generally includes statements like if, else or loops for while loop, and jump statements like break, continue, return."
   ]
  },
  {
   "cell_type": "markdown",
   "id": "6a72b7da-b519-4047-93aa-7117996aea5a",
   "metadata": {},
   "source": [
    "### If else"
   ]
  },
  {
   "cell_type": "raw",
   "id": "32dc516f-0b8f-4046-84db-9ea5763ca2da",
   "metadata": {},
   "source": [
    "if condition:\n",
    "    Do something\n",
    "else:\n",
    "    Don this"
   ]
  },
  {
   "cell_type": "code",
   "execution_count": 21,
   "id": "d265254e-388e-4f18-8b97-0857c62e9c5f",
   "metadata": {},
   "outputs": [
    {
     "name": "stdout",
     "output_type": "stream",
     "text": [
      "Huurray\n"
     ]
    }
   ],
   "source": [
    "if 5 > 3:\n",
    "    print(\"Huurray\")\n",
    "else:\n",
    "    print(\"Not Hurray\")"
   ]
  },
  {
   "cell_type": "code",
   "execution_count": 26,
   "id": "260d31f8-3511-4c8b-ba3e-88de96191baa",
   "metadata": {},
   "outputs": [
    {
     "name": "stdout",
     "output_type": "stream",
     "text": [
      "No\n"
     ]
    }
   ],
   "source": [
    "if False:\n",
    "    print(\"Yes\")\n",
    "else:\n",
    "    print(\"No\")"
   ]
  },
  {
   "cell_type": "code",
   "execution_count": 29,
   "id": "22d01ca8-360a-497f-af92-71af5a9ee3f1",
   "metadata": {},
   "outputs": [
    {
     "name": "stdin",
     "output_type": "stream",
     "text": [
      "ENter the number:  -10\n"
     ]
    },
    {
     "name": "stdout",
     "output_type": "stream",
     "text": [
      "The number is less than 10\n"
     ]
    }
   ],
   "source": [
    "num = int(input(\"ENter the number: \"))\n",
    "if num > 10:\n",
    "    print(\"The number user printed is greater than 10\")\n",
    "else: \n",
    "    print(\"The number is less than 10\")"
   ]
  },
  {
   "cell_type": "markdown",
   "id": "462e1714-0ecd-412b-b7a0-897bb749003c",
   "metadata": {},
   "source": [
    "### If, elif, elif, ... , else"
   ]
  },
  {
   "cell_type": "code",
   "execution_count": 32,
   "id": "103e2ec8-c1e8-4680-ab17-c947525173aa",
   "metadata": {},
   "outputs": [
    {
     "name": "stdin",
     "output_type": "stream",
     "text": [
      "Enter the number -9\n"
     ]
    },
    {
     "name": "stdout",
     "output_type": "stream",
     "text": [
      "The number is less than 10\n"
     ]
    }
   ],
   "source": [
    "num = int(input(\"Enter the number\"))\n",
    "if num > 10:\n",
    "    print(\"The number is greater than 10\")\n",
    "elif num == 10:\n",
    "    print(\"The number is equal to 10\")\n",
    "else:\n",
    "    print(\"The number is less than 10\")"
   ]
  },
  {
   "cell_type": "markdown",
   "id": "83555d09-eb25-43fb-84a7-48000d1d7476",
   "metadata": {},
   "source": [
    "## **Practice Question for if- else**\n",
    "### **Basic Questions**\n",
    "1. Write a program that takes an integer input from the user and prints whether it is **positive**, **negative**, or **zero**.\n",
    "2. Write a program that asks for a number and prints whether it is **even** or **odd**.\n",
    "3. Ask the user to enter their age and determine if they are **a child (0-12 years)**, **a teenager (13-19 years)**, **an adult (20-59 years)**, or **a senior citizen (60+ years)**.\n",
    "\n",
    "### **Intermediate Questions**\n",
    "4. Write a program that asks for a score (0-100) and prints the corresponding **grade**:\n",
    "   - 90-100: A\n",
    "   - 80-89: B\n",
    "   - 70-79: C\n",
    "   - 60-69: D\n",
    "   - Below 60: F\n",
    "5. Ask the user for a year and determine whether it is a **leap year** or not.\n",
    "6. Write a program that asks for the temperature and prints whether it is **Cold (<15°C), Warm (15-25°C), or Hot (>25°C)**.\n",
    "7. Ask the user to input a character and check if it is a **vowel (a, e, i, o, u)** or a **consonant**.\n",
    "\n",
    "### **Advanced Questions**\n",
    "8. Write a program that takes three numbers as input and prints the **largest** among them.\n",
    "9. Write a program that checks if a triangle is **equilateral (all sides equal)**, **isosceles (two sides equal)**, or **scalene (no sides equal)**.\n",
    "10. Create a program that asks for a username and password. If the username is `\"admin\"` and the password is `\"password123\"`, print `\"Login successful\"`; otherwise, print `\"Invalid credentials\"`.\n"
   ]
  },
  {
   "cell_type": "code",
   "execution_count": 35,
   "id": "1b06ce1b-7f29-414b-aeda-0d3fc6172888",
   "metadata": {},
   "outputs": [
    {
     "name": "stdin",
     "output_type": "stream",
     "text": [
      "Enter the number:  -10\n"
     ]
    },
    {
     "name": "stdout",
     "output_type": "stream",
     "text": [
      "The number is negetive\n"
     ]
    }
   ],
   "source": [
    "# 1. Write a program that takes an integer input from the user and prints whether it is positive, negative, or zero.\n",
    "\n",
    "num = float(input(\"Enter the number: \"))\n",
    "if num > 0:\n",
    "    print(\"The number is positive\")\n",
    "elif num == 0:\n",
    "    print(\"The number is 0\")\n",
    "else:\n",
    "    print(\"The number is negetive\")"
   ]
  },
  {
   "cell_type": "code",
   "execution_count": 43,
   "id": "6f89e128-8014-4406-84bf-49c502f31209",
   "metadata": {},
   "outputs": [
    {
     "name": "stdin",
     "output_type": "stream",
     "text": [
      "Enter the number 10\n"
     ]
    },
    {
     "name": "stdout",
     "output_type": "stream",
     "text": [
      "The number is even\n"
     ]
    }
   ],
   "source": [
    "# 2. Write a program that asks for a number and prints whether it is **even** or **odd**.\n",
    "num = int(input(\"Enter the number\"))\n",
    "if num % 2 == 0:\n",
    "    print(\"The number is even\")\n",
    "else:\n",
    "    print(\"The number is odd\")"
   ]
  },
  {
   "cell_type": "code",
   "execution_count": 51,
   "id": "66f27445-1a2a-41c0-871f-59af75c03e5b",
   "metadata": {},
   "outputs": [
    {
     "name": "stdin",
     "output_type": "stream",
     "text": [
      "Enter an alphabet p\n"
     ]
    },
    {
     "name": "stdout",
     "output_type": "stream",
     "text": [
      "Consonent\n"
     ]
    }
   ],
   "source": [
    "# 7. Ask the user to input a character and check if it is a vowel (a, e, i, o, u) or a consonant.\n",
    "\n",
    "char = input(\"Enter an alphabet\")\n",
    "if char in \"aeiou\":\n",
    "    print(\"Vowel\")\n",
    "else:\n",
    "    print(\"Consonent\")"
   ]
  },
  {
   "cell_type": "markdown",
   "id": "7854e9e5-8fa5-4970-91f6-6421fa3a470d",
   "metadata": {},
   "source": [
    "### Nested if else"
   ]
  },
  {
   "cell_type": "code",
   "execution_count": 55,
   "id": "0752fc47-1f92-4d8b-a2e2-5f688e829c98",
   "metadata": {},
   "outputs": [
    {
     "name": "stdin",
     "output_type": "stream",
     "text": [
      "Enter the first side:  10\n",
      "Enter the second side:  10\n",
      "Enter the third side:  12\n"
     ]
    },
    {
     "name": "stdout",
     "output_type": "stream",
     "text": [
      "The triangle is valid\n",
      "Isosceles triangle\n"
     ]
    }
   ],
   "source": [
    "### 9. Write a program that checks if a triangle is equilateral (all sides equal), isosceles (two sides equal), or scalene (no sides equal).\n",
    "# Conditio 1 = Sum of any two sides should be greater than the third side\n",
    "\n",
    "a = int(input(\"Enter the first side: \"))\n",
    "b = int(input(\"Enter the second side: \"))\n",
    "c = int(input(\"Enter the third side: \"))\n",
    "\n",
    "if a + b > c and b + c > a and a + c > b:\n",
    "    print(\"The triangle is valid\")\n",
    "    if a == b == c:\n",
    "        print(\"Equilateral triangle\")\n",
    "    elif a == b or b == c or a == c:\n",
    "        print(\"Isosceles triangle\")\n",
    "    else:\n",
    "        print(\"Scalen triangle\")\n",
    "else:\n",
    "    print(\"The triangle is not valid\")"
   ]
  },
  {
   "cell_type": "markdown",
   "id": "216a7477-9ea5-479a-a98f-63ab89fc897a",
   "metadata": {},
   "source": [
    "### **For and While loop**\n",
    "For loop\n",
    "1. For loop works on ranges and sequences\n",
    "2. In For loop, the number of iterations are known.\n",
    "3. The counter management is automatic in for loop.\n",
    "4. For loop stops when the iteration is out of range or sequence.\n",
    "\n",
    "While loop\n",
    "1. While loop works on a condtion.\n",
    "2. While loop works when the number of iteration is unknown.\n",
    "3. The counter managemnet is manual.\n",
    "4. While loop stops whent the condition becomes false."
   ]
  },
  {
   "cell_type": "code",
   "execution_count": 57,
   "id": "036387fe-fbd3-466f-9aab-334d39151794",
   "metadata": {},
   "outputs": [
    {
     "name": "stdout",
     "output_type": "stream",
     "text": [
      "1\n",
      "2\n",
      "3\n",
      "4\n",
      "5\n",
      "6\n",
      "7\n",
      "8\n",
      "9\n",
      "10\n"
     ]
    }
   ],
   "source": [
    "for i in range(1,11):\n",
    "    print(i)"
   ]
  },
  {
   "cell_type": "code",
   "execution_count": 58,
   "id": "75a4823a-95a3-46b8-8963-cb299447e17d",
   "metadata": {},
   "outputs": [
    {
     "name": "stdout",
     "output_type": "stream",
     "text": [
      "1\n",
      "2\n",
      "3\n",
      "4\n",
      "5\n",
      "6\n",
      "7\n",
      "8\n",
      "9\n",
      "10\n"
     ]
    }
   ],
   "source": [
    "i = 1\n",
    "while i <= 10:\n",
    "    print(i)\n",
    "    i += 1"
   ]
  },
  {
   "cell_type": "raw",
   "id": "728b2037-d65f-4ac2-9017-d4f3b77a2d12",
   "metadata": {},
   "source": [
    "For loop\n",
    "for var in sequence/range:\n",
    "    Do something\n",
    "\n",
    "While loop\n",
    "while condition:\n",
    "    Do something"
   ]
  },
  {
   "cell_type": "code",
   "execution_count": 60,
   "id": "e97302c6-513a-472f-878c-004da053f60d",
   "metadata": {},
   "outputs": [
    {
     "name": "stdout",
     "output_type": "stream",
     "text": [
      "1\n",
      "2\n",
      "3\n",
      "4\n",
      "5\n",
      "6\n",
      "7\n",
      "8\n",
      "9\n",
      "10\n"
     ]
    }
   ],
   "source": [
    "for i in range(1,11):\n",
    "    print(i)"
   ]
  },
  {
   "cell_type": "code",
   "execution_count": 64,
   "id": "2c7966fc-80a2-4271-b90c-1d8610b1087a",
   "metadata": {},
   "outputs": [
    {
     "name": "stdin",
     "output_type": "stream",
     "text": [
      "Enter the number q\n"
     ]
    }
   ],
   "source": [
    "while True:\n",
    "    n = input(\"Enter the number\")\n",
    "    if n == 'q':\n",
    "        break\n",
    "    print(n)"
   ]
  },
  {
   "cell_type": "code",
   "execution_count": 66,
   "id": "bfdbbf5a-a701-448d-b1f1-56f91e1f9916",
   "metadata": {},
   "outputs": [
    {
     "name": "stdout",
     "output_type": "stream",
     "text": [
      "1\n",
      "2\n",
      "3\n",
      "4\n",
      "5\n",
      "6\n",
      "7\n",
      "8\n",
      "9\n",
      "10\n"
     ]
    }
   ],
   "source": [
    "i = 1\n",
    "while i <= 10:\n",
    "    print(i)\n",
    "    i += 1"
   ]
  },
  {
   "cell_type": "code",
   "execution_count": 68,
   "id": "d3bf0f76-4035-4c30-973e-831155b790f1",
   "metadata": {},
   "outputs": [
    {
     "name": "stdout",
     "output_type": "stream",
     "text": [
      "1\n",
      "2\n",
      "3\n",
      "4\n",
      "5\n",
      "6\n",
      "7\n",
      "8\n",
      "9\n",
      "10\n"
     ]
    }
   ],
   "source": [
    "for i in range(1,11):\n",
    "    print(i)"
   ]
  },
  {
   "cell_type": "markdown",
   "id": "ab6cc7da-3233-4d6d-8d83-ae023789a62a",
   "metadata": {},
   "source": [
    "### Practice question for for loop\n",
    "1. Write a program to print numbers from 1 to 10 using a for loop.\n",
    "2. Write a program to find the sum of the first 10 natural numbers using a for loop.\n",
    "3. Write a program to print all even numbers between 1 and 20 using a for loop.\n",
    "4. Write a program to print the multiplication table of a given number (e.g., 5)."
   ]
  },
  {
   "cell_type": "code",
   "execution_count": 70,
   "id": "ead1c966-2254-4775-8bcb-c1762ff74fd7",
   "metadata": {},
   "outputs": [
    {
     "name": "stdout",
     "output_type": "stream",
     "text": [
      "5 * 1 = 5\n",
      "5 * 2 = 10\n",
      "5 * 3 = 15\n",
      "5 * 4 = 20\n",
      "5 * 5 = 25\n",
      "5 * 6 = 30\n",
      "5 * 7 = 35\n",
      "5 * 8 = 40\n",
      "5 * 9 = 45\n",
      "5 * 10 = 50\n"
     ]
    }
   ],
   "source": [
    "for i in range(1,11):\n",
    "    print(\"5 *\",i,\"=\", 5 * i)"
   ]
  },
  {
   "cell_type": "code",
   "execution_count": 76,
   "id": "f77f7313-3d7a-47c3-8aed-b02be733e76a",
   "metadata": {},
   "outputs": [
    {
     "name": "stdout",
     "output_type": "stream",
     "text": [
      "5\n",
      "10\n",
      "15\n",
      "20\n",
      "25\n",
      "30\n",
      "35\n",
      "40\n",
      "45\n",
      "50\n"
     ]
    }
   ],
   "source": [
    "for i in range(5,51,5):\n",
    "    print(i)"
   ]
  },
  {
   "cell_type": "code",
   "execution_count": null,
   "id": "97d4782b-e0f4-424d-803f-7e930061318e",
   "metadata": {},
   "outputs": [],
   "source": []
  },
  {
   "cell_type": "code",
   "execution_count": null,
   "id": "ae1f5e0e-9062-47d8-b50a-8309788c9641",
   "metadata": {},
   "outputs": [],
   "source": []
  },
  {
   "cell_type": "code",
   "execution_count": null,
   "id": "54815057-f202-43cf-8b58-cc5b80a4cd85",
   "metadata": {},
   "outputs": [],
   "source": []
  },
  {
   "cell_type": "code",
   "execution_count": null,
   "id": "506d5f9a-5f60-4349-b1e3-8115655b6d1c",
   "metadata": {},
   "outputs": [],
   "source": []
  },
  {
   "cell_type": "code",
   "execution_count": null,
   "id": "63fe9348-08cb-4ba6-8402-11100a66a9cd",
   "metadata": {},
   "outputs": [],
   "source": []
  },
  {
   "cell_type": "code",
   "execution_count": null,
   "id": "4b2c5333-7ba5-49a0-9d80-26d32b13969d",
   "metadata": {},
   "outputs": [],
   "source": []
  },
  {
   "cell_type": "code",
   "execution_count": null,
   "id": "cdf79bb9-f66a-4597-9cd2-caac7d508d78",
   "metadata": {},
   "outputs": [],
   "source": []
  },
  {
   "cell_type": "code",
   "execution_count": null,
   "id": "79c63309-d4d6-491b-8a5d-f075b326e4f1",
   "metadata": {},
   "outputs": [],
   "source": []
  },
  {
   "cell_type": "code",
   "execution_count": null,
   "id": "b358d0b5-1f85-4a25-a091-4714175b05b3",
   "metadata": {},
   "outputs": [],
   "source": []
  },
  {
   "cell_type": "code",
   "execution_count": null,
   "id": "317a1eb3-6405-4fc3-a3cb-e8168a57b901",
   "metadata": {},
   "outputs": [],
   "source": []
  },
  {
   "cell_type": "code",
   "execution_count": null,
   "id": "6b4dfc1f-f3ba-402a-ab16-3a01bd873472",
   "metadata": {},
   "outputs": [],
   "source": []
  },
  {
   "cell_type": "code",
   "execution_count": null,
   "id": "e26f112c-ada0-4b83-b02b-7859cd8c1027",
   "metadata": {},
   "outputs": [],
   "source": []
  },
  {
   "cell_type": "code",
   "execution_count": null,
   "id": "fb8f6d0c-7186-4ec6-9a8c-02611900624d",
   "metadata": {},
   "outputs": [],
   "source": []
  },
  {
   "cell_type": "code",
   "execution_count": null,
   "id": "d177c377-ae01-4ef2-a685-235c90d66389",
   "metadata": {},
   "outputs": [],
   "source": []
  },
  {
   "cell_type": "code",
   "execution_count": null,
   "id": "b7e31455-6ea4-4a8f-8190-61f403b77235",
   "metadata": {},
   "outputs": [],
   "source": []
  },
  {
   "cell_type": "code",
   "execution_count": null,
   "id": "3695a8d3-838f-430a-bdc4-2610a7a92780",
   "metadata": {},
   "outputs": [],
   "source": []
  },
  {
   "cell_type": "code",
   "execution_count": null,
   "id": "92162efb-aa43-46a6-83a3-736e18dc5b2b",
   "metadata": {},
   "outputs": [],
   "source": []
  },
  {
   "cell_type": "code",
   "execution_count": null,
   "id": "f45a8c8f-3faa-4c47-8e79-b2d5d0dedf9b",
   "metadata": {},
   "outputs": [],
   "source": []
  },
  {
   "cell_type": "code",
   "execution_count": null,
   "id": "7929e8ec-e7f7-4e10-864d-2c92e0106bc4",
   "metadata": {},
   "outputs": [],
   "source": []
  },
  {
   "cell_type": "code",
   "execution_count": null,
   "id": "8ab93e35-760e-463b-b865-adf25a42d376",
   "metadata": {},
   "outputs": [],
   "source": []
  },
  {
   "cell_type": "code",
   "execution_count": null,
   "id": "4b0d50d7-f459-4461-828d-76f4c13c49eb",
   "metadata": {},
   "outputs": [],
   "source": []
  },
  {
   "cell_type": "code",
   "execution_count": null,
   "id": "73ba8ee7-b9f8-4de1-8fe3-fef25b1c6e97",
   "metadata": {},
   "outputs": [],
   "source": []
  },
  {
   "cell_type": "code",
   "execution_count": null,
   "id": "073ef63a-666e-4908-8e20-a7dab6c4827f",
   "metadata": {},
   "outputs": [],
   "source": []
  },
  {
   "cell_type": "code",
   "execution_count": null,
   "id": "36227105-2dd7-420c-8ec3-a14a22fdbb89",
   "metadata": {},
   "outputs": [],
   "source": []
  },
  {
   "cell_type": "code",
   "execution_count": null,
   "id": "e40ae09c-52e2-4973-814d-ea4408a8fa98",
   "metadata": {},
   "outputs": [],
   "source": []
  },
  {
   "cell_type": "code",
   "execution_count": null,
   "id": "4a84d5cb-1b5f-450a-8574-a7bff142f93f",
   "metadata": {},
   "outputs": [],
   "source": []
  },
  {
   "cell_type": "code",
   "execution_count": null,
   "id": "727d950f-8795-4d49-8053-9a6149a41d61",
   "metadata": {},
   "outputs": [],
   "source": []
  },
  {
   "cell_type": "code",
   "execution_count": null,
   "id": "819d6f99-3ad5-4fd6-b396-821df389181d",
   "metadata": {},
   "outputs": [],
   "source": []
  },
  {
   "cell_type": "code",
   "execution_count": null,
   "id": "a09be0b9-4374-4945-94f5-e25fcc216a5f",
   "metadata": {},
   "outputs": [],
   "source": []
  },
  {
   "cell_type": "code",
   "execution_count": null,
   "id": "deb418e6-1f3a-4741-abf2-db97fe81e660",
   "metadata": {},
   "outputs": [],
   "source": []
  }
 ],
 "metadata": {
  "kernelspec": {
   "display_name": "Python 3 (ipykernel)",
   "language": "python",
   "name": "python3"
  },
  "language_info": {
   "codemirror_mode": {
    "name": "ipython",
    "version": 3
   },
   "file_extension": ".py",
   "mimetype": "text/x-python",
   "name": "python",
   "nbconvert_exporter": "python",
   "pygments_lexer": "ipython3",
   "version": "3.12.7"
  }
 },
 "nbformat": 4,
 "nbformat_minor": 5
}
