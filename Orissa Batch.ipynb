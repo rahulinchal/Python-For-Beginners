{
 "cells": [
  {
   "cell_type": "code",
   "execution_count": 1,
   "id": "3a823bc6-ba37-417b-b4cf-890a5cb73e28",
   "metadata": {},
   "outputs": [
    {
     "name": "stdout",
     "output_type": "stream",
     "text": [
      "Hello,World\n"
     ]
    }
   ],
   "source": [
    "print(\"Hello,World\")"
   ]
  },
  {
   "cell_type": "code",
   "execution_count": 3,
   "id": "0a740a7a-521c-4bc3-a7c0-47d464dfac89",
   "metadata": {},
   "outputs": [],
   "source": [
    "AB104 = 50"
   ]
  },
  {
   "cell_type": "markdown",
   "id": "0f436ba2-a56d-4658-afe9-9a24adcf6358",
   "metadata": {},
   "source": [
    "### AB104 is a variable <br>50 is the value which is stored in that variable"
   ]
  },
  {
   "cell_type": "markdown",
   "id": "3eb0fb1c-4270-4523-b6b4-02a408229ada",
   "metadata": {},
   "source": [
    "### There are rules which are set to decalre a variable. <br> There are multiple data types which are\n",
    "1. Integer - Any natural number\n",
    "2. FLoat - Any decimal number\n",
    "3. String - Anything which is enclosed in quotes (\"\")\n",
    "4. Boolean - True/ False\n",
    "5. Complex - Complex numbers like 3 + 4j\n",
    "6. Nonetype - The variable which contain none"
   ]
  },
  {
   "cell_type": "code",
   "execution_count": 4,
   "id": "396919bd-d8e0-4486-a480-07f421767dfa",
   "metadata": {},
   "outputs": [],
   "source": [
    "a = 5 # integer"
   ]
  },
  {
   "cell_type": "code",
   "execution_count": 5,
   "id": "8197c9ff-c119-4546-89d9-0b04e6001dfc",
   "metadata": {},
   "outputs": [
    {
     "data": {
      "text/plain": [
       "int"
      ]
     },
     "execution_count": 5,
     "metadata": {},
     "output_type": "execute_result"
    }
   ],
   "source": [
    "type(a)"
   ]
  },
  {
   "cell_type": "code",
   "execution_count": 6,
   "id": "7a21ccb9-d316-4e83-9982-b45fa216913b",
   "metadata": {},
   "outputs": [],
   "source": [
    "a = 5.5"
   ]
  },
  {
   "cell_type": "code",
   "execution_count": 7,
   "id": "9116c9f4-fa4a-405a-a544-592183b943d2",
   "metadata": {},
   "outputs": [
    {
     "data": {
      "text/plain": [
       "float"
      ]
     },
     "execution_count": 7,
     "metadata": {},
     "output_type": "execute_result"
    }
   ],
   "source": [
    "type(a)"
   ]
  },
  {
   "cell_type": "code",
   "execution_count": 8,
   "id": "299db487-a53e-43e7-9783-06e53f4e68ac",
   "metadata": {},
   "outputs": [],
   "source": [
    "a = \"India\""
   ]
  },
  {
   "cell_type": "code",
   "execution_count": 9,
   "id": "3e3e3389-36c9-4af0-9ae5-a1fa4faa7e8f",
   "metadata": {},
   "outputs": [
    {
     "data": {
      "text/plain": [
       "str"
      ]
     },
     "execution_count": 9,
     "metadata": {},
     "output_type": "execute_result"
    }
   ],
   "source": [
    "type(a)"
   ]
  },
  {
   "cell_type": "code",
   "execution_count": 10,
   "id": "0f0bb4b1-7508-4768-96bd-250525bfa64c",
   "metadata": {},
   "outputs": [],
   "source": [
    "a = True"
   ]
  },
  {
   "cell_type": "code",
   "execution_count": 11,
   "id": "c47f4553-c74b-46ac-85ac-bafc32df53e5",
   "metadata": {},
   "outputs": [
    {
     "data": {
      "text/plain": [
       "bool"
      ]
     },
     "execution_count": 11,
     "metadata": {},
     "output_type": "execute_result"
    }
   ],
   "source": [
    "type(a)"
   ]
  },
  {
   "cell_type": "code",
   "execution_count": 12,
   "id": "b0494284-2515-425e-b7cc-019bac0d95ba",
   "metadata": {},
   "outputs": [],
   "source": [
    "a = False"
   ]
  },
  {
   "cell_type": "code",
   "execution_count": 13,
   "id": "c4827cb3-a113-4f14-b92b-90217c5fb58a",
   "metadata": {},
   "outputs": [
    {
     "data": {
      "text/plain": [
       "bool"
      ]
     },
     "execution_count": 13,
     "metadata": {},
     "output_type": "execute_result"
    }
   ],
   "source": [
    "type(a)"
   ]
  },
  {
   "cell_type": "code",
   "execution_count": 14,
   "id": "ee8cbe02-deb5-4a11-923f-18b6616fe408",
   "metadata": {},
   "outputs": [],
   "source": [
    "a = 3 +6j"
   ]
  },
  {
   "cell_type": "code",
   "execution_count": 15,
   "id": "c88a8fd9-ee31-4606-8a28-663a75b0653c",
   "metadata": {},
   "outputs": [
    {
     "data": {
      "text/plain": [
       "complex"
      ]
     },
     "execution_count": 15,
     "metadata": {},
     "output_type": "execute_result"
    }
   ],
   "source": [
    "type(a)"
   ]
  },
  {
   "cell_type": "code",
   "execution_count": 16,
   "id": "d805b349-be13-4c18-9c04-9aaf28af8732",
   "metadata": {},
   "outputs": [],
   "source": [
    "a = None"
   ]
  },
  {
   "cell_type": "code",
   "execution_count": 17,
   "id": "f6438202-f960-4da1-9bc8-8aa8a6bd8256",
   "metadata": {},
   "outputs": [
    {
     "data": {
      "text/plain": [
       "NoneType"
      ]
     },
     "execution_count": 17,
     "metadata": {},
     "output_type": "execute_result"
    }
   ],
   "source": [
    "type(a)"
   ]
  },
  {
   "cell_type": "markdown",
   "id": "20243897-e8c9-4e77-b4d0-1694872300f6",
   "metadata": {},
   "source": [
    "### There are some rules to declare a variable\n",
    "1. Variable names are case sensitive.\n",
    "2. Variable names can include alphabets A-Z, a-z, 0-9.\n",
    "3. Varibale name cannot start with a number and can never include any special character except underscore(_).\n",
    "4. Avoid using reserved keywords in naming a Variable."
   ]
  },
  {
   "cell_type": "code",
   "execution_count": 18,
   "id": "09447767-0684-47df-8cba-77be2b9def45",
   "metadata": {},
   "outputs": [],
   "source": [
    "name = \"Rahul\""
   ]
  },
  {
   "cell_type": "code",
   "execution_count": 19,
   "id": "b5811b9a-51db-4852-9396-11f86ab75ab0",
   "metadata": {},
   "outputs": [
    {
     "data": {
      "text/plain": [
       "str"
      ]
     },
     "execution_count": 19,
     "metadata": {},
     "output_type": "execute_result"
    }
   ],
   "source": [
    "type(name)"
   ]
  },
  {
   "cell_type": "code",
   "execution_count": 22,
   "id": "b6b9fe79-f2e4-40be-af95-8a15b3802ffe",
   "metadata": {},
   "outputs": [
    {
     "name": "stdout",
     "output_type": "stream",
     "text": [
      "Rahul\n"
     ]
    }
   ],
   "source": [
    "print(name)"
   ]
  },
  {
   "cell_type": "code",
   "execution_count": 30,
   "id": "48b8841e-79f1-4ed8-897c-c863296c5766",
   "metadata": {},
   "outputs": [],
   "source": [
    "NaMe13 = \"Rahul\""
   ]
  },
  {
   "cell_type": "code",
   "execution_count": 26,
   "id": "eda097b8-b2cc-437b-935f-38da9745b4f8",
   "metadata": {},
   "outputs": [
    {
     "name": "stdout",
     "output_type": "stream",
     "text": [
      "Rahul\n"
     ]
    }
   ],
   "source": [
    "print(Name)"
   ]
  },
  {
   "cell_type": "code",
   "execution_count": 33,
   "id": "e0c72017-73eb-4395-bfc7-be36b5bfd43d",
   "metadata": {},
   "outputs": [],
   "source": [
    "na_me = \"Rahul\""
   ]
  },
  {
   "cell_type": "code",
   "execution_count": 37,
   "id": "96a92f19-5300-46a4-a2f9-37e8c4eb1c37",
   "metadata": {},
   "outputs": [],
   "source": [
    "for1 = \"Rahul\""
   ]
  },
  {
   "cell_type": "code",
   "execution_count": 36,
   "id": "d4a9c73c-167d-4800-ad95-e03761324dac",
   "metadata": {},
   "outputs": [],
   "source": [
    "List = \"Rahul\""
   ]
  },
  {
   "cell_type": "markdown",
   "id": "cfca30ce-1b43-4c30-882b-01de7d9a8097",
   "metadata": {},
   "source": [
    "### How to take an input from the user"
   ]
  },
  {
   "cell_type": "code",
   "execution_count": 51,
   "id": "2ec9c173-7455-47f9-a060-b31d7d564dc1",
   "metadata": {},
   "outputs": [
    {
     "name": "stdin",
     "output_type": "stream",
     "text": [
      "Enter a number:  10\n"
     ]
    }
   ],
   "source": [
    "a = int(input(\"Enter a number: \"))"
   ]
  },
  {
   "cell_type": "markdown",
   "id": "5c2dc0fd-09c9-442d-b4cb-6cbd79afae5c",
   "metadata": {},
   "source": [
    "### How to convert from one data type to another"
   ]
  },
  {
   "cell_type": "code",
   "execution_count": 52,
   "id": "184b533b-a09f-496a-9613-ab6b672f649b",
   "metadata": {},
   "outputs": [],
   "source": [
    "a = 10"
   ]
  },
  {
   "cell_type": "code",
   "execution_count": 53,
   "id": "44f37baa-4931-418c-9e4c-b705e55077ee",
   "metadata": {},
   "outputs": [
    {
     "data": {
      "text/plain": [
       "int"
      ]
     },
     "execution_count": 53,
     "metadata": {},
     "output_type": "execute_result"
    }
   ],
   "source": [
    "type(a)"
   ]
  },
  {
   "cell_type": "code",
   "execution_count": 54,
   "id": "0741c7a0-953c-44db-85cc-87d0eec25834",
   "metadata": {},
   "outputs": [
    {
     "data": {
      "text/plain": [
       "10.0"
      ]
     },
     "execution_count": 54,
     "metadata": {},
     "output_type": "execute_result"
    }
   ],
   "source": [
    "float(a)"
   ]
  },
  {
   "cell_type": "code",
   "execution_count": 56,
   "id": "35a08d8f-9333-4a6d-8a27-d72b2d919ece",
   "metadata": {},
   "outputs": [
    {
     "data": {
      "text/plain": [
       "'10'"
      ]
     },
     "execution_count": 56,
     "metadata": {},
     "output_type": "execute_result"
    }
   ],
   "source": [
    "str(a)"
   ]
  },
  {
   "cell_type": "markdown",
   "id": "abb098d1-84ae-4730-ab83-cc77b929f692",
   "metadata": {},
   "source": [
    "### Operators and operands"
   ]
  },
  {
   "cell_type": "code",
   "execution_count": 2,
   "id": "465aa7e0-f9b5-4a2e-9892-3b5543379e12",
   "metadata": {},
   "outputs": [
    {
     "data": {
      "text/plain": [
       "15"
      ]
     },
     "execution_count": 2,
     "metadata": {},
     "output_type": "execute_result"
    }
   ],
   "source": [
    "x = 5  # operands\n",
    "y = 10 # operands\n",
    "\n",
    "z = x + y # + is my operator\n",
    "z"
   ]
  },
  {
   "cell_type": "markdown",
   "id": "27e9e422-c839-4db4-86d6-259321c4bc36",
   "metadata": {},
   "source": [
    "### Typese of operator\n",
    "1. Arithmatic operator\n",
    "2. Unary operator\n",
    "3. Binary operator\n",
    "4. Relational operators\n",
    "5. Logical operator\n",
    "6. Arithmatic assignment operator\n",
    "7. Bitwise operator"
   ]
  },
  {
   "cell_type": "markdown",
   "id": "bf48e2fe-1a35-4ac8-bfd2-0ae53b049425",
   "metadata": {},
   "source": [
    "### 1. Arithmatic operator"
   ]
  },
  {
   "cell_type": "code",
   "execution_count": 3,
   "id": "8b797a79-4d85-44de-bd47-da095bde24e1",
   "metadata": {},
   "outputs": [],
   "source": [
    "x = 5 # integer\n",
    "y = 3 # integer"
   ]
  },
  {
   "cell_type": "code",
   "execution_count": 6,
   "id": "4b0bd4d0-5a62-4eaa-9443-321cd2d3821d",
   "metadata": {},
   "outputs": [
    {
     "name": "stdout",
     "output_type": "stream",
     "text": [
      "Addition 8\n",
      "Subtraction 2\n",
      "Division 1.6666666666666667\n",
      "Multiplication 15\n",
      "Modulus 2\n",
      "Exponential 125\n",
      "Floor division 1\n"
     ]
    }
   ],
   "source": [
    "print(\"Addition\", x + y) # Addition \n",
    "print(\"Subtraction\", x - y) # Subtraction\n",
    "print(\"Division\", x / y) # Division\n",
    "print(\"Multiplication\", x * y) # Multiplication\n",
    "print(\"Modulus\", x % y) # Modulus\n",
    "print(\"Exponential\", x ** y) # Exponential\n",
    "print(\"Floor division\", x //y ) # Floor division"
   ]
  },
  {
   "cell_type": "markdown",
   "id": "c77acfd3-7d68-4b05-8d04-62b018f04a62",
   "metadata": {},
   "source": [
    "### 2. Unary operator: Operators on a single operands"
   ]
  },
  {
   "cell_type": "code",
   "execution_count": 7,
   "id": "ffee1d07-df26-434f-982b-30fa9274673e",
   "metadata": {},
   "outputs": [
    {
     "name": "stdout",
     "output_type": "stream",
     "text": [
      "-5\n"
     ]
    }
   ],
   "source": [
    "x = 5\n",
    "print(-x)"
   ]
  },
  {
   "cell_type": "markdown",
   "id": "6f8a2ae2-507d-4ba9-9688-95af829661c7",
   "metadata": {},
   "source": [
    "### 3. Binary Operator: Opearate on two operands eg Addition, Multiplication, division, subtraction etc"
   ]
  },
  {
   "cell_type": "code",
   "execution_count": 10,
   "id": "d2634db4-c880-4a16-9c3c-d9b1504b7f4f",
   "metadata": {},
   "outputs": [
    {
     "name": "stdout",
     "output_type": "stream",
     "text": [
      "Addition 8\n",
      "Subtraction 2\n",
      "Division 1.6666666666666667\n",
      "Multiplication 15\n",
      "Modulus 2\n",
      "Exponential 125\n",
      "Floor division 1\n"
     ]
    }
   ],
   "source": [
    "print(\"Addition\", x + y) # Addition \n",
    "print(\"Subtraction\", x - y) # Subtraction\n",
    "print(\"Division\", x / y) # Division\n",
    "print(\"Multiplication\", x * y) # Multiplication\n",
    "print(\"Modulus\", x % y) # Modulus\n",
    "print(\"Exponential\", x ** y) # Exponential\n",
    "print(\"Floor division\", x //y ) # Floor division"
   ]
  },
  {
   "cell_type": "code",
   "execution_count": null,
   "id": "b453d5e1-3619-45e2-a840-2372a050cfd6",
   "metadata": {},
   "outputs": [],
   "source": []
  },
  {
   "cell_type": "markdown",
   "id": "1ac0a4fe-1d02-4cda-9d8c-aafa552f9ec4",
   "metadata": {},
   "source": [
    "### 4. Relational Opearator: Compares two values and gives you boolean value"
   ]
  },
  {
   "cell_type": "code",
   "execution_count": 11,
   "id": "39ccd9ec-01a4-4e7b-a1e5-a933e17eaeb9",
   "metadata": {},
   "outputs": [],
   "source": [
    "x = 10\n",
    "y = 5"
   ]
  },
  {
   "cell_type": "code",
   "execution_count": 12,
   "id": "b1ff6d86-9f01-427f-8764-976e43fc10cd",
   "metadata": {},
   "outputs": [
    {
     "name": "stdout",
     "output_type": "stream",
     "text": [
      "True\n",
      "False\n",
      "True\n",
      "False\n",
      "True\n",
      "False\n"
     ]
    }
   ],
   "source": [
    "print(x > y)\n",
    "print(x < y)\n",
    "print(x != y)\n",
    "print(x == y)\n",
    "print(x >= y)\n",
    "print(x <= y)"
   ]
  },
  {
   "cell_type": "markdown",
   "id": "a74e0394-9d5c-4f29-b8a2-47fdb0852df5",
   "metadata": {},
   "source": [
    "### 5. Logical operator: Used to combine conditional statements "
   ]
  },
  {
   "cell_type": "code",
   "execution_count": 13,
   "id": "2ae16a7b-a8bc-4786-9ffe-da0d9e0e0403",
   "metadata": {},
   "outputs": [],
   "source": [
    "x = True # 1\n",
    "y = False # 0"
   ]
  },
  {
   "cell_type": "code",
   "execution_count": 14,
   "id": "34407abe-2dff-413a-8c02-8a33e0a401d3",
   "metadata": {},
   "outputs": [
    {
     "name": "stdout",
     "output_type": "stream",
     "text": [
      "False\n",
      "True\n",
      "False\n"
     ]
    }
   ],
   "source": [
    "print(x and y)\n",
    "print(x or y)\n",
    "print(not x)"
   ]
  },
  {
   "cell_type": "markdown",
   "id": "4965a82d-4f55-47ab-984c-ca0a56b79294",
   "metadata": {},
   "source": [
    "### 6. Arithmatic assignment operator: eg +=, -=, *=,/="
   ]
  },
  {
   "cell_type": "code",
   "execution_count": 15,
   "id": "9a3d209d-ef76-48c9-8945-b2fccbbffc2a",
   "metadata": {},
   "outputs": [
    {
     "data": {
      "text/plain": [
       "15"
      ]
     },
     "execution_count": 15,
     "metadata": {},
     "output_type": "execute_result"
    }
   ],
   "source": [
    "x = 10\n",
    "\n",
    "x += 5 # x = x + 5\n",
    "x"
   ]
  },
  {
   "cell_type": "code",
   "execution_count": 17,
   "id": "e7303fff-4a0e-441f-9938-3f47ddf1767f",
   "metadata": {},
   "outputs": [
    {
     "data": {
      "text/plain": [
       "50"
      ]
     },
     "execution_count": 17,
     "metadata": {},
     "output_type": "execute_result"
    }
   ],
   "source": [
    "a = 10\n",
    "a *= 5 # a = a*5\n",
    "a"
   ]
  },
  {
   "cell_type": "markdown",
   "id": "bfca74d7-aca5-4ce2-a3c5-e15f7340cf33",
   "metadata": {},
   "source": [
    "### 7. Bitwise Operator"
   ]
  },
  {
   "cell_type": "code",
   "execution_count": 18,
   "id": "459d4d0b-b2c2-4d55-8fbf-dff0472a2b57",
   "metadata": {},
   "outputs": [],
   "source": [
    "x = 5\n",
    "y = 3"
   ]
  },
  {
   "cell_type": "code",
   "execution_count": 20,
   "id": "aafbf01e-8880-4414-996c-17349b53000e",
   "metadata": {},
   "outputs": [
    {
     "name": "stdout",
     "output_type": "stream",
     "text": [
      "1\n",
      "7\n",
      "6\n",
      "-6\n",
      "10\n",
      "2\n"
     ]
    }
   ],
   "source": [
    "print(x & y)\n",
    "print(x | y)\n",
    "print(x ^ y)\n",
    "print(~x)\n",
    "print(x << 1)\n",
    "print(x >> 1)"
   ]
  },
  {
   "cell_type": "raw",
   "id": "ba261779-f558-4eaf-a47c-9e0ddc8424c5",
   "metadata": {},
   "source": [
    "Explanation of print(x & y)\n",
    ". . . 128 64 32 16 8 4 2 1\n",
    "               5 = 0 1 0 1   \n",
    "               3 = 0 0 1 1\n",
    "            -----------------\n",
    "                   0 0 0 1\n",
    "            -----------------"
   ]
  },
  {
   "cell_type": "markdown",
   "id": "7b65040a-6311-4a12-a080-76231676c27e",
   "metadata": {},
   "source": [
    "## **Control statement**\n",
    "Control statement alters the flow of execution of a program. It generally includes statements like if, else or loops for while loop, and jump statements like break, continue, return."
   ]
  },
  {
   "cell_type": "markdown",
   "id": "6a72b7da-b519-4047-93aa-7117996aea5a",
   "metadata": {},
   "source": [
    "### If else"
   ]
  },
  {
   "cell_type": "raw",
   "id": "32dc516f-0b8f-4046-84db-9ea5763ca2da",
   "metadata": {},
   "source": [
    "if condition:\n",
    "    Do something\n",
    "else:\n",
    "    Don this"
   ]
  },
  {
   "cell_type": "code",
   "execution_count": 21,
   "id": "d265254e-388e-4f18-8b97-0857c62e9c5f",
   "metadata": {},
   "outputs": [
    {
     "name": "stdout",
     "output_type": "stream",
     "text": [
      "Huurray\n"
     ]
    }
   ],
   "source": [
    "if 5 > 3:\n",
    "    print(\"Huurray\")\n",
    "else:\n",
    "    print(\"Not Hurray\")"
   ]
  },
  {
   "cell_type": "code",
   "execution_count": 26,
   "id": "260d31f8-3511-4c8b-ba3e-88de96191baa",
   "metadata": {},
   "outputs": [
    {
     "name": "stdout",
     "output_type": "stream",
     "text": [
      "No\n"
     ]
    }
   ],
   "source": [
    "if False:\n",
    "    print(\"Yes\")\n",
    "else:\n",
    "    print(\"No\")"
   ]
  },
  {
   "cell_type": "code",
   "execution_count": 29,
   "id": "22d01ca8-360a-497f-af92-71af5a9ee3f1",
   "metadata": {},
   "outputs": [
    {
     "name": "stdin",
     "output_type": "stream",
     "text": [
      "ENter the number:  -10\n"
     ]
    },
    {
     "name": "stdout",
     "output_type": "stream",
     "text": [
      "The number is less than 10\n"
     ]
    }
   ],
   "source": [
    "num = int(input(\"ENter the number: \"))\n",
    "if num > 10:\n",
    "    print(\"The number user printed is greater than 10\")\n",
    "else: \n",
    "    print(\"The number is less than 10\")"
   ]
  },
  {
   "cell_type": "markdown",
   "id": "462e1714-0ecd-412b-b7a0-897bb749003c",
   "metadata": {},
   "source": [
    "### If, elif, elif, ... , else"
   ]
  },
  {
   "cell_type": "code",
   "execution_count": 32,
   "id": "103e2ec8-c1e8-4680-ab17-c947525173aa",
   "metadata": {},
   "outputs": [
    {
     "name": "stdin",
     "output_type": "stream",
     "text": [
      "Enter the number -9\n"
     ]
    },
    {
     "name": "stdout",
     "output_type": "stream",
     "text": [
      "The number is less than 10\n"
     ]
    }
   ],
   "source": [
    "num = int(input(\"Enter the number\"))\n",
    "if num > 10:\n",
    "    print(\"The number is greater than 10\")\n",
    "elif num == 10:\n",
    "    print(\"The number is equal to 10\")\n",
    "else:\n",
    "    print(\"The number is less than 10\")"
   ]
  },
  {
   "cell_type": "markdown",
   "id": "83555d09-eb25-43fb-84a7-48000d1d7476",
   "metadata": {},
   "source": [
    "## **Practice Question for if- else**\n",
    "### **Basic Questions**\n",
    "1. Write a program that takes an integer input from the user and prints whether it is **positive**, **negative**, or **zero**.\n",
    "2. Write a program that asks for a number and prints whether it is **even** or **odd**.\n",
    "3. Ask the user to enter their age and determine if they are **a child (0-12 years)**, **a teenager (13-19 years)**, **an adult (20-59 years)**, or **a senior citizen (60+ years)**.\n",
    "\n",
    "### **Intermediate Questions**\n",
    "4. Write a program that asks for a score (0-100) and prints the corresponding **grade**:\n",
    "   - 90-100: A\n",
    "   - 80-89: B\n",
    "   - 70-79: C\n",
    "   - 60-69: D\n",
    "   - Below 60: F\n",
    "5. Ask the user for a year and determine whether it is a **leap year** or not.\n",
    "6. Write a program that asks for the temperature and prints whether it is **Cold (<15°C), Warm (15-25°C), or Hot (>25°C)**.\n",
    "7. Ask the user to input a character and check if it is a **vowel (a, e, i, o, u)** or a **consonant**.\n",
    "\n",
    "### **Advanced Questions**\n",
    "8. Write a program that takes three numbers as input and prints the **largest** among them.\n",
    "9. Write a program that checks if a triangle is **equilateral (all sides equal)**, **isosceles (two sides equal)**, or **scalene (no sides equal)**.\n",
    "10. Create a program that asks for a username and password. If the username is `\"admin\"` and the password is `\"password123\"`, print `\"Login successful\"`; otherwise, print `\"Invalid credentials\"`.\n"
   ]
  },
  {
   "cell_type": "code",
   "execution_count": 35,
   "id": "1b06ce1b-7f29-414b-aeda-0d3fc6172888",
   "metadata": {},
   "outputs": [
    {
     "name": "stdin",
     "output_type": "stream",
     "text": [
      "Enter the number:  -10\n"
     ]
    },
    {
     "name": "stdout",
     "output_type": "stream",
     "text": [
      "The number is negetive\n"
     ]
    }
   ],
   "source": [
    "# 1. Write a program that takes an integer input from the user and prints whether it is positive, negative, or zero.\n",
    "\n",
    "num = float(input(\"Enter the number: \"))\n",
    "if num > 0:\n",
    "    print(\"The number is positive\")\n",
    "elif num == 0:\n",
    "    print(\"The number is 0\")\n",
    "else:\n",
    "    print(\"The number is negetive\")"
   ]
  },
  {
   "cell_type": "code",
   "execution_count": 43,
   "id": "6f89e128-8014-4406-84bf-49c502f31209",
   "metadata": {},
   "outputs": [
    {
     "name": "stdin",
     "output_type": "stream",
     "text": [
      "Enter the number 10\n"
     ]
    },
    {
     "name": "stdout",
     "output_type": "stream",
     "text": [
      "The number is even\n"
     ]
    }
   ],
   "source": [
    "# 2. Write a program that asks for a number and prints whether it is **even** or **odd**.\n",
    "num = int(input(\"Enter the number\"))\n",
    "if num % 2 == 0:\n",
    "    print(\"The number is even\")\n",
    "else:\n",
    "    print(\"The number is odd\")"
   ]
  },
  {
   "cell_type": "code",
   "execution_count": 51,
   "id": "66f27445-1a2a-41c0-871f-59af75c03e5b",
   "metadata": {},
   "outputs": [
    {
     "name": "stdin",
     "output_type": "stream",
     "text": [
      "Enter an alphabet p\n"
     ]
    },
    {
     "name": "stdout",
     "output_type": "stream",
     "text": [
      "Consonent\n"
     ]
    }
   ],
   "source": [
    "# 7. Ask the user to input a character and check if it is a vowel (a, e, i, o, u) or a consonant.\n",
    "\n",
    "char = input(\"Enter an alphabet\")\n",
    "if char in \"aeiou\":\n",
    "    print(\"Vowel\")\n",
    "else:\n",
    "    print(\"Consonent\")"
   ]
  },
  {
   "cell_type": "markdown",
   "id": "7854e9e5-8fa5-4970-91f6-6421fa3a470d",
   "metadata": {},
   "source": [
    "### Nested if else"
   ]
  },
  {
   "cell_type": "code",
   "execution_count": 55,
   "id": "0752fc47-1f92-4d8b-a2e2-5f688e829c98",
   "metadata": {},
   "outputs": [
    {
     "name": "stdin",
     "output_type": "stream",
     "text": [
      "Enter the first side:  10\n",
      "Enter the second side:  10\n",
      "Enter the third side:  12\n"
     ]
    },
    {
     "name": "stdout",
     "output_type": "stream",
     "text": [
      "The triangle is valid\n",
      "Isosceles triangle\n"
     ]
    }
   ],
   "source": [
    "### 9. Write a program that checks if a triangle is equilateral (all sides equal), isosceles (two sides equal), or scalene (no sides equal).\n",
    "# Conditio 1 = Sum of any two sides should be greater than the third side\n",
    "\n",
    "a = int(input(\"Enter the first side: \"))\n",
    "b = int(input(\"Enter the second side: \"))\n",
    "c = int(input(\"Enter the third side: \"))\n",
    "\n",
    "if a + b > c and b + c > a and a + c > b:\n",
    "    print(\"The triangle is valid\")\n",
    "    if a == b == c:\n",
    "        print(\"Equilateral triangle\")\n",
    "    elif a == b or b == c or a == c:\n",
    "        print(\"Isosceles triangle\")\n",
    "    else:\n",
    "        print(\"Scalen triangle\")\n",
    "else:\n",
    "    print(\"The triangle is not valid\")"
   ]
  },
  {
   "cell_type": "markdown",
   "id": "06d87fc9-4a53-4bf6-9708-da046d54d269",
   "metadata": {},
   "source": [
    "11. A company gives a bonus to its employees based on their years of service. The bonus is calculated as follows:  \n",
    "- If the service is *more than 10 years, the bonus is **10%* of the salary.  \n",
    "- If the service is *between 6 and 10 years, the bonus is **8%* of the salary.  \n",
    "- If the service is *less than 6 years, the bonus is **5%* of the salary.  \n",
    "\n",
    "Write a Python program that takes the employee's salary and years of service as input and calculates the bonus amount."
   ]
  },
  {
   "cell_type": "code",
   "execution_count": 3,
   "id": "063231b7-8ec6-48df-8364-9589d3bfc45c",
   "metadata": {},
   "outputs": [
    {
     "name": "stdin",
     "output_type": "stream",
     "text": [
      "Enter the number of years served:  6\n",
      "Enter the salary:  50000\n"
     ]
    },
    {
     "name": "stdout",
     "output_type": "stream",
     "text": [
      "The bonus you have got is:  4000.0\n"
     ]
    }
   ],
   "source": [
    "year = int(input(\"Enter the number of years served: \"))\n",
    "salary = int(input(\"Enter the salary: \"))\n",
    "\n",
    "if year >= 10:\n",
    "    bonus = (10*salary)/100\n",
    "    print(\"The bonus you have got is: \", bonus)\n",
    "elif 6 <= year < 10:\n",
    "    bonus = (8*salary)/100\n",
    "    print(\"The bonus you have got is: \", bonus)\n",
    "if year < 6:\n",
    "    bonus = (5*salary)/100\n",
    "    print(\"The bonus you have got is: \", bonus)"
   ]
  },
  {
   "cell_type": "markdown",
   "id": "216a7477-9ea5-479a-a98f-63ab89fc897a",
   "metadata": {},
   "source": [
    "### **For and While loop**\n",
    "For loop\n",
    "1. For loop works on ranges and sequences\n",
    "2. In For loop, the number of iterations are known.\n",
    "3. The counter management is automatic in for loop.\n",
    "4. For loop stops when the iteration is out of range or sequence.\n",
    "\n",
    "While loop\n",
    "1. While loop works on a condtion.\n",
    "2. While loop works when the number of iteration is unknown.\n",
    "3. The counter managemnet is manual.\n",
    "4. While loop stops whent the condition becomes false."
   ]
  },
  {
   "cell_type": "code",
   "execution_count": 57,
   "id": "036387fe-fbd3-466f-9aab-334d39151794",
   "metadata": {},
   "outputs": [
    {
     "name": "stdout",
     "output_type": "stream",
     "text": [
      "1\n",
      "2\n",
      "3\n",
      "4\n",
      "5\n",
      "6\n",
      "7\n",
      "8\n",
      "9\n",
      "10\n"
     ]
    }
   ],
   "source": [
    "for i in range(1,11):\n",
    "    print(i)"
   ]
  },
  {
   "cell_type": "code",
   "execution_count": 58,
   "id": "75a4823a-95a3-46b8-8963-cb299447e17d",
   "metadata": {},
   "outputs": [
    {
     "name": "stdout",
     "output_type": "stream",
     "text": [
      "1\n",
      "2\n",
      "3\n",
      "4\n",
      "5\n",
      "6\n",
      "7\n",
      "8\n",
      "9\n",
      "10\n"
     ]
    }
   ],
   "source": [
    "i = 1\n",
    "while i <= 10:\n",
    "    print(i)\n",
    "    i += 1"
   ]
  },
  {
   "cell_type": "raw",
   "id": "728b2037-d65f-4ac2-9017-d4f3b77a2d12",
   "metadata": {},
   "source": [
    "For loop\n",
    "for var in sequence/range:\n",
    "    Do something\n",
    "\n",
    "While loop\n",
    "while condition:\n",
    "    Do something"
   ]
  },
  {
   "cell_type": "code",
   "execution_count": 60,
   "id": "e97302c6-513a-472f-878c-004da053f60d",
   "metadata": {},
   "outputs": [
    {
     "name": "stdout",
     "output_type": "stream",
     "text": [
      "1\n",
      "2\n",
      "3\n",
      "4\n",
      "5\n",
      "6\n",
      "7\n",
      "8\n",
      "9\n",
      "10\n"
     ]
    }
   ],
   "source": [
    "for i in range(1,11):\n",
    "    print(i)"
   ]
  },
  {
   "cell_type": "code",
   "execution_count": 64,
   "id": "2c7966fc-80a2-4271-b90c-1d8610b1087a",
   "metadata": {},
   "outputs": [
    {
     "name": "stdin",
     "output_type": "stream",
     "text": [
      "Enter the number q\n"
     ]
    }
   ],
   "source": [
    "while True:\n",
    "    n = input(\"Enter the number\")\n",
    "    if n == 'q':\n",
    "        break\n",
    "    print(n)"
   ]
  },
  {
   "cell_type": "code",
   "execution_count": 66,
   "id": "bfdbbf5a-a701-448d-b1f1-56f91e1f9916",
   "metadata": {},
   "outputs": [
    {
     "name": "stdout",
     "output_type": "stream",
     "text": [
      "1\n",
      "2\n",
      "3\n",
      "4\n",
      "5\n",
      "6\n",
      "7\n",
      "8\n",
      "9\n",
      "10\n"
     ]
    }
   ],
   "source": [
    "i = 1\n",
    "while i <= 10:\n",
    "    print(i)\n",
    "    i += 1"
   ]
  },
  {
   "cell_type": "code",
   "execution_count": 68,
   "id": "d3bf0f76-4035-4c30-973e-831155b790f1",
   "metadata": {},
   "outputs": [
    {
     "name": "stdout",
     "output_type": "stream",
     "text": [
      "1\n",
      "2\n",
      "3\n",
      "4\n",
      "5\n",
      "6\n",
      "7\n",
      "8\n",
      "9\n",
      "10\n"
     ]
    }
   ],
   "source": [
    "for i in range(1,11):\n",
    "    print(i)"
   ]
  },
  {
   "cell_type": "markdown",
   "id": "ab6cc7da-3233-4d6d-8d83-ae023789a62a",
   "metadata": {},
   "source": [
    "### Practice question for for loop\n",
    "1. Write a program to print numbers from 1 to 10 using a for loop.\n",
    "2. Write a program to find the sum of the first 10 natural numbers using a for loop.\n",
    "3. Write a program to print all even numbers between 1 and 20 using a for loop.\n",
    "4. Write a program to print the multiplication table of a given number (e.g., 5)."
   ]
  },
  {
   "cell_type": "code",
   "execution_count": 70,
   "id": "ead1c966-2254-4775-8bcb-c1762ff74fd7",
   "metadata": {},
   "outputs": [
    {
     "name": "stdout",
     "output_type": "stream",
     "text": [
      "5 * 1 = 5\n",
      "5 * 2 = 10\n",
      "5 * 3 = 15\n",
      "5 * 4 = 20\n",
      "5 * 5 = 25\n",
      "5 * 6 = 30\n",
      "5 * 7 = 35\n",
      "5 * 8 = 40\n",
      "5 * 9 = 45\n",
      "5 * 10 = 50\n"
     ]
    }
   ],
   "source": [
    "for i in range(1,11):\n",
    "    print(\"5 *\",i,\"=\", 5 * i)"
   ]
  },
  {
   "cell_type": "code",
   "execution_count": 76,
   "id": "f77f7313-3d7a-47c3-8aed-b02be733e76a",
   "metadata": {},
   "outputs": [
    {
     "name": "stdout",
     "output_type": "stream",
     "text": [
      "5\n",
      "10\n",
      "15\n",
      "20\n",
      "25\n",
      "30\n",
      "35\n",
      "40\n",
      "45\n",
      "50\n"
     ]
    }
   ],
   "source": [
    "for i in range(5,51,5):\n",
    "    print(i)"
   ]
  },
  {
   "cell_type": "code",
   "execution_count": 6,
   "id": "97d4782b-e0f4-424d-803f-7e930061318e",
   "metadata": {},
   "outputs": [
    {
     "data": {
      "text/plain": [
       "list"
      ]
     },
     "execution_count": 6,
     "metadata": {},
     "output_type": "execute_result"
    }
   ],
   "source": [
    "a = [1,2,3,4,5,6,7]\n",
    "type(a)"
   ]
  },
  {
   "cell_type": "code",
   "execution_count": 7,
   "id": "ae1f5e0e-9062-47d8-b50a-8309788c9641",
   "metadata": {},
   "outputs": [
    {
     "name": "stdout",
     "output_type": "stream",
     "text": [
      "1\n",
      "2\n",
      "3\n",
      "4\n",
      "5\n",
      "6\n",
      "7\n"
     ]
    }
   ],
   "source": [
    "for i in a:\n",
    "    print(i)"
   ]
  },
  {
   "cell_type": "code",
   "execution_count": 13,
   "id": "54815057-f202-43cf-8b58-cc5b80a4cd85",
   "metadata": {},
   "outputs": [
    {
     "name": "stdout",
     "output_type": "stream",
     "text": [
      "110\n"
     ]
    }
   ],
   "source": [
    "# Write a program to find the sum of the first 10 natural numbers using a for loop.\n",
    "# 1+2+3+4+5+6+7+8+9+10 = 55\n",
    "\n",
    "#sum = 0\n",
    "for i in range(1, 11):\n",
    "    sum = sum + i\n",
    "print(sum)"
   ]
  },
  {
   "cell_type": "code",
   "execution_count": 18,
   "id": "63fe9348-08cb-4ba6-8402-11100a66a9cd",
   "metadata": {},
   "outputs": [
    {
     "name": "stdout",
     "output_type": "stream",
     "text": [
      "55\n"
     ]
    }
   ],
   "source": [
    "sum1 = 0\n",
    "for i in range(1, 11):\n",
    "    sum1 = sum1 + i\n",
    "print(sum1)"
   ]
  },
  {
   "cell_type": "code",
   "execution_count": 24,
   "id": "4b2c5333-7ba5-49a0-9d80-26d32b13969d",
   "metadata": {},
   "outputs": [
    {
     "name": "stdin",
     "output_type": "stream",
     "text": [
      "Enter the number:  2\n"
     ]
    },
    {
     "name": "stdout",
     "output_type": "stream",
     "text": [
      "3\n"
     ]
    }
   ],
   "source": [
    "num = int(input(\"Enter the number: \"))\n",
    "sum = 0\n",
    "for i in range(1,num+1):\n",
    "    sum = sum + i\n",
    "print(sum)"
   ]
  },
  {
   "cell_type": "code",
   "execution_count": 27,
   "id": "cdf79bb9-f66a-4597-9cd2-caac7d508d78",
   "metadata": {},
   "outputs": [
    {
     "name": "stdout",
     "output_type": "stream",
     "text": [
      "2\n",
      "4\n",
      "6\n",
      "8\n",
      "10\n",
      "12\n",
      "14\n",
      "16\n",
      "18\n",
      "20\n"
     ]
    }
   ],
   "source": [
    "# 3. Write a program to print all even numbers between 1 and 20 using a for loop.\n",
    "\n",
    "for i in range(2,21,2):\n",
    "    print(i)"
   ]
  },
  {
   "cell_type": "code",
   "execution_count": 36,
   "id": "79c63309-d4d6-491b-8a5d-f075b326e4f1",
   "metadata": {},
   "outputs": [
    {
     "name": "stdout",
     "output_type": "stream",
     "text": [
      "2\n",
      "4\n",
      "6\n",
      "8\n",
      "10\n",
      "12\n",
      "14\n",
      "16\n",
      "18\n",
      "20\n"
     ]
    }
   ],
   "source": [
    "for i in range(1,21):\n",
    "    if i % 2 == 0:\n",
    "        print(i)"
   ]
  },
  {
   "cell_type": "markdown",
   "id": "7e025464-9df5-4141-b4c9-45f23e97bf72",
   "metadata": {},
   "source": [
    "### What is prime number: The numbers whose factor is 1 and number itself.\n",
    "3 = 1,3 prime number<br>\n",
    "4 = 1,2,4 not a prime number<br>\n",
    "5 = 1,5 prime number<br>\n",
    ".<br>\n",
    ".<br>\n",
    ".<br>\n",
    "16 = 1,2,4,8,16 not a prime number<br>\n",
    "17 = 1,17 prime number<br>\n",
    ".<br>\n",
    ".<br>\n",
    ".<br>"
   ]
  },
  {
   "cell_type": "code",
   "execution_count": 43,
   "id": "b358d0b5-1f85-4a25-a091-4714175b05b3",
   "metadata": {},
   "outputs": [
    {
     "name": "stdin",
     "output_type": "stream",
     "text": [
      "Entet the number:  17\n"
     ]
    },
    {
     "name": "stdout",
     "output_type": "stream",
     "text": [
      "Then number is prime\n"
     ]
    }
   ],
   "source": [
    "num = int(input(\"Entet the number: \"))\n",
    "for i in range(2,num):\n",
    "    if num % i == 0:\n",
    "        print(\"The number is not prime\")\n",
    "        break\n",
    "else:\n",
    "    print(\"Then number is prime\")  "
   ]
  },
  {
   "cell_type": "markdown",
   "id": "c664465d-4122-4c2c-a795-0ffdbf8408ff",
   "metadata": {},
   "source": [
    "### Write a python code to find the factorial of a number.\n",
    "eg. Factorial of 5 = 5! = 5 * 4 * 3 * 2 * 1"
   ]
  },
  {
   "cell_type": "code",
   "execution_count": 47,
   "id": "317a1eb3-6405-4fc3-a3cb-e8168a57b901",
   "metadata": {},
   "outputs": [
    {
     "name": "stdin",
     "output_type": "stream",
     "text": [
      "Enter the number:  5\n"
     ]
    },
    {
     "name": "stdout",
     "output_type": "stream",
     "text": [
      "120\n"
     ]
    }
   ],
   "source": [
    "num = int(input(\"Enter the number: \"))\n",
    "\n",
    "fact = 1\n",
    "for i in range(2, num + 1):\n",
    "    fact = fact * i\n",
    "print(fact)"
   ]
  },
  {
   "cell_type": "markdown",
   "id": "d3743ded-a2e7-4a47-990a-0844134e2c33",
   "metadata": {},
   "source": [
    "### **Built in data types in python.**\n",
    "1. Lists\n",
    "2. Tuples\n",
    "3. Set\n",
    "4. Frozenset\n",
    "5. Dictionary\n",
    "\n",
    "### Data Types\n",
    "1. Int\n",
    "2. float\n",
    "3. string\n",
    "4. complex\n",
    "5. Boolean\n",
    "6. Nonetype"
   ]
  },
  {
   "cell_type": "markdown",
   "id": "025263a8-ab64-4a68-8b7c-60e8e25e7fba",
   "metadata": {},
   "source": [
    "### 1. Lists: \n",
    "Lists represents an ordered and mutable collection of elements. These are enclosed in Square brackets. Any king of data types can be stores in lists.<br>\n",
    "Indexing in python starts from 0."
   ]
  },
  {
   "cell_type": "code",
   "execution_count": 49,
   "id": "6b4dfc1f-f3ba-402a-ab16-3a01bd873472",
   "metadata": {},
   "outputs": [
    {
     "data": {
      "text/plain": [
       "list"
      ]
     },
     "execution_count": 49,
     "metadata": {},
     "output_type": "execute_result"
    }
   ],
   "source": [
    "a = [1,2,3,4,5]\n",
    "type(a)"
   ]
  },
  {
   "cell_type": "code",
   "execution_count": 52,
   "id": "e26f112c-ada0-4b83-b02b-7859cd8c1027",
   "metadata": {},
   "outputs": [
    {
     "data": {
      "text/plain": [
       "4"
      ]
     },
     "execution_count": 52,
     "metadata": {},
     "output_type": "execute_result"
    }
   ],
   "source": [
    "a[3]"
   ]
  },
  {
   "cell_type": "code",
   "execution_count": 54,
   "id": "fb8f6d0c-7186-4ec6-9a8c-02611900624d",
   "metadata": {},
   "outputs": [
    {
     "data": {
      "text/plain": [
       "5"
      ]
     },
     "execution_count": 54,
     "metadata": {},
     "output_type": "execute_result"
    }
   ],
   "source": [
    "# Length of a list\n",
    "len(a)"
   ]
  },
  {
   "cell_type": "code",
   "execution_count": 55,
   "id": "d177c377-ae01-4ef2-a685-235c90d66389",
   "metadata": {},
   "outputs": [
    {
     "data": {
      "text/plain": [
       "5"
      ]
     },
     "execution_count": 55,
     "metadata": {},
     "output_type": "execute_result"
    }
   ],
   "source": [
    "a[len(a) - 1]"
   ]
  },
  {
   "cell_type": "code",
   "execution_count": 56,
   "id": "b7e31455-6ea4-4a8f-8190-61f403b77235",
   "metadata": {},
   "outputs": [
    {
     "data": {
      "text/plain": [
       "5"
      ]
     },
     "execution_count": 56,
     "metadata": {},
     "output_type": "execute_result"
    }
   ],
   "source": [
    "a[4]"
   ]
  },
  {
   "cell_type": "code",
   "execution_count": 57,
   "id": "3695a8d3-838f-430a-bdc4-2610a7a92780",
   "metadata": {},
   "outputs": [],
   "source": [
    "a[0] = 100"
   ]
  },
  {
   "cell_type": "code",
   "execution_count": 59,
   "id": "92162efb-aa43-46a6-83a3-736e18dc5b2b",
   "metadata": {},
   "outputs": [],
   "source": [
    "a[len(a) -1] = 500"
   ]
  },
  {
   "cell_type": "code",
   "execution_count": 60,
   "id": "f45a8c8f-3faa-4c47-8e79-b2d5d0dedf9b",
   "metadata": {},
   "outputs": [
    {
     "data": {
      "text/plain": [
       "[100, 2, 3, 4, 500]"
      ]
     },
     "execution_count": 60,
     "metadata": {},
     "output_type": "execute_result"
    }
   ],
   "source": [
    "a"
   ]
  },
  {
   "cell_type": "code",
   "execution_count": 61,
   "id": "7929e8ec-e7f7-4e10-864d-2c92e0106bc4",
   "metadata": {},
   "outputs": [],
   "source": [
    "a = [1,2,3, 5.5, 4.98, \"Python\", 4 + 5j, True, None, False]"
   ]
  },
  {
   "cell_type": "code",
   "execution_count": 63,
   "id": "8ab93e35-760e-463b-b865-adf25a42d376",
   "metadata": {},
   "outputs": [
    {
     "data": {
      "text/plain": [
       "list"
      ]
     },
     "execution_count": 63,
     "metadata": {},
     "output_type": "execute_result"
    }
   ],
   "source": [
    "type(a)"
   ]
  },
  {
   "cell_type": "markdown",
   "id": "935bb037-0b97-415e-ab57-2e112d5582bb",
   "metadata": {},
   "source": [
    "### Creating a list using range()"
   ]
  },
  {
   "cell_type": "code",
   "execution_count": 64,
   "id": "4b0d50d7-f459-4461-828d-76f4c13c49eb",
   "metadata": {},
   "outputs": [],
   "source": [
    "b = list(range(1,11))"
   ]
  },
  {
   "cell_type": "code",
   "execution_count": 65,
   "id": "73ba8ee7-b9f8-4de1-8fe3-fef25b1c6e97",
   "metadata": {},
   "outputs": [
    {
     "data": {
      "text/plain": [
       "[1, 2, 3, 4, 5, 6, 7, 8, 9, 10]"
      ]
     },
     "execution_count": 65,
     "metadata": {},
     "output_type": "execute_result"
    }
   ],
   "source": [
    "b"
   ]
  },
  {
   "cell_type": "markdown",
   "id": "782c5690-3655-40f4-b62d-5e03158aabf5",
   "metadata": {},
   "source": [
    "### updating elements in the list"
   ]
  },
  {
   "cell_type": "code",
   "execution_count": 66,
   "id": "073ef63a-666e-4908-8e20-a7dab6c4827f",
   "metadata": {},
   "outputs": [],
   "source": [
    "b[0] = 1000"
   ]
  },
  {
   "cell_type": "code",
   "execution_count": 67,
   "id": "36227105-2dd7-420c-8ec3-a14a22fdbb89",
   "metadata": {},
   "outputs": [
    {
     "data": {
      "text/plain": [
       "[1000, 2, 3, 4, 5, 6, 7, 8, 9, 10]"
      ]
     },
     "execution_count": 67,
     "metadata": {},
     "output_type": "execute_result"
    }
   ],
   "source": [
    "b"
   ]
  },
  {
   "cell_type": "markdown",
   "id": "3c8b9141-5a64-4cee-8bb7-3aea79b4773d",
   "metadata": {},
   "source": [
    "### Methods to process lists "
   ]
  },
  {
   "cell_type": "code",
   "execution_count": 76,
   "id": "e40ae09c-52e2-4973-814d-ea4408a8fa98",
   "metadata": {},
   "outputs": [],
   "source": [
    "list1 = [1,2,3]\n",
    "list1.append(4)\n",
    "list1.insert(1,100)\n",
    "list1.pop()\n",
    "list1.remove(100)\n",
    "list1.clear()"
   ]
  },
  {
   "cell_type": "code",
   "execution_count": 77,
   "id": "4a84d5cb-1b5f-450a-8574-a7bff142f93f",
   "metadata": {},
   "outputs": [
    {
     "data": {
      "text/plain": [
       "[]"
      ]
     },
     "execution_count": 77,
     "metadata": {},
     "output_type": "execute_result"
    }
   ],
   "source": [
    "list1"
   ]
  },
  {
   "cell_type": "markdown",
   "id": "640e60bc-c2c5-41e0-82d0-6890a4508cb5",
   "metadata": {},
   "source": [
    "### To find the smalles and largest of a list"
   ]
  },
  {
   "cell_type": "code",
   "execution_count": 78,
   "id": "727d950f-8795-4d49-8053-9a6149a41d61",
   "metadata": {},
   "outputs": [],
   "source": [
    "b = [1,2,3,4,66,7245,3246,347,513,235]"
   ]
  },
  {
   "cell_type": "code",
   "execution_count": 79,
   "id": "819d6f99-3ad5-4fd6-b396-821df389181d",
   "metadata": {},
   "outputs": [
    {
     "data": {
      "text/plain": [
       "7245"
      ]
     },
     "execution_count": 79,
     "metadata": {},
     "output_type": "execute_result"
    }
   ],
   "source": [
    "max(b)"
   ]
  },
  {
   "cell_type": "code",
   "execution_count": 80,
   "id": "a09be0b9-4374-4945-94f5-e25fcc216a5f",
   "metadata": {},
   "outputs": [
    {
     "data": {
      "text/plain": [
       "1"
      ]
     },
     "execution_count": 80,
     "metadata": {},
     "output_type": "execute_result"
    }
   ],
   "source": [
    "min(b)"
   ]
  },
  {
   "cell_type": "markdown",
   "id": "b69b636c-b346-47d7-bb0f-a34065558324",
   "metadata": {},
   "source": [
    "### nested lists"
   ]
  },
  {
   "cell_type": "code",
   "execution_count": 81,
   "id": "deb418e6-1f3a-4741-abf2-db97fe81e660",
   "metadata": {},
   "outputs": [],
   "source": [
    "b = [1,2,4,[1,4,5,7,4]]"
   ]
  },
  {
   "cell_type": "code",
   "execution_count": 83,
   "id": "e9168b3a-05cc-4c4e-9e67-d2209605f963",
   "metadata": {},
   "outputs": [
    {
     "data": {
      "text/plain": [
       "list"
      ]
     },
     "execution_count": 83,
     "metadata": {},
     "output_type": "execute_result"
    }
   ],
   "source": [
    "type(b)"
   ]
  },
  {
   "cell_type": "code",
   "execution_count": 89,
   "id": "2665714b-94ca-4ccd-8262-6c3e9b3724f2",
   "metadata": {},
   "outputs": [
    {
     "data": {
      "text/plain": [
       "7"
      ]
     },
     "execution_count": 89,
     "metadata": {},
     "output_type": "execute_result"
    }
   ],
   "source": [
    "b = [1,2,4,[1,4,5,7,4]]\n",
    "b[len(b)-1][len(b[len(b)-1]) - 2]"
   ]
  },
  {
   "cell_type": "code",
   "execution_count": 90,
   "id": "15c9554b-2b36-4859-a8c5-0054d91b700f",
   "metadata": {},
   "outputs": [
    {
     "data": {
      "text/plain": [
       "[1, 2, 4, [1, 4, 5, 7, 4]]"
      ]
     },
     "execution_count": 90,
     "metadata": {},
     "output_type": "execute_result"
    }
   ],
   "source": [
    "b"
   ]
  },
  {
   "cell_type": "code",
   "execution_count": 93,
   "id": "10072a8d-efdd-48c0-b6ac-a6b3a5a1c44b",
   "metadata": {},
   "outputs": [
    {
     "data": {
      "text/plain": [
       "5"
      ]
     },
     "execution_count": 93,
     "metadata": {},
     "output_type": "execute_result"
    }
   ],
   "source": [
    "b[len(b)-1][2]"
   ]
  },
  {
   "cell_type": "markdown",
   "id": "deea5779-e9f1-4c39-9b5d-700cedd06271",
   "metadata": {},
   "source": [
    "### Tuples:\n",
    "Tuples represents the ordered, but immutable collection of elements which are enclosed in round brackets. Any sort of data type can be stored in tuples"
   ]
  },
  {
   "cell_type": "code",
   "execution_count": 94,
   "id": "3fcf6f03-3b99-4805-8cc7-20b3a582a1f9",
   "metadata": {},
   "outputs": [],
   "source": [
    "a = (1,2,3,4,5,7)"
   ]
  },
  {
   "cell_type": "code",
   "execution_count": 95,
   "id": "f0287b46-d531-4956-89fb-65edcf29e2bb",
   "metadata": {},
   "outputs": [
    {
     "data": {
      "text/plain": [
       "1"
      ]
     },
     "execution_count": 95,
     "metadata": {},
     "output_type": "execute_result"
    }
   ],
   "source": [
    "a[0]"
   ]
  },
  {
   "cell_type": "code",
   "execution_count": 96,
   "id": "eb66ecba-8cfe-4ae1-854b-6ebfc6fe06f9",
   "metadata": {},
   "outputs": [
    {
     "data": {
      "text/plain": [
       "7"
      ]
     },
     "execution_count": 96,
     "metadata": {},
     "output_type": "execute_result"
    }
   ],
   "source": [
    "a[len(a) -1]"
   ]
  },
  {
   "cell_type": "code",
   "execution_count": 98,
   "id": "4fa7ca01-20ed-4021-bd9c-5e3d75524828",
   "metadata": {},
   "outputs": [
    {
     "ename": "TypeError",
     "evalue": "'tuple' object does not support item assignment",
     "output_type": "error",
     "traceback": [
      "\u001b[1;31m---------------------------------------------------------------------------\u001b[0m",
      "\u001b[1;31mTypeError\u001b[0m                                 Traceback (most recent call last)",
      "Cell \u001b[1;32mIn[98], line 1\u001b[0m\n\u001b[1;32m----> 1\u001b[0m a[\u001b[38;5;241m0\u001b[39m] \u001b[38;5;241m=\u001b[39m \u001b[38;5;241m5\u001b[39m\n",
      "\u001b[1;31mTypeError\u001b[0m: 'tuple' object does not support item assignment"
     ]
    }
   ],
   "source": [
    "a[0] = 5"
   ]
  },
  {
   "cell_type": "code",
   "execution_count": 99,
   "id": "26f85fb0-3bdb-43f1-98b5-f58658388ba9",
   "metadata": {},
   "outputs": [],
   "source": [
    "a = (1,2,3,4,5)"
   ]
  },
  {
   "cell_type": "code",
   "execution_count": 100,
   "id": "99bdab8c-a139-4e85-a737-eddbe13030bd",
   "metadata": {},
   "outputs": [
    {
     "ename": "AttributeError",
     "evalue": "'tuple' object has no attribute 'append'",
     "output_type": "error",
     "traceback": [
      "\u001b[1;31m---------------------------------------------------------------------------\u001b[0m",
      "\u001b[1;31mAttributeError\u001b[0m                            Traceback (most recent call last)",
      "Cell \u001b[1;32mIn[100], line 1\u001b[0m\n\u001b[1;32m----> 1\u001b[0m a\u001b[38;5;241m.\u001b[39mappend(\u001b[38;5;241m100\u001b[39m)\n",
      "\u001b[1;31mAttributeError\u001b[0m: 'tuple' object has no attribute 'append'"
     ]
    }
   ],
   "source": [
    "a.append(100)"
   ]
  },
  {
   "cell_type": "code",
   "execution_count": 102,
   "id": "672702fd-3453-45f4-b45c-95d0fa400146",
   "metadata": {},
   "outputs": [],
   "source": [
    "b = list(a)"
   ]
  },
  {
   "cell_type": "code",
   "execution_count": 103,
   "id": "86d4ba92-45ac-4105-ae37-3ada9c641287",
   "metadata": {},
   "outputs": [
    {
     "data": {
      "text/plain": [
       "[1, 2, 3, 4, 5]"
      ]
     },
     "execution_count": 103,
     "metadata": {},
     "output_type": "execute_result"
    }
   ],
   "source": [
    "b"
   ]
  },
  {
   "cell_type": "code",
   "execution_count": 104,
   "id": "521af9bd-e2ac-429a-9114-a081b99cdd19",
   "metadata": {},
   "outputs": [
    {
     "data": {
      "text/plain": [
       "list"
      ]
     },
     "execution_count": 104,
     "metadata": {},
     "output_type": "execute_result"
    }
   ],
   "source": [
    "type(b)"
   ]
  },
  {
   "cell_type": "code",
   "execution_count": 105,
   "id": "89ea79bd-f196-4b5d-8499-7bd1119e1390",
   "metadata": {},
   "outputs": [],
   "source": [
    "b.append(100)"
   ]
  },
  {
   "cell_type": "code",
   "execution_count": 106,
   "id": "bbe914dd-8ab3-4177-af31-5a02ef3ccda4",
   "metadata": {},
   "outputs": [
    {
     "data": {
      "text/plain": [
       "[1, 2, 3, 4, 5, 100]"
      ]
     },
     "execution_count": 106,
     "metadata": {},
     "output_type": "execute_result"
    }
   ],
   "source": [
    "b"
   ]
  },
  {
   "cell_type": "code",
   "execution_count": 107,
   "id": "b4369fff-4689-458b-8562-a9efdc531d12",
   "metadata": {},
   "outputs": [],
   "source": [
    "a =tuple(b)"
   ]
  },
  {
   "cell_type": "code",
   "execution_count": 108,
   "id": "636181ea-e404-4ab1-bb31-1d095f26d7fc",
   "metadata": {},
   "outputs": [
    {
     "data": {
      "text/plain": [
       "(1, 2, 3, 4, 5, 100)"
      ]
     },
     "execution_count": 108,
     "metadata": {},
     "output_type": "execute_result"
    }
   ],
   "source": [
    "a "
   ]
  },
  {
   "cell_type": "code",
   "execution_count": 110,
   "id": "49e172af-b48e-468e-b035-b5105404d59e",
   "metadata": {},
   "outputs": [
    {
     "data": {
      "text/plain": [
       "tuple"
      ]
     },
     "execution_count": 110,
     "metadata": {},
     "output_type": "execute_result"
    }
   ],
   "source": [
    "type(a)"
   ]
  },
  {
   "cell_type": "markdown",
   "id": "e7419a15-e420-4805-99e5-507d9209896f",
   "metadata": {},
   "source": [
    "### Functions to process a tuple"
   ]
  },
  {
   "cell_type": "code",
   "execution_count": 111,
   "id": "7eb451b0-d6b0-4058-bff2-dab161e182c5",
   "metadata": {},
   "outputs": [
    {
     "data": {
      "text/plain": [
       "(1, 2, 3, 4, 5, 100)"
      ]
     },
     "execution_count": 111,
     "metadata": {},
     "output_type": "execute_result"
    }
   ],
   "source": [
    "a"
   ]
  },
  {
   "cell_type": "code",
   "execution_count": 112,
   "id": "79d41ee4-f619-4bed-b5bf-56dcc03ebf57",
   "metadata": {},
   "outputs": [
    {
     "data": {
      "text/plain": [
       "6"
      ]
     },
     "execution_count": 112,
     "metadata": {},
     "output_type": "execute_result"
    }
   ],
   "source": [
    "len(a)"
   ]
  },
  {
   "cell_type": "code",
   "execution_count": 113,
   "id": "05e1d3ae-4c1a-45ad-a423-40ebe1b47a07",
   "metadata": {},
   "outputs": [
    {
     "data": {
      "text/plain": [
       "100"
      ]
     },
     "execution_count": 113,
     "metadata": {},
     "output_type": "execute_result"
    }
   ],
   "source": [
    "max(a)"
   ]
  },
  {
   "cell_type": "code",
   "execution_count": 114,
   "id": "740d7770-c480-4157-9d5b-6c376a3e2423",
   "metadata": {},
   "outputs": [
    {
     "data": {
      "text/plain": [
       "1"
      ]
     },
     "execution_count": 114,
     "metadata": {},
     "output_type": "execute_result"
    }
   ],
   "source": [
    "min(a)"
   ]
  },
  {
   "cell_type": "markdown",
   "id": "fb1ef18b-6d11-4c88-8fc6-5952146f9cfd",
   "metadata": {},
   "source": [
    "### Inserting, deleting, or updating the tuplese is not possible because tuples are immutable in nature"
   ]
  },
  {
   "cell_type": "markdown",
   "id": "4d2de9d5-6b0c-463e-b74b-72055fad1691",
   "metadata": {},
   "source": [
    "### Sets\n",
    "Sets represents unordered collection of unique elements. Sets are enclosed in flower brackets. Sets are mutable in nature.<br>\n",
    "any kind of data types can be stored in sets"
   ]
  },
  {
   "cell_type": "code",
   "execution_count": 115,
   "id": "098a0cde-7331-431e-bc71-53b0a925d415",
   "metadata": {},
   "outputs": [],
   "source": [
    "s1 = {1,2 ,4, 4.5, \"Python\", True, 4+5j}"
   ]
  },
  {
   "cell_type": "code",
   "execution_count": 116,
   "id": "c48df0b8-28f0-4d5c-aa7b-ae6ba4a48686",
   "metadata": {},
   "outputs": [
    {
     "data": {
      "text/plain": [
       "set"
      ]
     },
     "execution_count": 116,
     "metadata": {},
     "output_type": "execute_result"
    }
   ],
   "source": [
    "type(s1)"
   ]
  },
  {
   "cell_type": "code",
   "execution_count": 117,
   "id": "39fa7542-6a0c-434b-8a38-0c548a0d2032",
   "metadata": {},
   "outputs": [
    {
     "ename": "TypeError",
     "evalue": "'set' object is not subscriptable",
     "output_type": "error",
     "traceback": [
      "\u001b[1;31m---------------------------------------------------------------------------\u001b[0m",
      "\u001b[1;31mTypeError\u001b[0m                                 Traceback (most recent call last)",
      "Cell \u001b[1;32mIn[117], line 1\u001b[0m\n\u001b[1;32m----> 1\u001b[0m s1[\u001b[38;5;241m0\u001b[39m]\n",
      "\u001b[1;31mTypeError\u001b[0m: 'set' object is not subscriptable"
     ]
    }
   ],
   "source": [
    "s1[0]"
   ]
  },
  {
   "cell_type": "code",
   "execution_count": 118,
   "id": "94d83c07-2db1-4d87-9582-c330a770e3f4",
   "metadata": {},
   "outputs": [],
   "source": [
    "s2 = {1,1,1,1,1,23,4,5,2,2,3,5,5,5,5,6,4,3,3,2,22,3,5}"
   ]
  },
  {
   "cell_type": "code",
   "execution_count": 119,
   "id": "18af68e2-36fe-446d-854b-8a07a9c3d809",
   "metadata": {},
   "outputs": [
    {
     "data": {
      "text/plain": [
       "{1, 2, 3, 4, 5, 6, 22, 23}"
      ]
     },
     "execution_count": 119,
     "metadata": {},
     "output_type": "execute_result"
    }
   ],
   "source": [
    "s2"
   ]
  },
  {
   "cell_type": "code",
   "execution_count": 121,
   "id": "6a49f3d8-fc82-47d5-b630-9db593ed7fd6",
   "metadata": {},
   "outputs": [],
   "source": [
    "s2.add(1000)"
   ]
  },
  {
   "cell_type": "code",
   "execution_count": 122,
   "id": "cc9effa3-5bb9-4add-8c89-8745e2d1afcb",
   "metadata": {},
   "outputs": [
    {
     "data": {
      "text/plain": [
       "{1, 2, 3, 4, 5, 6, 22, 23, 1000}"
      ]
     },
     "execution_count": 122,
     "metadata": {},
     "output_type": "execute_result"
    }
   ],
   "source": [
    "s2"
   ]
  },
  {
   "cell_type": "code",
   "execution_count": 125,
   "id": "4d46914a-6129-4193-9292-ed066ab1f941",
   "metadata": {},
   "outputs": [],
   "source": [
    "s2.update([300])"
   ]
  },
  {
   "cell_type": "code",
   "execution_count": 126,
   "id": "a2da7324-a4d7-48b9-b49c-d10b4d08c7ff",
   "metadata": {},
   "outputs": [
    {
     "data": {
      "text/plain": [
       "{1, 2, 3, 4, 5, 6, 22, 23, 300, 1000}"
      ]
     },
     "execution_count": 126,
     "metadata": {},
     "output_type": "execute_result"
    }
   ],
   "source": [
    "s2"
   ]
  },
  {
   "cell_type": "code",
   "execution_count": 127,
   "id": "d1bb4f6a-7063-42ca-a65d-4ade95da9b9c",
   "metadata": {},
   "outputs": [
    {
     "data": {
      "text/plain": [
       "1"
      ]
     },
     "execution_count": 127,
     "metadata": {},
     "output_type": "execute_result"
    }
   ],
   "source": [
    "s2.pop()"
   ]
  },
  {
   "cell_type": "code",
   "execution_count": 129,
   "id": "da0a7d8d-e021-4977-b26d-0410a88a80f2",
   "metadata": {},
   "outputs": [
    {
     "data": {
      "text/plain": [
       "{2, 3, 4, 5, 6, 22, 23, 300, 1000}"
      ]
     },
     "execution_count": 129,
     "metadata": {},
     "output_type": "execute_result"
    }
   ],
   "source": [
    "s2"
   ]
  },
  {
   "cell_type": "markdown",
   "id": "64d61f51-0c44-4451-a35e-2fc4f626509b",
   "metadata": {},
   "source": [
    "### Dictioanry\n",
    "Dictionary represents the key value pair."
   ]
  },
  {
   "cell_type": "code",
   "execution_count": 130,
   "id": "ddc532d6-5dcb-4d2f-8de4-0b30955defef",
   "metadata": {},
   "outputs": [],
   "source": [
    "d1 = {\"Name\" : ['Rahul', 'Gauri', 'Raj', 'Nikhil'],\n",
    "      \"Age\" : [25,24,26,26],\n",
    "      \"Company\" : [\"Antwalk\", \"Capgemenini\", \"Flentas\", \"Accenture\"],\n",
    "      \"Salary\" : [95000, 65000, 75000, 68000]}"
   ]
  },
  {
   "cell_type": "code",
   "execution_count": 131,
   "id": "c78414c1-00bb-4d54-a5c4-5e2664e07437",
   "metadata": {},
   "outputs": [
    {
     "data": {
      "text/plain": [
       "dict"
      ]
     },
     "execution_count": 131,
     "metadata": {},
     "output_type": "execute_result"
    }
   ],
   "source": [
    "type(d1)"
   ]
  },
  {
   "cell_type": "code",
   "execution_count": 132,
   "id": "6277ef5d-1cba-4ea4-ae37-d86e4614426e",
   "metadata": {},
   "outputs": [
    {
     "data": {
      "text/plain": [
       "dict_keys(['Name', 'Age', 'Company', 'Salary'])"
      ]
     },
     "execution_count": 132,
     "metadata": {},
     "output_type": "execute_result"
    }
   ],
   "source": [
    "d1.keys()"
   ]
  },
  {
   "cell_type": "code",
   "execution_count": 133,
   "id": "49635bbc-e428-4b26-ae4d-d1b62837c7aa",
   "metadata": {},
   "outputs": [
    {
     "data": {
      "text/plain": [
       "dict_values([['Rahul', 'Gauri', 'Raj', 'Nikhil'], [25, 24, 26, 26], ['ANtwalk', 'Capgemenini', 'Flentas', 'Accenture'], [95000, 65000, 75000, 68000]])"
      ]
     },
     "execution_count": 133,
     "metadata": {},
     "output_type": "execute_result"
    }
   ],
   "source": [
    "d1.values()"
   ]
  },
  {
   "cell_type": "markdown",
   "id": "901ab1a1-a34d-46dd-84ac-f35fbda6951c",
   "metadata": {},
   "source": [
    "## **Revision**\n",
    "**1. Lists**: Lists represents the ordered, Mutable collection of elements. THese are enclosed in square bracket. Any sort of data types can be included in lists.\n",
    "\n",
    "**2. Tuples**: Tuples represents the ordered, nut immutable collection of elements which are enclosed in round brackets. Any data types can be included in tuples.\n",
    "\n",
    "**3. Set**: Set represents the unordered collection of unique elements which are enclosed in flower brackets. Set is mutable in nature.\n",
    "\n",
    "**4. Frozenset**: Frozenset represents the unordered collection of unique elements which are enclosed in flower brackets. Frozen sets unlike sets are immutable in nature. "
   ]
  },
  {
   "cell_type": "markdown",
   "id": "4c1aee96-e915-420b-a32d-bc9c8d5124f6",
   "metadata": {},
   "source": [
    "### Break statement: Break statement exits the loop as soon as the condition becomes true."
   ]
  },
  {
   "cell_type": "markdown",
   "id": "7171fbb6-79cb-484a-a927-9b7f75889112",
   "metadata": {},
   "source": [
    "##### Write python code for cheking whether the number is prime or not."
   ]
  },
  {
   "cell_type": "code",
   "execution_count": 4,
   "id": "9e6d04d1-64c7-4e94-88fd-ed575d4027e6",
   "metadata": {},
   "outputs": [
    {
     "name": "stdin",
     "output_type": "stream",
     "text": [
      "Enter the number:  5\n"
     ]
    },
    {
     "name": "stdout",
     "output_type": "stream",
     "text": [
      "prime number\n"
     ]
    }
   ],
   "source": [
    "num = int(input(\"Enter the number: \"))\n",
    "for i in range(2,num):\n",
    "    if num % i == 0:\n",
    "        print(\"The number is not a prime number\")\n",
    "        break\n",
    "else:\n",
    "    print(\"prime number\")"
   ]
  },
  {
   "cell_type": "markdown",
   "id": "c094635b-1025-4f05-8cfe-dc8da8ddfbac",
   "metadata": {},
   "source": [
    "### Continue: Continue statement skips the current iteration and moves to the next iteration."
   ]
  },
  {
   "cell_type": "code",
   "execution_count": 5,
   "id": "cb9d5d31-7c9a-410a-81ef-855220e01a50",
   "metadata": {},
   "outputs": [
    {
     "name": "stdout",
     "output_type": "stream",
     "text": [
      "1\n",
      "2\n",
      "3\n",
      "4\n",
      "6\n",
      "7\n",
      "8\n",
      "9\n"
     ]
    }
   ],
   "source": [
    "for i in range(1,10):\n",
    "    if i == 5:\n",
    "        continue\n",
    "    print(i)"
   ]
  },
  {
   "cell_type": "markdown",
   "id": "f5b755ae-4ce8-4b33-b2d2-d604f7204274",
   "metadata": {},
   "source": [
    "### Pass: break actually does nothing. its like a placeholder."
   ]
  },
  {
   "cell_type": "code",
   "execution_count": 8,
   "id": "700728b9-86fd-41ee-b433-af8f876bfa96",
   "metadata": {},
   "outputs": [
    {
     "name": "stdout",
     "output_type": "stream",
     "text": [
      "1\n",
      "2\n",
      "3\n",
      "4\n",
      "5\n",
      "6\n",
      "7\n",
      "8\n",
      "9\n"
     ]
    }
   ],
   "source": [
    "for i in range(1,10):\n",
    "    if i == 5:\n",
    "        pass # acts as a placeholder\n",
    "    print(i)"
   ]
  },
  {
   "cell_type": "markdown",
   "id": "097f56fe-f71a-46b0-8fe5-4965f3741f6b",
   "metadata": {},
   "source": [
    "### User define function\n",
    "For eg. The company requiresyou to calculate the number which are in 4 elements with the formula given.<br>\n",
    "if a, b, c, d are the elements. Then,<br>\n",
    "result = (a * b) - (c * d) <br>\n",
    "\n",
    "The pairs are<br>\n",
    "(1,2,3,4)<br>\n",
    "(5,6,7,8)<br>\n",
    "(9,10,11,12)<br>\n",
    ".<br>\n",
    ".<br>\n",
    "."
   ]
  },
  {
   "cell_type": "code",
   "execution_count": 9,
   "id": "9051b7a2-92b5-4ed4-a7ef-3dc22bcabc29",
   "metadata": {},
   "outputs": [
    {
     "name": "stdout",
     "output_type": "stream",
     "text": [
      "-10\n"
     ]
    }
   ],
   "source": [
    "# for pair 1\n",
    "print((1*2) - (3*4))"
   ]
  },
  {
   "cell_type": "code",
   "execution_count": 10,
   "id": "b05adc9a-a015-4bfa-af96-ed0e00af2bdd",
   "metadata": {},
   "outputs": [
    {
     "name": "stdout",
     "output_type": "stream",
     "text": [
      "-26\n"
     ]
    }
   ],
   "source": [
    "print((5*6) - (7*8))"
   ]
  },
  {
   "cell_type": "code",
   "execution_count": 11,
   "id": "3e9b646f-38cf-4dae-bd20-82cfd8acae89",
   "metadata": {},
   "outputs": [],
   "source": [
    "def req(a,b,c,d):\n",
    "    result = (a*b) - (c*d)\n",
    "    print(result)"
   ]
  },
  {
   "cell_type": "code",
   "execution_count": 12,
   "id": "20709102-efd0-4deb-84d0-8fba39f64fcd",
   "metadata": {},
   "outputs": [
    {
     "name": "stdout",
     "output_type": "stream",
     "text": [
      "-10\n"
     ]
    }
   ],
   "source": [
    "req(1,2,3,4)"
   ]
  },
  {
   "cell_type": "code",
   "execution_count": 13,
   "id": "5122169e-f15c-4d4f-ba04-598bcc251b0b",
   "metadata": {},
   "outputs": [
    {
     "name": "stdout",
     "output_type": "stream",
     "text": [
      "-26\n"
     ]
    }
   ],
   "source": [
    "req(5,6,7,8)"
   ]
  },
  {
   "cell_type": "markdown",
   "id": "4a28020f-6d4e-4d4c-859a-4ba21bf60d1e",
   "metadata": {},
   "source": [
    "### Let us write a user define function to find whether the number is prime number or not."
   ]
  },
  {
   "cell_type": "code",
   "execution_count": 17,
   "id": "6ecff46c-47c9-4da6-8fbd-6f0a69dfc025",
   "metadata": {},
   "outputs": [],
   "source": [
    "def prime(num):\n",
    "    for i in range(2,num):\n",
    "        if num % i == 0:\n",
    "            print(\"The number is not prime number\")\n",
    "            break\n",
    "    else:\n",
    "        print(\"Yes it is a Prime number\")"
   ]
  },
  {
   "cell_type": "code",
   "execution_count": 18,
   "id": "8f307faf-63f1-4ed0-bc0d-98c3b5c76f03",
   "metadata": {},
   "outputs": [
    {
     "name": "stdout",
     "output_type": "stream",
     "text": [
      "The number is not prime number\n"
     ]
    }
   ],
   "source": [
    "prime(4)"
   ]
  },
  {
   "cell_type": "code",
   "execution_count": 19,
   "id": "78c42d6e-ce77-4de7-84af-c1475d5c0da6",
   "metadata": {},
   "outputs": [
    {
     "name": "stdout",
     "output_type": "stream",
     "text": [
      "Yes it is a Prime number\n"
     ]
    }
   ],
   "source": [
    "prime(19)"
   ]
  },
  {
   "cell_type": "code",
   "execution_count": 20,
   "id": "f296a3c4-83f8-43b8-ba2a-f9831220dbeb",
   "metadata": {},
   "outputs": [
    {
     "name": "stdout",
     "output_type": "stream",
     "text": [
      "Yes it is a Prime number\n"
     ]
    }
   ],
   "source": [
    "prime(17)"
   ]
  },
  {
   "cell_type": "markdown",
   "id": "42998383-e804-49eb-9228-1ede720ef943",
   "metadata": {},
   "source": [
    "### Error and exceptions handling\n",
    "Errors in python can occur during the execution of a program. Errors can be categorized in two types.<br>\n",
    "1. Syntax Error.\n",
    "2. Exception - Errors detected during the runtime which are conditoinally wrong. Types of exeptions are <br>\n",
    "   1. ZeroDivisionError\n",
    "   2. ValueError\n",
    "   3. KeyError\n",
    "   4. TypeError\n",
    "   5. IndexError"
   ]
  },
  {
   "cell_type": "code",
   "execution_count": 22,
   "id": "287d2d56-6088-4271-9c45-fc7fef579334",
   "metadata": {},
   "outputs": [
    {
     "name": "stdout",
     "output_type": "stream",
     "text": [
      "1\n",
      "2\n",
      "3\n",
      "4\n",
      "5\n",
      "6\n",
      "7\n",
      "8\n",
      "9\n"
     ]
    }
   ],
   "source": [
    "for i in range(1,10):\n",
    "    print(i)"
   ]
  },
  {
   "cell_type": "code",
   "execution_count": 23,
   "id": "07f32f52-00b5-40b8-aabe-8e6a98727f01",
   "metadata": {},
   "outputs": [
    {
     "ename": "ZeroDivisionError",
     "evalue": "division by zero",
     "output_type": "error",
     "traceback": [
      "\u001b[1;31m---------------------------------------------------------------------------\u001b[0m",
      "\u001b[1;31mZeroDivisionError\u001b[0m                         Traceback (most recent call last)",
      "Cell \u001b[1;32mIn[23], line 1\u001b[0m\n\u001b[1;32m----> 1\u001b[0m a \u001b[38;5;241m=\u001b[39m \u001b[38;5;241m10\u001b[39m\u001b[38;5;241m/\u001b[39m\u001b[38;5;241m0\u001b[39m\n",
      "\u001b[1;31mZeroDivisionError\u001b[0m: division by zero"
     ]
    }
   ],
   "source": [
    "a = 10/0"
   ]
  },
  {
   "cell_type": "markdown",
   "id": "5a7871c8-2b03-466e-8258-24b3ccf0858a",
   "metadata": {},
   "source": [
    "### Try-Except Block "
   ]
  },
  {
   "cell_type": "code",
   "execution_count": 26,
   "id": "f9adcd53-818a-4da4-ad69-fff40690dfa0",
   "metadata": {},
   "outputs": [
    {
     "name": "stdout",
     "output_type": "stream",
     "text": [
      "Error division by zero\n",
      "Execution complete\n"
     ]
    }
   ],
   "source": [
    "try:\n",
    "    res = 10/0\n",
    "except ZeroDivisionError as e:\n",
    "    print(\"Error\", e)\n",
    "finally:\n",
    "    print(\"Execution complete\")"
   ]
  },
  {
   "cell_type": "markdown",
   "id": "f072b9f6-021c-4146-a803-8e3e5cad59df",
   "metadata": {},
   "source": [
    "### ValueError: Invalid value"
   ]
  },
  {
   "cell_type": "code",
   "execution_count": 27,
   "id": "ae9f1ae7-ba45-4336-b6cb-5723135f6586",
   "metadata": {},
   "outputs": [
    {
     "ename": "ValueError",
     "evalue": "invalid literal for int() with base 10: 'abc'",
     "output_type": "error",
     "traceback": [
      "\u001b[1;31m---------------------------------------------------------------------------\u001b[0m",
      "\u001b[1;31mValueError\u001b[0m                                Traceback (most recent call last)",
      "Cell \u001b[1;32mIn[27], line 1\u001b[0m\n\u001b[1;32m----> 1\u001b[0m a \u001b[38;5;241m=\u001b[39m \u001b[38;5;28mint\u001b[39m(\u001b[38;5;124m\"\u001b[39m\u001b[38;5;124mabc\u001b[39m\u001b[38;5;124m\"\u001b[39m)\n",
      "\u001b[1;31mValueError\u001b[0m: invalid literal for int() with base 10: 'abc'"
     ]
    }
   ],
   "source": [
    "a = int(\"abc\")"
   ]
  },
  {
   "cell_type": "code",
   "execution_count": 28,
   "id": "ffe6581f-9fe7-479d-b902-c6e6108980cb",
   "metadata": {},
   "outputs": [
    {
     "name": "stdout",
     "output_type": "stream",
     "text": [
      "ValueError\n",
      "Code executed\n"
     ]
    }
   ],
   "source": [
    "try:\n",
    "    a = int(\"abc\")\n",
    "except ValueError:\n",
    "    print(\"ValueError\")\n",
    "finally:\n",
    "    print(\"Code executed\")"
   ]
  },
  {
   "cell_type": "markdown",
   "id": "eaefff44-48d9-4989-8196-7ed5ba90db63",
   "metadata": {},
   "source": [
    "### KeyError: Accessing a non existence key in a dictionary"
   ]
  },
  {
   "cell_type": "code",
   "execution_count": 29,
   "id": "405620cd-6ebf-459a-b2d4-eb5a803c0c76",
   "metadata": {},
   "outputs": [
    {
     "ename": "KeyError",
     "evalue": "'Salary'",
     "output_type": "error",
     "traceback": [
      "\u001b[1;31m---------------------------------------------------------------------------\u001b[0m",
      "\u001b[1;31mKeyError\u001b[0m                                  Traceback (most recent call last)",
      "Cell \u001b[1;32mIn[29], line 2\u001b[0m\n\u001b[0;32m      1\u001b[0m dict1 \u001b[38;5;241m=\u001b[39m {\u001b[38;5;124m\"\u001b[39m\u001b[38;5;124mName\u001b[39m\u001b[38;5;124m\"\u001b[39m : \u001b[38;5;124m\"\u001b[39m\u001b[38;5;124mRahul\u001b[39m\u001b[38;5;124m\"\u001b[39m, \u001b[38;5;124m\"\u001b[39m\u001b[38;5;124mAge\u001b[39m\u001b[38;5;124m\"\u001b[39m :\u001b[38;5;241m25\u001b[39m}\n\u001b[1;32m----> 2\u001b[0m \u001b[38;5;28mprint\u001b[39m(dict1[\u001b[38;5;124m\"\u001b[39m\u001b[38;5;124mSalary\u001b[39m\u001b[38;5;124m\"\u001b[39m])\n",
      "\u001b[1;31mKeyError\u001b[0m: 'Salary'"
     ]
    }
   ],
   "source": [
    "dict1 = {\"Name\" : \"Rahul\", \"Age\" :25}\n",
    "print(dict1[\"Salary\"])"
   ]
  },
  {
   "cell_type": "code",
   "execution_count": 32,
   "id": "5dfa5c8a-4e54-4300-afd7-4b880e530d61",
   "metadata": {},
   "outputs": [
    {
     "name": "stdout",
     "output_type": "stream",
     "text": [
      "KeyError\n",
      "Code executed\n"
     ]
    }
   ],
   "source": [
    "try:\n",
    "    dict1 = {\"Name\" : \"Rahul\", \"Age\" :25}\n",
    "    print(dict1[\"Salary\"])\n",
    "except KeyError as k:\n",
    "    print(\"KeyError\")\n",
    "finally:\n",
    "    print(\"Code executed\")"
   ]
  },
  {
   "cell_type": "markdown",
   "id": "5b645436-1e27-4485-994d-c6ac15079625",
   "metadata": {},
   "source": [
    "### TypeError: Unsupported operation between types"
   ]
  },
  {
   "cell_type": "code",
   "execution_count": 33,
   "id": "c3753b0a-21c7-438b-b0b6-e7d11979c758",
   "metadata": {},
   "outputs": [
    {
     "ename": "TypeError",
     "evalue": "unsupported operand type(s) for +: 'int' and 'str'",
     "output_type": "error",
     "traceback": [
      "\u001b[1;31m---------------------------------------------------------------------------\u001b[0m",
      "\u001b[1;31mTypeError\u001b[0m                                 Traceback (most recent call last)",
      "Cell \u001b[1;32mIn[33], line 3\u001b[0m\n\u001b[0;32m      1\u001b[0m a \u001b[38;5;241m=\u001b[39m \u001b[38;5;241m5\u001b[39m\n\u001b[0;32m      2\u001b[0m b \u001b[38;5;241m=\u001b[39m \u001b[38;5;124m\"\u001b[39m\u001b[38;5;124m6\u001b[39m\u001b[38;5;124m\"\u001b[39m\n\u001b[1;32m----> 3\u001b[0m \u001b[38;5;28mprint\u001b[39m(a\u001b[38;5;241m+\u001b[39mb)\n",
      "\u001b[1;31mTypeError\u001b[0m: unsupported operand type(s) for +: 'int' and 'str'"
     ]
    }
   ],
   "source": [
    "a = 5\n",
    "b = \"6\"\n",
    "print(a+b)"
   ]
  },
  {
   "cell_type": "code",
   "execution_count": 34,
   "id": "bf68bba0-0d66-4d18-82aa-f87177c7a2ef",
   "metadata": {},
   "outputs": [
    {
     "name": "stdout",
     "output_type": "stream",
     "text": [
      "TypeError\n",
      "Code executed\n"
     ]
    }
   ],
   "source": [
    "try:\n",
    "    a = 5\n",
    "    b = \"6\"\n",
    "    print(a+b)\n",
    "except TypeError as t:\n",
    "    print(\"TypeError\")\n",
    "finally:\n",
    "    print(\"Code executed\")"
   ]
  },
  {
   "cell_type": "markdown",
   "id": "ccea099f-596d-42c8-a02c-418175a8c355",
   "metadata": {},
   "source": [
    "### IndexError: Accessing an index which is out of index"
   ]
  },
  {
   "cell_type": "code",
   "execution_count": 35,
   "id": "71d7c54f-ab11-4e27-8936-ee009f62ae2e",
   "metadata": {},
   "outputs": [
    {
     "data": {
      "text/plain": [
       "5"
      ]
     },
     "execution_count": 35,
     "metadata": {},
     "output_type": "execute_result"
    }
   ],
   "source": [
    "a = [1,2,3,4,5]\n",
    "len(a)"
   ]
  },
  {
   "cell_type": "code",
   "execution_count": 36,
   "id": "cccded74-142b-4d48-af16-7020ae0cf903",
   "metadata": {},
   "outputs": [
    {
     "ename": "IndexError",
     "evalue": "list index out of range",
     "output_type": "error",
     "traceback": [
      "\u001b[1;31m---------------------------------------------------------------------------\u001b[0m",
      "\u001b[1;31mIndexError\u001b[0m                                Traceback (most recent call last)",
      "Cell \u001b[1;32mIn[36], line 1\u001b[0m\n\u001b[1;32m----> 1\u001b[0m a[\u001b[38;5;241m5\u001b[39m]\n",
      "\u001b[1;31mIndexError\u001b[0m: list index out of range"
     ]
    }
   ],
   "source": [
    "a[5]"
   ]
  },
  {
   "cell_type": "code",
   "execution_count": 37,
   "id": "416ee8e9-3b31-467f-b3c0-18c4bb97c033",
   "metadata": {},
   "outputs": [
    {
     "name": "stdout",
     "output_type": "stream",
     "text": [
      "IndexError\n",
      "Code executed\n"
     ]
    }
   ],
   "source": [
    "try:\n",
    "    a = [1,2,3,4,5]\n",
    "    print(a[5])\n",
    "except IndexError as i:\n",
    "    print(\"IndexError\")\n",
    "finally:\n",
    "    print(\"Code executed\")"
   ]
  },
  {
   "cell_type": "markdown",
   "id": "a2059f17-7723-408b-a69c-46241f46f64f",
   "metadata": {},
   "source": [
    "### "
   ]
  },
  {
   "cell_type": "markdown",
   "id": "ac64381f-d820-471d-b9a7-80d5df6914fc",
   "metadata": {},
   "source": [
    "### Numpy: Numerical python.\n",
    "It is a powerful python library for numeric computing. It provides large support for multi dimensional array and matrices along with mathematical functions to operate on these arrays.<br>\n",
    "The numpy library is very important as far as data science and data analytics is concerned."
   ]
  },
  {
   "cell_type": "markdown",
   "id": "32e4ca4c-2dcf-4eb8-b175-6e07ffccf60a",
   "metadata": {},
   "source": [
    "### Key features\n",
    "1. N-Dimensional array\n",
    "2. Vectorized operation\n",
    "3. Broadcasting\n",
    "4. Mathematical function\n",
    "5. Memory efficient"
   ]
  },
  {
   "cell_type": "markdown",
   "id": "e2125803-2efd-4203-8b9e-60f179f52eb0",
   "metadata": {},
   "source": [
    "### 1. Importing Numpy Library"
   ]
  },
  {
   "cell_type": "code",
   "execution_count": 1,
   "id": "128c30c2-aeb4-4c86-bffd-fd51b4dcbfed",
   "metadata": {},
   "outputs": [],
   "source": [
    "import numpy as np"
   ]
  },
  {
   "cell_type": "markdown",
   "id": "9fc5bd89-376d-4c7c-a9ce-a17960af777e",
   "metadata": {},
   "source": [
    "### 2. Creating Numpy arrays"
   ]
  },
  {
   "cell_type": "markdown",
   "id": "0fd89fbc-dc77-4761-9e71-495053eb4412",
   "metadata": {},
   "source": [
    "### a. Creating one dimension array"
   ]
  },
  {
   "cell_type": "code",
   "execution_count": 3,
   "id": "6d5f472c-1be1-484a-8c6d-1352df95644d",
   "metadata": {},
   "outputs": [
    {
     "data": {
      "text/plain": [
       "array([1, 2, 3, 4, 5])"
      ]
     },
     "execution_count": 3,
     "metadata": {},
     "output_type": "execute_result"
    }
   ],
   "source": [
    "arr = np.array([1,2,3,4,5])\n",
    "arr"
   ]
  },
  {
   "cell_type": "code",
   "execution_count": 4,
   "id": "decb5072-7b5e-4841-bca2-06adaa8cb0d6",
   "metadata": {},
   "outputs": [
    {
     "data": {
      "text/plain": [
       "numpy.ndarray"
      ]
     },
     "execution_count": 4,
     "metadata": {},
     "output_type": "execute_result"
    }
   ],
   "source": [
    "type(arr)"
   ]
  },
  {
   "cell_type": "markdown",
   "id": "873dc35a-cdcc-43a6-bad7-86ec97b279d8",
   "metadata": {},
   "source": [
    "### b. Crearing 2 dimension array"
   ]
  },
  {
   "cell_type": "code",
   "execution_count": 6,
   "id": "b96d6a48-7722-4664-b67d-c1ccbbb20475",
   "metadata": {},
   "outputs": [
    {
     "data": {
      "text/plain": [
       "array([[1, 2, 3],\n",
       "       [4, 5, 6]])"
      ]
     },
     "execution_count": 6,
     "metadata": {},
     "output_type": "execute_result"
    }
   ],
   "source": [
    "arr2d = np.array([[1,2,3], [4,5,6]])\n",
    "arr2d "
   ]
  },
  {
   "cell_type": "code",
   "execution_count": 7,
   "id": "dab711a4-cd18-4497-9509-211c6082fcf1",
   "metadata": {},
   "outputs": [
    {
     "data": {
      "text/plain": [
       "numpy.ndarray"
      ]
     },
     "execution_count": 7,
     "metadata": {},
     "output_type": "execute_result"
    }
   ],
   "source": [
    "type(arr2d)"
   ]
  },
  {
   "cell_type": "markdown",
   "id": "3f823773-49cb-451b-a6e5-4ecb80c71645",
   "metadata": {},
   "source": [
    "### 3. Checking the shape of the array"
   ]
  },
  {
   "cell_type": "code",
   "execution_count": 8,
   "id": "3e0f789b-e4b9-4258-a1b3-227d665b0eae",
   "metadata": {},
   "outputs": [
    {
     "data": {
      "text/plain": [
       "(5,)"
      ]
     },
     "execution_count": 8,
     "metadata": {},
     "output_type": "execute_result"
    }
   ],
   "source": [
    "arr.shape"
   ]
  },
  {
   "cell_type": "code",
   "execution_count": 9,
   "id": "ffafbf70-2fee-4e7b-9272-c3cf18945dc4",
   "metadata": {},
   "outputs": [
    {
     "data": {
      "text/plain": [
       "(2, 3)"
      ]
     },
     "execution_count": 9,
     "metadata": {},
     "output_type": "execute_result"
    }
   ],
   "source": [
    "arr2d.shape"
   ]
  },
  {
   "cell_type": "code",
   "execution_count": 11,
   "id": "c34e9f68-40de-4004-b590-738a0c013c75",
   "metadata": {},
   "outputs": [
    {
     "data": {
      "text/plain": [
       "dtype('int32')"
      ]
     },
     "execution_count": 11,
     "metadata": {},
     "output_type": "execute_result"
    }
   ],
   "source": [
    "arr.dtype"
   ]
  },
  {
   "cell_type": "code",
   "execution_count": 12,
   "id": "7bfda185-3e85-4f4a-8cc5-6dd44ce9b77b",
   "metadata": {},
   "outputs": [
    {
     "data": {
      "text/plain": [
       "array([1.1, 2.2, 3.3, 4.4])"
      ]
     },
     "execution_count": 12,
     "metadata": {},
     "output_type": "execute_result"
    }
   ],
   "source": [
    "arr2 = np.array([1.1,2.2,3.3,4.4])\n",
    "arr2"
   ]
  },
  {
   "cell_type": "code",
   "execution_count": 13,
   "id": "3da1aee6-a23e-4764-89cb-754baae72ede",
   "metadata": {},
   "outputs": [
    {
     "data": {
      "text/plain": [
       "dtype('float64')"
      ]
     },
     "execution_count": 13,
     "metadata": {},
     "output_type": "execute_result"
    }
   ],
   "source": [
    "arr2.dtype"
   ]
  },
  {
   "cell_type": "markdown",
   "id": "34840544-54d8-4178-bad4-d990d4118425",
   "metadata": {},
   "source": [
    "### 4. Creating special arrays\n",
    "1. Array of zeros\n",
    "2. Array of ones\n",
    "3. identity matrix\n",
    "4. Random array"
   ]
  },
  {
   "cell_type": "markdown",
   "id": "3e99111b-eae5-4efb-849a-d23798026e61",
   "metadata": {},
   "source": [
    "### a. Array of zeroes"
   ]
  },
  {
   "cell_type": "code",
   "execution_count": 16,
   "id": "3284798e-096d-4e78-b6d7-ac7bf6f62d3e",
   "metadata": {},
   "outputs": [
    {
     "data": {
      "text/plain": [
       "array([[0., 0.],\n",
       "       [0., 0.],\n",
       "       [0., 0.]])"
      ]
     },
     "execution_count": 16,
     "metadata": {},
     "output_type": "execute_result"
    }
   ],
   "source": [
    "zero_arr = np.zeros((3,2))\n",
    "zero_arr"
   ]
  },
  {
   "cell_type": "markdown",
   "id": "d984bb6c-e450-489a-8e8a-68e37ff05278",
   "metadata": {},
   "source": [
    "### b. Array of ones"
   ]
  },
  {
   "cell_type": "code",
   "execution_count": 17,
   "id": "2f5fec87-b973-4cb9-aca2-467c7614e4cc",
   "metadata": {},
   "outputs": [
    {
     "data": {
      "text/plain": [
       "array([[1., 1., 1.],\n",
       "       [1., 1., 1.]])"
      ]
     },
     "execution_count": 17,
     "metadata": {},
     "output_type": "execute_result"
    }
   ],
   "source": [
    "ones_arr = np.ones((2,3))\n",
    "ones_arr"
   ]
  },
  {
   "cell_type": "markdown",
   "id": "8d4445be-f38e-4e5e-96b3-0fe82a31807e",
   "metadata": {},
   "source": [
    "### c. Identity matrix"
   ]
  },
  {
   "cell_type": "code",
   "execution_count": 18,
   "id": "7111d09e-fd28-4594-9c92-7fc61beacc4b",
   "metadata": {},
   "outputs": [
    {
     "data": {
      "text/plain": [
       "array([[1., 0., 0., 0.],\n",
       "       [0., 1., 0., 0.],\n",
       "       [0., 0., 1., 0.],\n",
       "       [0., 0., 0., 1.]])"
      ]
     },
     "execution_count": 18,
     "metadata": {},
     "output_type": "execute_result"
    }
   ],
   "source": [
    "iden = np.eye(4)\n",
    "iden"
   ]
  },
  {
   "cell_type": "markdown",
   "id": "a7ff600a-976a-4415-bed9-9af0996925a2",
   "metadata": {},
   "source": [
    "### d. Random array"
   ]
  },
  {
   "cell_type": "code",
   "execution_count": 21,
   "id": "bcf4b9ec-350b-4af3-a1e3-a54613e12bf9",
   "metadata": {},
   "outputs": [
    {
     "data": {
      "text/plain": [
       "array([[0.52558152, 0.30426325, 0.77653675],\n",
       "       [0.8518712 , 0.41807483, 0.88256162],\n",
       "       [0.71230659, 0.74736291, 0.27112856]])"
      ]
     },
     "execution_count": 21,
     "metadata": {},
     "output_type": "execute_result"
    }
   ],
   "source": [
    "rand_arr = np.random.rand(3,3)\n",
    "rand_arr"
   ]
  },
  {
   "cell_type": "markdown",
   "id": "7504dcab-fe93-472a-9b24-0e7c94fb4f3d",
   "metadata": {},
   "source": [
    "### 5. Array indexing and Slicing"
   ]
  },
  {
   "cell_type": "markdown",
   "id": "a68d54c4-f37c-42f3-a37e-2e52a57217e7",
   "metadata": {},
   "source": [
    "### For 1D array"
   ]
  },
  {
   "cell_type": "code",
   "execution_count": null,
   "id": "895d85dd-7a48-4eb0-89a8-38f25468a6d2",
   "metadata": {},
   "outputs": [],
   "source": [
    "arr = np.array([1,2,3,4,5,6])\n",
    "arr"
   ]
  },
  {
   "cell_type": "code",
   "execution_count": 23,
   "id": "7f42bea1-e0c7-48c6-b228-09d2ba1e38d3",
   "metadata": {},
   "outputs": [
    {
     "name": "stdout",
     "output_type": "stream",
     "text": [
      "1\n"
     ]
    }
   ],
   "source": [
    "print(arr[0])"
   ]
  },
  {
   "cell_type": "code",
   "execution_count": 24,
   "id": "c209a0f8-d809-4e4a-b5fa-e74bc6fd396a",
   "metadata": {},
   "outputs": [
    {
     "name": "stdout",
     "output_type": "stream",
     "text": [
      "6\n"
     ]
    }
   ],
   "source": [
    "print(arr[-1])"
   ]
  },
  {
   "cell_type": "code",
   "execution_count": 25,
   "id": "490ca080-1fe2-42da-b45f-46f0e979b3ee",
   "metadata": {},
   "outputs": [
    {
     "name": "stdout",
     "output_type": "stream",
     "text": [
      "[2 3 4]\n"
     ]
    }
   ],
   "source": [
    "print(arr[1:4])"
   ]
  },
  {
   "cell_type": "markdown",
   "id": "f041f342-522e-4a10-9139-f01693b55ed7",
   "metadata": {},
   "source": [
    "### For 2D array"
   ]
  },
  {
   "cell_type": "code",
   "execution_count": 26,
   "id": "43b3d8a0-f79c-4a4a-aa46-248663e5fcc5",
   "metadata": {},
   "outputs": [
    {
     "data": {
      "text/plain": [
       "array([[1, 2, 3],\n",
       "       [4, 5, 6]])"
      ]
     },
     "execution_count": 26,
     "metadata": {},
     "output_type": "execute_result"
    }
   ],
   "source": [
    "arr2d = np.array([[1,2,3],[4,5,6]])\n",
    "arr2d"
   ]
  },
  {
   "cell_type": "code",
   "execution_count": 29,
   "id": "08f36cbc-ea89-4bec-bddf-860c6d97fbc5",
   "metadata": {},
   "outputs": [
    {
     "data": {
      "text/plain": [
       "5"
      ]
     },
     "execution_count": 29,
     "metadata": {},
     "output_type": "execute_result"
    }
   ],
   "source": [
    "arr2d[1,1]"
   ]
  },
  {
   "cell_type": "code",
   "execution_count": 31,
   "id": "c8d288ae-b524-45e6-9110-0e36233e05b7",
   "metadata": {},
   "outputs": [
    {
     "name": "stdout",
     "output_type": "stream",
     "text": [
      "[2 5]\n"
     ]
    }
   ],
   "source": [
    "print(arr2d[:,1])"
   ]
  },
  {
   "cell_type": "markdown",
   "id": "1ace6b48-d7d5-43cc-9f23-da5652bfb075",
   "metadata": {},
   "source": [
    "### 6. Basic Mathematical operation"
   ]
  },
  {
   "cell_type": "code",
   "execution_count": 32,
   "id": "d24a4d41-c017-4a46-97e4-f406f30b2ff6",
   "metadata": {},
   "outputs": [],
   "source": [
    "arr1 = np.array([1,2,3,4,5])\n",
    "arr2 = np.array([6,7,8,9,10])"
   ]
  },
  {
   "cell_type": "code",
   "execution_count": 34,
   "id": "3c09f0b2-666a-4454-a432-b13408f08a28",
   "metadata": {},
   "outputs": [
    {
     "name": "stdout",
     "output_type": "stream",
     "text": [
      "[ 7  9 11 13 15]\n"
     ]
    }
   ],
   "source": [
    "print(arr1 + arr2)"
   ]
  },
  {
   "cell_type": "code",
   "execution_count": 36,
   "id": "6eaf66c1-e393-411e-8dc6-a9c2102a9f86",
   "metadata": {},
   "outputs": [
    {
     "name": "stdout",
     "output_type": "stream",
     "text": [
      "[-5 -5 -5 -5 -5]\n"
     ]
    }
   ],
   "source": [
    "print(arr1 - arr2)"
   ]
  },
  {
   "cell_type": "code",
   "execution_count": 37,
   "id": "0e508db7-2af0-4d24-afb7-61115c24d4fa",
   "metadata": {},
   "outputs": [
    {
     "name": "stdout",
     "output_type": "stream",
     "text": [
      "[ 6 14 24 36 50]\n"
     ]
    }
   ],
   "source": [
    "print(arr1 * arr2)"
   ]
  },
  {
   "cell_type": "code",
   "execution_count": 38,
   "id": "9f303a1b-1540-4b25-9ac1-0d45596514b3",
   "metadata": {},
   "outputs": [
    {
     "name": "stdout",
     "output_type": "stream",
     "text": [
      "[0.16666667 0.28571429 0.375      0.44444444 0.5       ]\n"
     ]
    }
   ],
   "source": [
    "print(arr1 / arr2)"
   ]
  },
  {
   "cell_type": "markdown",
   "id": "d477faae-2a9a-4d10-a0a0-984f2755ee96",
   "metadata": {},
   "source": [
    "### 7. Universal Function"
   ]
  },
  {
   "cell_type": "code",
   "execution_count": 39,
   "id": "3fa1cd2e-69ae-4442-bfc7-99bab0139a7b",
   "metadata": {},
   "outputs": [
    {
     "name": "stdout",
     "output_type": "stream",
     "text": [
      "[1.         1.41421356 1.73205081 2.         2.23606798 2.44948974]\n"
     ]
    }
   ],
   "source": [
    "print(np.sqrt(arr))"
   ]
  },
  {
   "cell_type": "code",
   "execution_count": 40,
   "id": "86447205-2c6a-49f2-a1fc-d1b2387f5e9a",
   "metadata": {},
   "outputs": [
    {
     "name": "stdout",
     "output_type": "stream",
     "text": [
      "[  2.71828183   7.3890561   20.08553692  54.59815003 148.4131591\n",
      " 403.42879349]\n"
     ]
    }
   ],
   "source": [
    "print(np.exp(arr))"
   ]
  },
  {
   "cell_type": "code",
   "execution_count": 41,
   "id": "4f6a861e-8c6b-4a64-9a96-813a1d166969",
   "metadata": {},
   "outputs": [
    {
     "name": "stdout",
     "output_type": "stream",
     "text": [
      "[0.         0.69314718 1.09861229 1.38629436 1.60943791 1.79175947]\n"
     ]
    }
   ],
   "source": [
    "print(np.log(arr))"
   ]
  },
  {
   "cell_type": "code",
   "execution_count": 42,
   "id": "2276584e-bf29-479c-a273-6880e808a50b",
   "metadata": {},
   "outputs": [
    {
     "name": "stdout",
     "output_type": "stream",
     "text": [
      "[ 0.54030231 -0.41614684 -0.9899925  -0.65364362  0.28366219  0.96017029]\n"
     ]
    }
   ],
   "source": [
    "print(np.cos(arr))"
   ]
  },
  {
   "cell_type": "markdown",
   "id": "3e2f5e63-7f29-4717-a739-a9cade655e08",
   "metadata": {},
   "source": [
    "### 8. Aggregation function"
   ]
  },
  {
   "cell_type": "code",
   "execution_count": 44,
   "id": "a5737d24-a7e9-4d9c-a384-70765efad849",
   "metadata": {},
   "outputs": [
    {
     "name": "stdout",
     "output_type": "stream",
     "text": [
      "21\n",
      "3.5\n",
      "6\n",
      "1\n",
      "1.707825127659933\n"
     ]
    }
   ],
   "source": [
    "print(np.sum(arr))\n",
    "print(np.mean(arr))\n",
    "print(np.max(arr))\n",
    "print(np.min(arr))\n",
    "print(np.std(arr))"
   ]
  },
  {
   "cell_type": "markdown",
   "id": "ef196aa3-96ae-44fb-bd7f-92182262be7b",
   "metadata": {},
   "source": [
    "## **Pandas**\n",
    "Pandas is a python library built on top of numpy, designed for data manipulation, data analysis. It introduces two key data structue.\n",
    "1. **Series:** A one dimensional labelled array.\n",
    "2. **Dataframe:** A two dimensional labelled data structure, just like a table which contains rows and columns with header. eg spreadsheet, database."
   ]
  },
  {
   "cell_type": "markdown",
   "id": "7b7f1876-feb8-4d7d-90d0-7c1442cff3b4",
   "metadata": {},
   "source": [
    "### 1. Importing Pandas"
   ]
  },
  {
   "cell_type": "code",
   "execution_count": 45,
   "id": "7317ba04-c9db-44b9-bdf2-d8c116ced18a",
   "metadata": {},
   "outputs": [],
   "source": [
    "import pandas as pd "
   ]
  },
  {
   "cell_type": "markdown",
   "id": "cb57e911-e3f2-4e8e-8dea-da68b593b2fa",
   "metadata": {},
   "source": [
    "### 2.1. Creating a series"
   ]
  },
  {
   "cell_type": "code",
   "execution_count": 47,
   "id": "468a0728-b61d-46f1-92d2-b8ad63819f65",
   "metadata": {},
   "outputs": [],
   "source": [
    "data = [10,20,30]\n",
    "ser = pd.Series(data)"
   ]
  },
  {
   "cell_type": "code",
   "execution_count": 48,
   "id": "b080d9c6-65a3-48c7-bddf-00794b572d31",
   "metadata": {},
   "outputs": [
    {
     "data": {
      "text/plain": [
       "pandas.core.series.Series"
      ]
     },
     "execution_count": 48,
     "metadata": {},
     "output_type": "execute_result"
    }
   ],
   "source": [
    "type(ser)"
   ]
  },
  {
   "cell_type": "markdown",
   "id": "3e004565-d6ae-4d39-bc33-28fa30f4b3a2",
   "metadata": {},
   "source": [
    "### 2.2 Creating a dataframe"
   ]
  },
  {
   "cell_type": "code",
   "execution_count": 56,
   "id": "38d6d1cc-a146-4e95-a37a-ab24ababb789",
   "metadata": {},
   "outputs": [],
   "source": [
    "a = {\"Name\" : ['Rahul', 'Gauri', 'Raj', 'Nikhil'],\n",
    "      \"Age\" : [25,24,26,26],\n",
    "      \"Company\" : [\"Antwalk\", \"Capgemeni\", \"Flentas\", \"Accenture\"],\n",
    "      \"Salary\" : [95000, 65000, 75000, 68000]}"
   ]
  },
  {
   "cell_type": "code",
   "execution_count": 57,
   "id": "bc229f1e-a6fc-49f9-b28a-c9913f6ca22f",
   "metadata": {},
   "outputs": [],
   "source": [
    "df = pd.DataFrame(a)"
   ]
  },
  {
   "cell_type": "code",
   "execution_count": 58,
   "id": "9434c40c-434e-4f76-b4e5-cee144a04347",
   "metadata": {},
   "outputs": [
    {
     "data": {
      "text/html": [
       "<div>\n",
       "<style scoped>\n",
       "    .dataframe tbody tr th:only-of-type {\n",
       "        vertical-align: middle;\n",
       "    }\n",
       "\n",
       "    .dataframe tbody tr th {\n",
       "        vertical-align: top;\n",
       "    }\n",
       "\n",
       "    .dataframe thead th {\n",
       "        text-align: right;\n",
       "    }\n",
       "</style>\n",
       "<table border=\"1\" class=\"dataframe\">\n",
       "  <thead>\n",
       "    <tr style=\"text-align: right;\">\n",
       "      <th></th>\n",
       "      <th>Name</th>\n",
       "      <th>Age</th>\n",
       "      <th>Company</th>\n",
       "      <th>Salary</th>\n",
       "    </tr>\n",
       "  </thead>\n",
       "  <tbody>\n",
       "    <tr>\n",
       "      <th>0</th>\n",
       "      <td>Rahul</td>\n",
       "      <td>25</td>\n",
       "      <td>Antwalk</td>\n",
       "      <td>95000</td>\n",
       "    </tr>\n",
       "    <tr>\n",
       "      <th>1</th>\n",
       "      <td>Gauri</td>\n",
       "      <td>24</td>\n",
       "      <td>Capgemeni</td>\n",
       "      <td>65000</td>\n",
       "    </tr>\n",
       "    <tr>\n",
       "      <th>2</th>\n",
       "      <td>Raj</td>\n",
       "      <td>26</td>\n",
       "      <td>Flentas</td>\n",
       "      <td>75000</td>\n",
       "    </tr>\n",
       "    <tr>\n",
       "      <th>3</th>\n",
       "      <td>Nikhil</td>\n",
       "      <td>26</td>\n",
       "      <td>Accenture</td>\n",
       "      <td>68000</td>\n",
       "    </tr>\n",
       "  </tbody>\n",
       "</table>\n",
       "</div>"
      ],
      "text/plain": [
       "     Name  Age    Company  Salary\n",
       "0   Rahul   25    Antwalk   95000\n",
       "1   Gauri   24  Capgemeni   65000\n",
       "2     Raj   26    Flentas   75000\n",
       "3  Nikhil   26  Accenture   68000"
      ]
     },
     "execution_count": 58,
     "metadata": {},
     "output_type": "execute_result"
    }
   ],
   "source": [
    "df"
   ]
  },
  {
   "cell_type": "code",
   "execution_count": 59,
   "id": "0055b70d-7e16-4fbc-adcd-f4a4eee4c2e6",
   "metadata": {},
   "outputs": [
    {
     "data": {
      "text/plain": [
       "{'Name': ['Rahul', 'Gauri', 'Raj', 'Nikhil'],\n",
       " 'Age': [25, 24, 26, 26],\n",
       " 'Company': ['Antwalk', 'Capgemeni', 'Flentas', 'Accenture'],\n",
       " 'Salary': [95000, 65000, 75000, 68000]}"
      ]
     },
     "execution_count": 59,
     "metadata": {},
     "output_type": "execute_result"
    }
   ],
   "source": [
    "a"
   ]
  },
  {
   "cell_type": "code",
   "execution_count": 54,
   "id": "511de30f-9079-4a97-8c51-7c066be8ae72",
   "metadata": {},
   "outputs": [
    {
     "data": {
      "text/plain": [
       "dict"
      ]
     },
     "execution_count": 54,
     "metadata": {},
     "output_type": "execute_result"
    }
   ],
   "source": [
    "type(a)"
   ]
  },
  {
   "cell_type": "code",
   "execution_count": 55,
   "id": "8faf0258-bfcd-4b93-b7e8-07b62a0c5ce9",
   "metadata": {},
   "outputs": [
    {
     "data": {
      "text/plain": [
       "pandas.core.frame.DataFrame"
      ]
     },
     "execution_count": 55,
     "metadata": {},
     "output_type": "execute_result"
    }
   ],
   "source": [
    "type(df)"
   ]
  },
  {
   "cell_type": "markdown",
   "id": "56dcabd3-4d8f-4bf4-a713-957a0b82997b",
   "metadata": {},
   "source": [
    "### 3. Reading the data or CSV file"
   ]
  },
  {
   "cell_type": "code",
   "execution_count": 83,
   "id": "8c71f378-8ff5-4831-8f48-fd3ab8332023",
   "metadata": {},
   "outputs": [
    {
     "data": {
      "text/html": [
       "<div>\n",
       "<style scoped>\n",
       "    .dataframe tbody tr th:only-of-type {\n",
       "        vertical-align: middle;\n",
       "    }\n",
       "\n",
       "    .dataframe tbody tr th {\n",
       "        vertical-align: top;\n",
       "    }\n",
       "\n",
       "    .dataframe thead th {\n",
       "        text-align: right;\n",
       "    }\n",
       "</style>\n",
       "<table border=\"1\" class=\"dataframe\">\n",
       "  <thead>\n",
       "    <tr style=\"text-align: right;\">\n",
       "      <th></th>\n",
       "      <th>Transaction_ID</th>\n",
       "      <th>Card_Type</th>\n",
       "      <th>Merchant_Category</th>\n",
       "      <th>Transaction_Amount</th>\n",
       "      <th>Transaction_DateTime</th>\n",
       "      <th>City</th>\n",
       "      <th>Country</th>\n",
       "      <th>Cardholder_Age</th>\n",
       "      <th>Cardholder_Gender</th>\n",
       "      <th>Cardholder_Monthly_Income</th>\n",
       "      <th>Cardholder_Average_Spend</th>\n",
       "      <th>Credit_Limit</th>\n",
       "      <th>Device_Type</th>\n",
       "      <th>Day_of_Week</th>\n",
       "      <th>Is_Fraudulent</th>\n",
       "    </tr>\n",
       "  </thead>\n",
       "  <tbody>\n",
       "    <tr>\n",
       "      <th>0</th>\n",
       "      <td>W963UK57</td>\n",
       "      <td>Mastercard</td>\n",
       "      <td>Utility bill</td>\n",
       "      <td>2721.4</td>\n",
       "      <td>01-01-2020 09:43</td>\n",
       "      <td>Tokyo</td>\n",
       "      <td>Japan</td>\n",
       "      <td>23.0</td>\n",
       "      <td>Female</td>\n",
       "      <td>9463.0</td>\n",
       "      <td>3636.965</td>\n",
       "      <td>10000.0</td>\n",
       "      <td>Unknown</td>\n",
       "      <td>Wednesday</td>\n",
       "      <td>No</td>\n",
       "    </tr>\n",
       "    <tr>\n",
       "      <th>1</th>\n",
       "      <td>V606KV56</td>\n",
       "      <td>UnionPay</td>\n",
       "      <td>Retail</td>\n",
       "      <td>8395.6</td>\n",
       "      <td>03-01-2020 16:26</td>\n",
       "      <td>Tokyo</td>\n",
       "      <td>Japan</td>\n",
       "      <td>49.0</td>\n",
       "      <td>Male</td>\n",
       "      <td>14812.0</td>\n",
       "      <td>8917.912</td>\n",
       "      <td>15000.0</td>\n",
       "      <td>Desktop</td>\n",
       "      <td>Friday</td>\n",
       "      <td>No</td>\n",
       "    </tr>\n",
       "    <tr>\n",
       "      <th>2</th>\n",
       "      <td>R531NU70</td>\n",
       "      <td>Visa</td>\n",
       "      <td>Transportation</td>\n",
       "      <td>19328.0</td>\n",
       "      <td>04-01-2020 03:40</td>\n",
       "      <td>London</td>\n",
       "      <td>UK</td>\n",
       "      <td>NaN</td>\n",
       "      <td>Male</td>\n",
       "      <td>21092.0</td>\n",
       "      <td>10666.860</td>\n",
       "      <td>20000.0</td>\n",
       "      <td>Desktop</td>\n",
       "      <td>Saturday</td>\n",
       "      <td>No</td>\n",
       "    </tr>\n",
       "    <tr>\n",
       "      <th>3</th>\n",
       "      <td>T783GF79</td>\n",
       "      <td>American Express</td>\n",
       "      <td>Online Shopping</td>\n",
       "      <td>16738.1</td>\n",
       "      <td>04-01-2020 14:56</td>\n",
       "      <td>Tokyo</td>\n",
       "      <td>Japan</td>\n",
       "      <td>52.0</td>\n",
       "      <td>Female</td>\n",
       "      <td>14807.0</td>\n",
       "      <td>17315.552</td>\n",
       "      <td>20000.0</td>\n",
       "      <td>Desktop</td>\n",
       "      <td>Saturday</td>\n",
       "      <td>Yes</td>\n",
       "    </tr>\n",
       "    <tr>\n",
       "      <th>4</th>\n",
       "      <td>K256ZN73</td>\n",
       "      <td>American Express</td>\n",
       "      <td>Retail</td>\n",
       "      <td>8117.0</td>\n",
       "      <td>04-01-2020 17:26</td>\n",
       "      <td>Chicago</td>\n",
       "      <td>USA</td>\n",
       "      <td>37.0</td>\n",
       "      <td>Female</td>\n",
       "      <td>17447.0</td>\n",
       "      <td>5271.309</td>\n",
       "      <td>20000.0</td>\n",
       "      <td>Mobile</td>\n",
       "      <td>Saturday</td>\n",
       "      <td>No</td>\n",
       "    </tr>\n",
       "  </tbody>\n",
       "</table>\n",
       "</div>"
      ],
      "text/plain": [
       "  Transaction_ID         Card_Type Merchant_Category  Transaction_Amount  \\\n",
       "0       W963UK57        Mastercard      Utility bill              2721.4   \n",
       "1       V606KV56          UnionPay            Retail              8395.6   \n",
       "2       R531NU70              Visa    Transportation             19328.0   \n",
       "3       T783GF79  American Express   Online Shopping             16738.1   \n",
       "4       K256ZN73  American Express            Retail              8117.0   \n",
       "\n",
       "  Transaction_DateTime     City Country  Cardholder_Age Cardholder_Gender  \\\n",
       "0     01-01-2020 09:43    Tokyo   Japan            23.0            Female   \n",
       "1     03-01-2020 16:26    Tokyo   Japan            49.0              Male   \n",
       "2     04-01-2020 03:40   London      UK             NaN              Male   \n",
       "3     04-01-2020 14:56    Tokyo   Japan            52.0            Female   \n",
       "4     04-01-2020 17:26  Chicago     USA            37.0            Female   \n",
       "\n",
       "   Cardholder_Monthly_Income  Cardholder_Average_Spend  Credit_Limit  \\\n",
       "0                     9463.0                  3636.965       10000.0   \n",
       "1                    14812.0                  8917.912       15000.0   \n",
       "2                    21092.0                 10666.860       20000.0   \n",
       "3                    14807.0                 17315.552       20000.0   \n",
       "4                    17447.0                  5271.309       20000.0   \n",
       "\n",
       "  Device_Type Day_of_Week Is_Fraudulent  \n",
       "0     Unknown   Wednesday            No  \n",
       "1     Desktop      Friday            No  \n",
       "2     Desktop    Saturday            No  \n",
       "3     Desktop    Saturday           Yes  \n",
       "4      Mobile    Saturday            No  "
      ]
     },
     "execution_count": 83,
     "metadata": {},
     "output_type": "execute_result"
    }
   ],
   "source": [
    "df1 = pd.read_csv(\"https://raw.githubusercontent.com/rahulinchal/CSV-Files-/refs/heads/main/credit_card_transactions.csv\")\n",
    "df1.head()"
   ]
  },
  {
   "cell_type": "code",
   "execution_count": 84,
   "id": "f7e38625-0d4a-42dd-99a1-aacfebede510",
   "metadata": {},
   "outputs": [
    {
     "data": {
      "text/plain": [
       "pandas.core.frame.DataFrame"
      ]
     },
     "execution_count": 84,
     "metadata": {},
     "output_type": "execute_result"
    }
   ],
   "source": [
    "type(df1)"
   ]
  },
  {
   "cell_type": "markdown",
   "id": "29e217fb-380b-4ade-8fbd-b5a0e37c8d1a",
   "metadata": {},
   "source": [
    "### 4. Inspecting the data"
   ]
  },
  {
   "cell_type": "code",
   "execution_count": 85,
   "id": "286406b9-7285-4c4a-8587-a2594f4aa7f2",
   "metadata": {},
   "outputs": [
    {
     "name": "stdout",
     "output_type": "stream",
     "text": [
      "Shape\n",
      " (5000, 15) \n",
      "\n",
      "Columns\n",
      " Index(['Transaction_ID', 'Card_Type', 'Merchant_Category',\n",
      "       'Transaction_Amount', 'Transaction_DateTime', 'City', 'Country',\n",
      "       'Cardholder_Age', 'Cardholder_Gender', 'Cardholder_Monthly_Income',\n",
      "       'Cardholder_Average_Spend', 'Credit_Limit', 'Device_Type',\n",
      "       'Day_of_Week', 'Is_Fraudulent'],\n",
      "      dtype='object') \n",
      "\n",
      "Data Types\n",
      " Transaction_ID                object\n",
      "Card_Type                     object\n",
      "Merchant_Category             object\n",
      "Transaction_Amount           float64\n",
      "Transaction_DateTime          object\n",
      "City                          object\n",
      "Country                       object\n",
      "Cardholder_Age               float64\n",
      "Cardholder_Gender             object\n",
      "Cardholder_Monthly_Income    float64\n",
      "Cardholder_Average_Spend     float64\n",
      "Credit_Limit                 float64\n",
      "Device_Type                   object\n",
      "Day_of_Week                   object\n",
      "Is_Fraudulent                 object\n",
      "dtype: object \n",
      "\n",
      "<class 'pandas.core.frame.DataFrame'>\n",
      "RangeIndex: 5000 entries, 0 to 4999\n",
      "Data columns (total 15 columns):\n",
      " #   Column                     Non-Null Count  Dtype  \n",
      "---  ------                     --------------  -----  \n",
      " 0   Transaction_ID             5000 non-null   object \n",
      " 1   Card_Type                  4983 non-null   object \n",
      " 2   Merchant_Category          4978 non-null   object \n",
      " 3   Transaction_Amount         4994 non-null   float64\n",
      " 4   Transaction_DateTime       5000 non-null   object \n",
      " 5   City                       5000 non-null   object \n",
      " 6   Country                    5000 non-null   object \n",
      " 7   Cardholder_Age             4865 non-null   float64\n",
      " 8   Cardholder_Gender          4911 non-null   object \n",
      " 9   Cardholder_Monthly_Income  4686 non-null   float64\n",
      " 10  Cardholder_Average_Spend   4792 non-null   float64\n",
      " 11  Credit_Limit               4991 non-null   float64\n",
      " 12  Device_Type                4960 non-null   object \n",
      " 13  Day_of_Week                5000 non-null   object \n",
      " 14  Is_Fraudulent              5000 non-null   object \n",
      "dtypes: float64(5), object(10)\n",
      "memory usage: 586.1+ KB\n",
      "Information\n",
      " None \n",
      "\n",
      "Statistical analysis                             count          mean          std       min  \\\n",
      "Transaction_Amount         4994.0   7466.799600  4308.904562  2500.800   \n",
      "Cardholder_Age             4865.0     49.106680    18.398524    18.000   \n",
      "Cardholder_Monthly_Income  4686.0  13735.441315  6947.159793  3501.000   \n",
      "Cardholder_Average_Spend   4792.0   6305.834357  4005.698970  1028.241   \n",
      "Credit_Limit               4991.0  12465.437788  5566.824649  5000.000   \n",
      "\n",
      "                                   25%         50%          75%        max  \n",
      "Transaction_Amount          3974.25000   6092.2000   9837.35000  19992.300  \n",
      "Cardholder_Age                33.00000     49.0000     65.00000     80.000  \n",
      "Cardholder_Monthly_Income   7348.50000  13183.5000  18905.25000  29991.000  \n",
      "Cardholder_Average_Spend    3333.67425   4954.7945   8373.23525  19989.829  \n",
      "Credit_Limit               10000.00000  10000.0000  15000.00000  20000.000  \n"
     ]
    }
   ],
   "source": [
    "print(\"Shape\\n\",df1.shape, \"\\n\")\n",
    "print(\"Columns\\n\",df1.columns, \"\\n\")\n",
    "print(\"Data Types\\n\",df1.dtypes, \"\\n\")\n",
    "print(\"Information\\n\",df1.info(), \"\\n\")\n",
    "print(\"Statistical analysis\",df1.describe().T)"
   ]
  },
  {
   "cell_type": "code",
   "execution_count": 86,
   "id": "22a796e0-8193-4cbd-8302-c6a10f1757d5",
   "metadata": {},
   "outputs": [
    {
     "data": {
      "text/html": [
       "<div>\n",
       "<style scoped>\n",
       "    .dataframe tbody tr th:only-of-type {\n",
       "        vertical-align: middle;\n",
       "    }\n",
       "\n",
       "    .dataframe tbody tr th {\n",
       "        vertical-align: top;\n",
       "    }\n",
       "\n",
       "    .dataframe thead th {\n",
       "        text-align: right;\n",
       "    }\n",
       "</style>\n",
       "<table border=\"1\" class=\"dataframe\">\n",
       "  <thead>\n",
       "    <tr style=\"text-align: right;\">\n",
       "      <th></th>\n",
       "      <th>count</th>\n",
       "      <th>mean</th>\n",
       "      <th>std</th>\n",
       "      <th>min</th>\n",
       "      <th>25%</th>\n",
       "      <th>50%</th>\n",
       "      <th>75%</th>\n",
       "      <th>max</th>\n",
       "    </tr>\n",
       "  </thead>\n",
       "  <tbody>\n",
       "    <tr>\n",
       "      <th>Transaction_Amount</th>\n",
       "      <td>4994.0</td>\n",
       "      <td>7466.799600</td>\n",
       "      <td>4308.904562</td>\n",
       "      <td>2500.800</td>\n",
       "      <td>3974.25000</td>\n",
       "      <td>6092.2000</td>\n",
       "      <td>9837.35000</td>\n",
       "      <td>19992.300</td>\n",
       "    </tr>\n",
       "    <tr>\n",
       "      <th>Cardholder_Age</th>\n",
       "      <td>4865.0</td>\n",
       "      <td>49.106680</td>\n",
       "      <td>18.398524</td>\n",
       "      <td>18.000</td>\n",
       "      <td>33.00000</td>\n",
       "      <td>49.0000</td>\n",
       "      <td>65.00000</td>\n",
       "      <td>80.000</td>\n",
       "    </tr>\n",
       "    <tr>\n",
       "      <th>Cardholder_Monthly_Income</th>\n",
       "      <td>4686.0</td>\n",
       "      <td>13735.441315</td>\n",
       "      <td>6947.159793</td>\n",
       "      <td>3501.000</td>\n",
       "      <td>7348.50000</td>\n",
       "      <td>13183.5000</td>\n",
       "      <td>18905.25000</td>\n",
       "      <td>29991.000</td>\n",
       "    </tr>\n",
       "    <tr>\n",
       "      <th>Cardholder_Average_Spend</th>\n",
       "      <td>4792.0</td>\n",
       "      <td>6305.834357</td>\n",
       "      <td>4005.698970</td>\n",
       "      <td>1028.241</td>\n",
       "      <td>3333.67425</td>\n",
       "      <td>4954.7945</td>\n",
       "      <td>8373.23525</td>\n",
       "      <td>19989.829</td>\n",
       "    </tr>\n",
       "    <tr>\n",
       "      <th>Credit_Limit</th>\n",
       "      <td>4991.0</td>\n",
       "      <td>12465.437788</td>\n",
       "      <td>5566.824649</td>\n",
       "      <td>5000.000</td>\n",
       "      <td>10000.00000</td>\n",
       "      <td>10000.0000</td>\n",
       "      <td>15000.00000</td>\n",
       "      <td>20000.000</td>\n",
       "    </tr>\n",
       "  </tbody>\n",
       "</table>\n",
       "</div>"
      ],
      "text/plain": [
       "                            count          mean          std       min  \\\n",
       "Transaction_Amount         4994.0   7466.799600  4308.904562  2500.800   \n",
       "Cardholder_Age             4865.0     49.106680    18.398524    18.000   \n",
       "Cardholder_Monthly_Income  4686.0  13735.441315  6947.159793  3501.000   \n",
       "Cardholder_Average_Spend   4792.0   6305.834357  4005.698970  1028.241   \n",
       "Credit_Limit               4991.0  12465.437788  5566.824649  5000.000   \n",
       "\n",
       "                                   25%         50%          75%        max  \n",
       "Transaction_Amount          3974.25000   6092.2000   9837.35000  19992.300  \n",
       "Cardholder_Age                33.00000     49.0000     65.00000     80.000  \n",
       "Cardholder_Monthly_Income   7348.50000  13183.5000  18905.25000  29991.000  \n",
       "Cardholder_Average_Spend    3333.67425   4954.7945   8373.23525  19989.829  \n",
       "Credit_Limit               10000.00000  10000.0000  15000.00000  20000.000  "
      ]
     },
     "execution_count": 86,
     "metadata": {},
     "output_type": "execute_result"
    }
   ],
   "source": [
    "df1.describe().T"
   ]
  },
  {
   "cell_type": "markdown",
   "id": "7a76485c-b09e-4cc4-a1e5-0251d7b2dc0c",
   "metadata": {},
   "source": [
    "### Matplotlib\n",
    "Matplotlib is widely used library for creating static visualization. It is highly customizable and allows the user to generate a variety of plots, from basic line graph to complex multi axes graphs.\n",
    "### Seaborn\n",
    "Seaborn is again a visulization library which is built on top of matplotlib. It provides high level interface for creating attractive and informative statidtical graphs."
   ]
  },
  {
   "cell_type": "markdown",
   "id": "294def4f-18c4-4a45-adaa-73082f0ccb22",
   "metadata": {},
   "source": [
    "### Line plot"
   ]
  },
  {
   "cell_type": "code",
   "execution_count": 76,
   "id": "5388284f-594d-4c49-8509-28fb12849b2e",
   "metadata": {},
   "outputs": [
    {
     "data": {
      "image/png": "[encoded data removed]",
      "text/plain": [
       "<Figure size 1200x500 with 2 Axes>"
      ]
     },
     "metadata": {},
     "output_type": "display_data"
    }
   ],
   "source": [
    "from matplotlib import pyplot as plt\n",
    "import seaborn as sns\n",
    "\n",
    "# Data\n",
    "x = np.linspace(0, 10, 100)\n",
    "y = np.sin(x)\n",
    "df = pd.DataFrame({\"x\": x, \"y\": y})\n",
    "\n",
    "# Side-by-side comparison\n",
    "plt.figure(figsize=(12, 5))\n",
    "\n",
    "# Matplotlib\n",
    "plt.subplot(1, 2, 1)\n",
    "plt.plot(x, y, color=\"blue\", linestyle=\"--\", marker=\"*\", markersize=5)\n",
    "plt.title(\"Matplotlib Line Plot\")\n",
    "plt.xlabel(\"X-axis\")\n",
    "plt.ylabel(\"Y-axis\")\n",
    "plt.grid(True)\n",
    "\n",
    "# Seaborn\n",
    "plt.subplot(1, 2, 2)\n",
    "sns.lineplot(x=\"x\", y=\"y\", data=df, marker=\"o\", linestyle=\"--\", color=\"green\")\n",
    "plt.title(\"Seaborn Line Plot\")\n",
    "plt.xlabel(\"X-axis\")\n",
    "plt.ylabel(\"Y-axis\")\n",
    "plt.grid(True)\n",
    "\n",
    "plt.show()"
   ]
  },
  {
   "cell_type": "markdown",
   "id": "8c488b61-7020-4824-a0b7-8ec807a228cb",
   "metadata": {},
   "source": [
    "### Scatter plot"
   ]
  },
  {
   "cell_type": "code",
   "execution_count": 77,
   "id": "f5906da2-2605-49b6-9839-9b874d71d13c",
   "metadata": {},
   "outputs": [
    {
     "data": {
      "image/png": "[encoded data removed]",
      "text/plain": [
       "<Figure size 1200x500 with 2 Axes>"
      ]
     },
     "metadata": {},
     "output_type": "display_data"
    }
   ],
   "source": [
    "# Random Data\n",
    "np.random.seed(10)\n",
    "x = np.random.rand(50)\n",
    "y = np.random.rand(50)\n",
    "\n",
    "df = pd.DataFrame({\"x\": x, \"y\": y})\n",
    "\n",
    "plt.figure(figsize=(12, 5))\n",
    "\n",
    "# Matplotlib\n",
    "plt.subplot(1, 2, 1)\n",
    "plt.scatter(x, y, color=\"red\", alpha=0.7, edgecolor=\"black\")\n",
    "plt.title(\"Matplotlib Scatter Plot\")\n",
    "plt.xlabel(\"X-axis\")\n",
    "plt.ylabel(\"Y-axis\")\n",
    "plt.grid(True)\n",
    "\n",
    "# Seaborn\n",
    "plt.subplot(1, 2, 2)\n",
    "sns.scatterplot(x=\"x\", y=\"y\", data=df, color=\"blue\", edgecolor=\"black\")\n",
    "plt.title(\"Seaborn Scatter Plot\")\n",
    "plt.xlabel(\"X-axis\")\n",
    "plt.ylabel(\"Y-axis\")\n",
    "plt.grid(True)\n",
    "\n",
    "plt.show()"
   ]
  },
  {
   "cell_type": "markdown",
   "id": "7b53b7cd-7f6b-43e7-9e0c-979a7b4c0a2c",
   "metadata": {},
   "source": [
    "### Bar plot"
   ]
  },
  {
   "cell_type": "code",
   "execution_count": 79,
   "id": "1f6f5bc2-3645-48e3-afdb-e3d8551679de",
   "metadata": {},
   "outputs": [
    {
     "data": {
      "image/png": "[encoded data removed]",
      "text/plain": [
       "<Figure size 1200x500 with 2 Axes>"
      ]
     },
     "metadata": {},
     "output_type": "display_data"
    }
   ],
   "source": [
    "import warnings\n",
    "warnings.filterwarnings(\"ignore\")\n",
    "\n",
    "\n",
    "# Data\n",
    "categories = [\"A\", \"B\", \"C\", \"D\", \"E\"]\n",
    "values = [10, 20, 15, 25, 30]\n",
    "df = pd.DataFrame({\"Category\": categories, \"Value\": values})\n",
    "\n",
    "plt.figure(figsize=(12, 5))\n",
    "\n",
    "# Matplotlib\n",
    "plt.subplot(1, 2, 1)\n",
    "plt.bar(categories, values, color=\"green\", alpha=0.7)\n",
    "plt.title(\"Matplotlib Bar Chart\")\n",
    "plt.xlabel(\"Category\")\n",
    "plt.ylabel(\"Value\")\n",
    "\n",
    "# Seaborn\n",
    "plt.subplot(1, 2, 2)\n",
    "sns.barplot(x=\"Category\", y=\"Value\", data=df, palette=\"Greens\")\n",
    "plt.title(\"Seaborn Bar Chart\")\n",
    "plt.xlabel(\"Category\")\n",
    "plt.ylabel(\"Value\")\n",
    "\n",
    "plt.show()"
   ]
  },
  {
   "cell_type": "markdown",
   "id": "a1d0cca5-da09-4cd1-a8cb-38a4e907eb57",
   "metadata": {},
   "source": [
    "### Histogram"
   ]
  },
  {
   "cell_type": "code",
   "execution_count": 80,
   "id": "39921871-87ba-4036-a1ff-437b483f52d1",
   "metadata": {},
   "outputs": [
    {
     "data": {
      "image/png": "[encoded data removed]",
      "text/plain": [
       "<Figure size 1200x500 with 2 Axes>"
      ]
     },
     "metadata": {},
     "output_type": "display_data"
    }
   ],
   "source": [
    "# Random Data\n",
    "data = np.random.randn(1000)\n",
    "\n",
    "plt.figure(figsize=(12, 5))\n",
    "\n",
    "# Matplotlib\n",
    "plt.subplot(1, 2, 1)\n",
    "plt.hist(data, bins=30, color=\"blue\", edgecolor=\"black\", alpha=0.7)\n",
    "plt.title(\"Matplotlib Histogram\")\n",
    "plt.xlabel(\"Value\")\n",
    "plt.ylabel(\"Frequency\")\n",
    "\n",
    "# Seaborn\n",
    "plt.subplot(1, 2, 2)\n",
    "sns.histplot(data, bins=30, kde=True, color=\"green\")\n",
    "plt.title(\"Seaborn Histogram\")\n",
    "plt.xlabel(\"Value\")\n",
    "plt.ylabel(\"Frequency\")\n",
    "\n",
    "plt.show()"
   ]
  },
  {
   "cell_type": "markdown",
   "id": "df83b1ef-0b7d-43ed-9c2e-89bd2e7f0803",
   "metadata": {},
   "source": [
    "### Pie plot"
   ]
  },
  {
   "cell_type": "code",
   "execution_count": 81,
   "id": "8a86268e-5743-4730-8de8-2c6005d719dc",
   "metadata": {},
   "outputs": [
    {
     "data": {
      "image/png": "[encoded data removed]",
      "text/plain": [
       "<Figure size 1200x500 with 2 Axes>"
      ]
     },
     "metadata": {},
     "output_type": "display_data"
    }
   ],
   "source": [
    "# Data\n",
    "sizes = [25, 35, 20, 20]\n",
    "labels = [\"A\", \"B\", \"C\", \"D\"]\n",
    "colors = [\"lightblue\", \"lightgreen\", \"orange\", \"pink\"]\n",
    "\n",
    "plt.figure(figsize=(12, 5))\n",
    "\n",
    "# Matplotlib Pie Chart\n",
    "plt.subplot(1, 2, 1)\n",
    "plt.pie(sizes, labels=labels, colors=colors, autopct=\"%1.1f%%\", startangle=90)\n",
    "plt.title(\"Matplotlib Pie Chart\")\n",
    "\n",
    "# Matplotlib Styled Pie Chart (Seaborn alternative)\n",
    "plt.subplot(1, 2, 2)\n",
    "plt.pie(sizes, labels=labels, colors=sns.color_palette(\"pastel\"), autopct=\"%1.1f%%\", startangle=90)\n",
    "plt.title(\"Styled Pie Chart using Matplotlib\")\n",
    "\n",
    "plt.show()"
   ]
  },
  {
   "cell_type": "markdown",
   "id": "7e181eae-71fe-43da-bd5b-0eecfb9e2981",
   "metadata": {},
   "source": [
    "### Boxplot"
   ]
  },
  {
   "cell_type": "code",
   "execution_count": 87,
   "id": "c1ffff43-6daa-4f64-8958-da86b8933f52",
   "metadata": {},
   "outputs": [
    {
     "data": {
      "text/html": [
       "<div>\n",
       "<style scoped>\n",
       "    .dataframe tbody tr th:only-of-type {\n",
       "        vertical-align: middle;\n",
       "    }\n",
       "\n",
       "    .dataframe tbody tr th {\n",
       "        vertical-align: top;\n",
       "    }\n",
       "\n",
       "    .dataframe thead th {\n",
       "        text-align: right;\n",
       "    }\n",
       "</style>\n",
       "<table border=\"1\" class=\"dataframe\">\n",
       "  <thead>\n",
       "    <tr style=\"text-align: right;\">\n",
       "      <th></th>\n",
       "      <th>Transaction_ID</th>\n",
       "      <th>Card_Type</th>\n",
       "      <th>Merchant_Category</th>\n",
       "      <th>Transaction_Amount</th>\n",
       "      <th>Transaction_DateTime</th>\n",
       "      <th>City</th>\n",
       "      <th>Country</th>\n",
       "      <th>Cardholder_Age</th>\n",
       "      <th>Cardholder_Gender</th>\n",
       "      <th>Cardholder_Monthly_Income</th>\n",
       "      <th>Cardholder_Average_Spend</th>\n",
       "      <th>Credit_Limit</th>\n",
       "      <th>Device_Type</th>\n",
       "      <th>Day_of_Week</th>\n",
       "      <th>Is_Fraudulent</th>\n",
       "    </tr>\n",
       "  </thead>\n",
       "  <tbody>\n",
       "    <tr>\n",
       "      <th>0</th>\n",
       "      <td>W963UK57</td>\n",
       "      <td>Mastercard</td>\n",
       "      <td>Utility bill</td>\n",
       "      <td>2721.4</td>\n",
       "      <td>01-01-2020 09:43</td>\n",
       "      <td>Tokyo</td>\n",
       "      <td>Japan</td>\n",
       "      <td>23.0</td>\n",
       "      <td>Female</td>\n",
       "      <td>9463.0</td>\n",
       "      <td>3636.965</td>\n",
       "      <td>10000.0</td>\n",
       "      <td>Unknown</td>\n",
       "      <td>Wednesday</td>\n",
       "      <td>No</td>\n",
       "    </tr>\n",
       "    <tr>\n",
       "      <th>1</th>\n",
       "      <td>V606KV56</td>\n",
       "      <td>UnionPay</td>\n",
       "      <td>Retail</td>\n",
       "      <td>8395.6</td>\n",
       "      <td>03-01-2020 16:26</td>\n",
       "      <td>Tokyo</td>\n",
       "      <td>Japan</td>\n",
       "      <td>49.0</td>\n",
       "      <td>Male</td>\n",
       "      <td>14812.0</td>\n",
       "      <td>8917.912</td>\n",
       "      <td>15000.0</td>\n",
       "      <td>Desktop</td>\n",
       "      <td>Friday</td>\n",
       "      <td>No</td>\n",
       "    </tr>\n",
       "    <tr>\n",
       "      <th>2</th>\n",
       "      <td>R531NU70</td>\n",
       "      <td>Visa</td>\n",
       "      <td>Transportation</td>\n",
       "      <td>19328.0</td>\n",
       "      <td>04-01-2020 03:40</td>\n",
       "      <td>London</td>\n",
       "      <td>UK</td>\n",
       "      <td>NaN</td>\n",
       "      <td>Male</td>\n",
       "      <td>21092.0</td>\n",
       "      <td>10666.860</td>\n",
       "      <td>20000.0</td>\n",
       "      <td>Desktop</td>\n",
       "      <td>Saturday</td>\n",
       "      <td>No</td>\n",
       "    </tr>\n",
       "    <tr>\n",
       "      <th>3</th>\n",
       "      <td>T783GF79</td>\n",
       "      <td>American Express</td>\n",
       "      <td>Online Shopping</td>\n",
       "      <td>16738.1</td>\n",
       "      <td>04-01-2020 14:56</td>\n",
       "      <td>Tokyo</td>\n",
       "      <td>Japan</td>\n",
       "      <td>52.0</td>\n",
       "      <td>Female</td>\n",
       "      <td>14807.0</td>\n",
       "      <td>17315.552</td>\n",
       "      <td>20000.0</td>\n",
       "      <td>Desktop</td>\n",
       "      <td>Saturday</td>\n",
       "      <td>Yes</td>\n",
       "    </tr>\n",
       "    <tr>\n",
       "      <th>4</th>\n",
       "      <td>K256ZN73</td>\n",
       "      <td>American Express</td>\n",
       "      <td>Retail</td>\n",
       "      <td>8117.0</td>\n",
       "      <td>04-01-2020 17:26</td>\n",
       "      <td>Chicago</td>\n",
       "      <td>USA</td>\n",
       "      <td>37.0</td>\n",
       "      <td>Female</td>\n",
       "      <td>17447.0</td>\n",
       "      <td>5271.309</td>\n",
       "      <td>20000.0</td>\n",
       "      <td>Mobile</td>\n",
       "      <td>Saturday</td>\n",
       "      <td>No</td>\n",
       "    </tr>\n",
       "  </tbody>\n",
       "</table>\n",
       "</div>"
      ],
      "text/plain": [
       "  Transaction_ID         Card_Type Merchant_Category  Transaction_Amount  \\\n",
       "0       W963UK57        Mastercard      Utility bill              2721.4   \n",
       "1       V606KV56          UnionPay            Retail              8395.6   \n",
       "2       R531NU70              Visa    Transportation             19328.0   \n",
       "3       T783GF79  American Express   Online Shopping             16738.1   \n",
       "4       K256ZN73  American Express            Retail              8117.0   \n",
       "\n",
       "  Transaction_DateTime     City Country  Cardholder_Age Cardholder_Gender  \\\n",
       "0     01-01-2020 09:43    Tokyo   Japan            23.0            Female   \n",
       "1     03-01-2020 16:26    Tokyo   Japan            49.0              Male   \n",
       "2     04-01-2020 03:40   London      UK             NaN              Male   \n",
       "3     04-01-2020 14:56    Tokyo   Japan            52.0            Female   \n",
       "4     04-01-2020 17:26  Chicago     USA            37.0            Female   \n",
       "\n",
       "   Cardholder_Monthly_Income  Cardholder_Average_Spend  Credit_Limit  \\\n",
       "0                     9463.0                  3636.965       10000.0   \n",
       "1                    14812.0                  8917.912       15000.0   \n",
       "2                    21092.0                 10666.860       20000.0   \n",
       "3                    14807.0                 17315.552       20000.0   \n",
       "4                    17447.0                  5271.309       20000.0   \n",
       "\n",
       "  Device_Type Day_of_Week Is_Fraudulent  \n",
       "0     Unknown   Wednesday            No  \n",
       "1     Desktop      Friday            No  \n",
       "2     Desktop    Saturday            No  \n",
       "3     Desktop    Saturday           Yes  \n",
       "4      Mobile    Saturday            No  "
      ]
     },
     "execution_count": 87,
     "metadata": {},
     "output_type": "execute_result"
    }
   ],
   "source": [
    "df1.head()"
   ]
  },
  {
   "cell_type": "code",
   "execution_count": 99,
   "id": "a610bed6-1dbc-4562-bffb-030fb51bfd81",
   "metadata": {},
   "outputs": [
    {
     "data": {
      "image/png": "[encoded data removed]",
      "text/plain": [
       "<Figure size 1200x400 with 1 Axes>"
      ]
     },
     "metadata": {},
     "output_type": "display_data"
    }
   ],
   "source": [
    "plt.figure(figsize = (12,4))\n",
    "sns.boxplot(x = df1['Transaction_Amount'], color = 'g')\n",
    "plt.title(\"Boxplot for Transaction_Amount\")\n",
    "plt.grid()\n",
    "plt.show()"
   ]
  },
  {
   "cell_type": "code",
   "execution_count": 102,
   "id": "cfc4aac3-db75-4a3b-8013-7e3dcaf5645a",
   "metadata": {},
   "outputs": [
    {
     "data": {
      "text/html": [
       "<div>\n",
       "<style scoped>\n",
       "    .dataframe tbody tr th:only-of-type {\n",
       "        vertical-align: middle;\n",
       "    }\n",
       "\n",
       "    .dataframe tbody tr th {\n",
       "        vertical-align: top;\n",
       "    }\n",
       "\n",
       "    .dataframe thead th {\n",
       "        text-align: right;\n",
       "    }\n",
       "</style>\n",
       "<table border=\"1\" class=\"dataframe\">\n",
       "  <thead>\n",
       "    <tr style=\"text-align: right;\">\n",
       "      <th></th>\n",
       "      <th>Transaction_ID</th>\n",
       "      <th>Card_Type</th>\n",
       "      <th>Merchant_Category</th>\n",
       "      <th>Transaction_Amount</th>\n",
       "      <th>Transaction_DateTime</th>\n",
       "      <th>City</th>\n",
       "      <th>Country</th>\n",
       "      <th>Cardholder_Age</th>\n",
       "      <th>Cardholder_Gender</th>\n",
       "      <th>Cardholder_Monthly_Income</th>\n",
       "      <th>Cardholder_Average_Spend</th>\n",
       "      <th>Credit_Limit</th>\n",
       "      <th>Device_Type</th>\n",
       "      <th>Day_of_Week</th>\n",
       "      <th>Is_Fraudulent</th>\n",
       "    </tr>\n",
       "  </thead>\n",
       "  <tbody>\n",
       "    <tr>\n",
       "      <th>0</th>\n",
       "      <td>W963UK57</td>\n",
       "      <td>Mastercard</td>\n",
       "      <td>Utility bill</td>\n",
       "      <td>2721.4</td>\n",
       "      <td>01-01-2020 09:43</td>\n",
       "      <td>Tokyo</td>\n",
       "      <td>Japan</td>\n",
       "      <td>23.0</td>\n",
       "      <td>Female</td>\n",
       "      <td>9463.0</td>\n",
       "      <td>3636.965</td>\n",
       "      <td>10000.0</td>\n",
       "      <td>Unknown</td>\n",
       "      <td>Wednesday</td>\n",
       "      <td>No</td>\n",
       "    </tr>\n",
       "    <tr>\n",
       "      <th>1</th>\n",
       "      <td>V606KV56</td>\n",
       "      <td>UnionPay</td>\n",
       "      <td>Retail</td>\n",
       "      <td>8395.6</td>\n",
       "      <td>03-01-2020 16:26</td>\n",
       "      <td>Tokyo</td>\n",
       "      <td>Japan</td>\n",
       "      <td>49.0</td>\n",
       "      <td>Male</td>\n",
       "      <td>14812.0</td>\n",
       "      <td>8917.912</td>\n",
       "      <td>15000.0</td>\n",
       "      <td>Desktop</td>\n",
       "      <td>Friday</td>\n",
       "      <td>No</td>\n",
       "    </tr>\n",
       "    <tr>\n",
       "      <th>2</th>\n",
       "      <td>R531NU70</td>\n",
       "      <td>Visa</td>\n",
       "      <td>Transportation</td>\n",
       "      <td>19328.0</td>\n",
       "      <td>04-01-2020 03:40</td>\n",
       "      <td>London</td>\n",
       "      <td>UK</td>\n",
       "      <td>NaN</td>\n",
       "      <td>Male</td>\n",
       "      <td>21092.0</td>\n",
       "      <td>10666.860</td>\n",
       "      <td>20000.0</td>\n",
       "      <td>Desktop</td>\n",
       "      <td>Saturday</td>\n",
       "      <td>No</td>\n",
       "    </tr>\n",
       "    <tr>\n",
       "      <th>3</th>\n",
       "      <td>T783GF79</td>\n",
       "      <td>American Express</td>\n",
       "      <td>Online Shopping</td>\n",
       "      <td>16738.1</td>\n",
       "      <td>04-01-2020 14:56</td>\n",
       "      <td>Tokyo</td>\n",
       "      <td>Japan</td>\n",
       "      <td>52.0</td>\n",
       "      <td>Female</td>\n",
       "      <td>14807.0</td>\n",
       "      <td>17315.552</td>\n",
       "      <td>20000.0</td>\n",
       "      <td>Desktop</td>\n",
       "      <td>Saturday</td>\n",
       "      <td>Yes</td>\n",
       "    </tr>\n",
       "    <tr>\n",
       "      <th>4</th>\n",
       "      <td>K256ZN73</td>\n",
       "      <td>American Express</td>\n",
       "      <td>Retail</td>\n",
       "      <td>8117.0</td>\n",
       "      <td>04-01-2020 17:26</td>\n",
       "      <td>Chicago</td>\n",
       "      <td>USA</td>\n",
       "      <td>37.0</td>\n",
       "      <td>Female</td>\n",
       "      <td>17447.0</td>\n",
       "      <td>5271.309</td>\n",
       "      <td>20000.0</td>\n",
       "      <td>Mobile</td>\n",
       "      <td>Saturday</td>\n",
       "      <td>No</td>\n",
       "    </tr>\n",
       "  </tbody>\n",
       "</table>\n",
       "</div>"
      ],
      "text/plain": [
       "  Transaction_ID         Card_Type Merchant_Category  Transaction_Amount  \\\n",
       "0       W963UK57        Mastercard      Utility bill              2721.4   \n",
       "1       V606KV56          UnionPay            Retail              8395.6   \n",
       "2       R531NU70              Visa    Transportation             19328.0   \n",
       "3       T783GF79  American Express   Online Shopping             16738.1   \n",
       "4       K256ZN73  American Express            Retail              8117.0   \n",
       "\n",
       "  Transaction_DateTime     City Country  Cardholder_Age Cardholder_Gender  \\\n",
       "0     01-01-2020 09:43    Tokyo   Japan            23.0            Female   \n",
       "1     03-01-2020 16:26    Tokyo   Japan            49.0              Male   \n",
       "2     04-01-2020 03:40   London      UK             NaN              Male   \n",
       "3     04-01-2020 14:56    Tokyo   Japan            52.0            Female   \n",
       "4     04-01-2020 17:26  Chicago     USA            37.0            Female   \n",
       "\n",
       "   Cardholder_Monthly_Income  Cardholder_Average_Spend  Credit_Limit  \\\n",
       "0                     9463.0                  3636.965       10000.0   \n",
       "1                    14812.0                  8917.912       15000.0   \n",
       "2                    21092.0                 10666.860       20000.0   \n",
       "3                    14807.0                 17315.552       20000.0   \n",
       "4                    17447.0                  5271.309       20000.0   \n",
       "\n",
       "  Device_Type Day_of_Week Is_Fraudulent  \n",
       "0     Unknown   Wednesday            No  \n",
       "1     Desktop      Friday            No  \n",
       "2     Desktop    Saturday            No  \n",
       "3     Desktop    Saturday           Yes  \n",
       "4      Mobile    Saturday            No  "
      ]
     },
     "execution_count": 102,
     "metadata": {},
     "output_type": "execute_result"
    }
   ],
   "source": [
    "df1.head()"
   ]
  },
  {
   "cell_type": "code",
   "execution_count": 104,
   "id": "647d66b1-beb0-43a1-9d98-157401ba4ade",
   "metadata": {},
   "outputs": [
    {
     "name": "stdout",
     "output_type": "stream",
     "text": [
      "<class 'pandas.core.frame.DataFrame'>\n",
      "RangeIndex: 5000 entries, 0 to 4999\n",
      "Data columns (total 15 columns):\n",
      " #   Column                     Non-Null Count  Dtype  \n",
      "---  ------                     --------------  -----  \n",
      " 0   Transaction_ID             5000 non-null   object \n",
      " 1   Card_Type                  4983 non-null   object \n",
      " 2   Merchant_Category          4978 non-null   object \n",
      " 3   Transaction_Amount         4994 non-null   float64\n",
      " 4   Transaction_DateTime       5000 non-null   object \n",
      " 5   City                       5000 non-null   object \n",
      " 6   Country                    5000 non-null   object \n",
      " 7   Cardholder_Age             4865 non-null   float64\n",
      " 8   Cardholder_Gender          4911 non-null   object \n",
      " 9   Cardholder_Monthly_Income  4686 non-null   float64\n",
      " 10  Cardholder_Average_Spend   4792 non-null   float64\n",
      " 11  Credit_Limit               4991 non-null   float64\n",
      " 12  Device_Type                4960 non-null   object \n",
      " 13  Day_of_Week                5000 non-null   object \n",
      " 14  Is_Fraudulent              5000 non-null   object \n",
      "dtypes: float64(5), object(10)\n",
      "memory usage: 586.1+ KB\n"
     ]
    }
   ],
   "source": [
    "df1.info()"
   ]
  },
  {
   "cell_type": "code",
   "execution_count": 106,
   "id": "0b401fcd-cb80-47d2-af23-c00ce0848225",
   "metadata": {},
   "outputs": [],
   "source": [
    "df1_float = df1.select_dtypes(include = \"float\")"
   ]
  },
  {
   "cell_type": "code",
   "execution_count": 108,
   "id": "f219f0c8-1b6c-49ad-aa95-66b6b08fd15b",
   "metadata": {},
   "outputs": [
    {
     "data": {
      "text/html": [
       "<div>\n",
       "<style scoped>\n",
       "    .dataframe tbody tr th:only-of-type {\n",
       "        vertical-align: middle;\n",
       "    }\n",
       "\n",
       "    .dataframe tbody tr th {\n",
       "        vertical-align: top;\n",
       "    }\n",
       "\n",
       "    .dataframe thead th {\n",
       "        text-align: right;\n",
       "    }\n",
       "</style>\n",
       "<table border=\"1\" class=\"dataframe\">\n",
       "  <thead>\n",
       "    <tr style=\"text-align: right;\">\n",
       "      <th></th>\n",
       "      <th>Transaction_Amount</th>\n",
       "      <th>Cardholder_Age</th>\n",
       "      <th>Cardholder_Monthly_Income</th>\n",
       "      <th>Cardholder_Average_Spend</th>\n",
       "      <th>Credit_Limit</th>\n",
       "    </tr>\n",
       "  </thead>\n",
       "  <tbody>\n",
       "    <tr>\n",
       "      <th>0</th>\n",
       "      <td>2721.4</td>\n",
       "      <td>23.0</td>\n",
       "      <td>9463.0</td>\n",
       "      <td>3636.965</td>\n",
       "      <td>10000.0</td>\n",
       "    </tr>\n",
       "    <tr>\n",
       "      <th>1</th>\n",
       "      <td>8395.6</td>\n",
       "      <td>49.0</td>\n",
       "      <td>14812.0</td>\n",
       "      <td>8917.912</td>\n",
       "      <td>15000.0</td>\n",
       "    </tr>\n",
       "    <tr>\n",
       "      <th>2</th>\n",
       "      <td>19328.0</td>\n",
       "      <td>NaN</td>\n",
       "      <td>21092.0</td>\n",
       "      <td>10666.860</td>\n",
       "      <td>20000.0</td>\n",
       "    </tr>\n",
       "    <tr>\n",
       "      <th>3</th>\n",
       "      <td>16738.1</td>\n",
       "      <td>52.0</td>\n",
       "      <td>14807.0</td>\n",
       "      <td>17315.552</td>\n",
       "      <td>20000.0</td>\n",
       "    </tr>\n",
       "    <tr>\n",
       "      <th>4</th>\n",
       "      <td>8117.0</td>\n",
       "      <td>37.0</td>\n",
       "      <td>17447.0</td>\n",
       "      <td>5271.309</td>\n",
       "      <td>20000.0</td>\n",
       "    </tr>\n",
       "  </tbody>\n",
       "</table>\n",
       "</div>"
      ],
      "text/plain": [
       "   Transaction_Amount  Cardholder_Age  Cardholder_Monthly_Income  \\\n",
       "0              2721.4            23.0                     9463.0   \n",
       "1              8395.6            49.0                    14812.0   \n",
       "2             19328.0             NaN                    21092.0   \n",
       "3             16738.1            52.0                    14807.0   \n",
       "4              8117.0            37.0                    17447.0   \n",
       "\n",
       "   Cardholder_Average_Spend  Credit_Limit  \n",
       "0                  3636.965       10000.0  \n",
       "1                  8917.912       15000.0  \n",
       "2                 10666.860       20000.0  \n",
       "3                 17315.552       20000.0  \n",
       "4                  5271.309       20000.0  "
      ]
     },
     "execution_count": 108,
     "metadata": {},
     "output_type": "execute_result"
    }
   ],
   "source": [
    "df1_float.head()"
   ]
  },
  {
   "cell_type": "code",
   "execution_count": 110,
   "id": "43fa7043-02aa-495c-aa4d-40be7b2374c7",
   "metadata": {},
   "outputs": [
    {
     "data": {
      "text/plain": [
       "Index(['Transaction_Amount', 'Cardholder_Age', 'Cardholder_Monthly_Income',\n",
       "       'Cardholder_Average_Spend', 'Credit_Limit'],\n",
       "      dtype='object')"
      ]
     },
     "execution_count": 110,
     "metadata": {},
     "output_type": "execute_result"
    }
   ],
   "source": [
    "df1_float.columns"
   ]
  },
  {
   "cell_type": "code",
   "execution_count": 112,
   "id": "30b7a4cd-7880-4c26-841f-9d0c3a754c96",
   "metadata": {},
   "outputs": [],
   "source": [
    "df1_float = df1_float.dropna()"
   ]
  },
  {
   "cell_type": "code",
   "execution_count": 113,
   "id": "be873c78-6d94-4760-9aee-58de8ab243bd",
   "metadata": {},
   "outputs": [
    {
     "data": {
      "text/plain": [
       "Transaction_Amount           0\n",
       "Cardholder_Age               0\n",
       "Cardholder_Monthly_Income    0\n",
       "Cardholder_Average_Spend     0\n",
       "Credit_Limit                 0\n",
       "dtype: int64"
      ]
     },
     "execution_count": 113,
     "metadata": {},
     "output_type": "execute_result"
    }
   ],
   "source": [
    "df1_float.isnull().sum()"
   ]
  },
  {
   "cell_type": "code",
   "execution_count": 116,
   "id": "8fff465a-b2d7-4df0-b82a-b56496813a18",
   "metadata": {},
   "outputs": [
    {
     "data": {
      "image/png": "[encoded data removed]",
      "text/plain": [
       "<Figure size 1200x400 with 1 Axes>"
      ]
     },
     "metadata": {},
     "output_type": "display_data"
    },
    {
     "data": {
      "image/png": "[encoded data removed]",
      "text/plain": [
       "<Figure size 1200x400 with 1 Axes>"
      ]
     },
     "metadata": {},
     "output_type": "display_data"
    },
    {
     "data": {
      "image/png": "[encoded data removed]",
      "text/plain": [
       "<Figure size 1200x400 with 1 Axes>"
      ]
     },
     "metadata": {},
     "output_type": "display_data"
    },
    {
     "data": {
      "image/png": "[encoded data removed]",
      "text/plain": [
       "<Figure size 1200x400 with 1 Axes>"
      ]
     },
     "metadata": {},
     "output_type": "display_data"
    },
    {
     "data": {
      "image/png": "[encoded data removed]",
      "text/plain": [
       "<Figure size 1200x400 with 1 Axes>"
      ]
     },
     "metadata": {},
     "output_type": "display_data"
    }
   ],
   "source": [
    "for i in df1_float.columns:\n",
    "    plt.figure(figsize = (12,4))\n",
    "    sns.boxplot(x = df1[i], color = 'g')\n",
    "    plt.title(i)\n",
    "    plt.grid()\n",
    "    plt.show()"
   ]
  }
 ],
 "metadata": {
  "kernelspec": {
   "display_name": "Python 3 (ipykernel)",
   "language": "python",
   "name": "python3"
  },
  "language_info": {
   "codemirror_mode": {
    "name": "ipython",
    "version": 3
   },
   "file_extension": ".py",
   "mimetype": "text/x-python",
   "name": "python",
   "nbconvert_exporter": "python",
   "pygments_lexer": "ipython3",
   "version": "3.12.7"
  }
 },
 "nbformat": 4,
 "nbformat_minor": 5
}
