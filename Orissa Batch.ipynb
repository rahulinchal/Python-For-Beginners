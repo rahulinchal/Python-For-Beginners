{
 "cells": [
  {
   "cell_type": "code",
   "execution_count": 1,
   "id": "3a823bc6-ba37-417b-b4cf-890a5cb73e28",
   "metadata": {},
   "outputs": [
    {
     "name": "stdout",
     "output_type": "stream",
     "text": [
      "Hello,World\n"
     ]
    }
   ],
   "source": [
    "print(\"Hello,World\")"
   ]
  },
  {
   "cell_type": "code",
   "execution_count": 3,
   "id": "0a740a7a-521c-4bc3-a7c0-47d464dfac89",
   "metadata": {},
   "outputs": [],
   "source": [
    "AB104 = 50"
   ]
  },
  {
   "cell_type": "markdown",
   "id": "0f436ba2-a56d-4658-afe9-9a24adcf6358",
   "metadata": {},
   "source": [
    "### AB104 is a variable <br>50 is the value which is stored in that variable"
   ]
  },
  {
   "cell_type": "markdown",
   "id": "3eb0fb1c-4270-4523-b6b4-02a408229ada",
   "metadata": {},
   "source": [
    "### There are rules which are set to decalre a variable. <br> There are multiple data types which are\n",
    "1. Integer - Any natural number\n",
    "2. FLoat - Any decimal number\n",
    "3. String - Anything which is enclosed in quotes (\"\")\n",
    "4. Boolean - True/ False\n",
    "5. Complex - Complex numbers like 3 + 4j\n",
    "6. Nonetype - The variable which contain none"
   ]
  },
  {
   "cell_type": "code",
   "execution_count": 4,
   "id": "396919bd-d8e0-4486-a480-07f421767dfa",
   "metadata": {},
   "outputs": [],
   "source": [
    "a = 5 # integer"
   ]
  },
  {
   "cell_type": "code",
   "execution_count": 5,
   "id": "8197c9ff-c119-4546-89d9-0b04e6001dfc",
   "metadata": {},
   "outputs": [
    {
     "data": {
      "text/plain": [
       "int"
      ]
     },
     "execution_count": 5,
     "metadata": {},
     "output_type": "execute_result"
    }
   ],
   "source": [
    "type(a)"
   ]
  },
  {
   "cell_type": "code",
   "execution_count": 6,
   "id": "7a21ccb9-d316-4e83-9982-b45fa216913b",
   "metadata": {},
   "outputs": [],
   "source": [
    "a = 5.5"
   ]
  },
  {
   "cell_type": "code",
   "execution_count": 7,
   "id": "9116c9f4-fa4a-405a-a544-592183b943d2",
   "metadata": {},
   "outputs": [
    {
     "data": {
      "text/plain": [
       "float"
      ]
     },
     "execution_count": 7,
     "metadata": {},
     "output_type": "execute_result"
    }
   ],
   "source": [
    "type(a)"
   ]
  },
  {
   "cell_type": "code",
   "execution_count": 8,
   "id": "299db487-a53e-43e7-9783-06e53f4e68ac",
   "metadata": {},
   "outputs": [],
   "source": [
    "a = \"India\""
   ]
  },
  {
   "cell_type": "code",
   "execution_count": 9,
   "id": "3e3e3389-36c9-4af0-9ae5-a1fa4faa7e8f",
   "metadata": {},
   "outputs": [
    {
     "data": {
      "text/plain": [
       "str"
      ]
     },
     "execution_count": 9,
     "metadata": {},
     "output_type": "execute_result"
    }
   ],
   "source": [
    "type(a)"
   ]
  },
  {
   "cell_type": "code",
   "execution_count": 10,
   "id": "0f0bb4b1-7508-4768-96bd-250525bfa64c",
   "metadata": {},
   "outputs": [],
   "source": [
    "a = True"
   ]
  },
  {
   "cell_type": "code",
   "execution_count": 11,
   "id": "c47f4553-c74b-46ac-85ac-bafc32df53e5",
   "metadata": {},
   "outputs": [
    {
     "data": {
      "text/plain": [
       "bool"
      ]
     },
     "execution_count": 11,
     "metadata": {},
     "output_type": "execute_result"
    }
   ],
   "source": [
    "type(a)"
   ]
  },
  {
   "cell_type": "code",
   "execution_count": 12,
   "id": "b0494284-2515-425e-b7cc-019bac0d95ba",
   "metadata": {},
   "outputs": [],
   "source": [
    "a = False"
   ]
  },
  {
   "cell_type": "code",
   "execution_count": 13,
   "id": "c4827cb3-a113-4f14-b92b-90217c5fb58a",
   "metadata": {},
   "outputs": [
    {
     "data": {
      "text/plain": [
       "bool"
      ]
     },
     "execution_count": 13,
     "metadata": {},
     "output_type": "execute_result"
    }
   ],
   "source": [
    "type(a)"
   ]
  },
  {
   "cell_type": "code",
   "execution_count": 14,
   "id": "ee8cbe02-deb5-4a11-923f-18b6616fe408",
   "metadata": {},
   "outputs": [],
   "source": [
    "a = 3 +6j"
   ]
  },
  {
   "cell_type": "code",
   "execution_count": 15,
   "id": "c88a8fd9-ee31-4606-8a28-663a75b0653c",
   "metadata": {},
   "outputs": [
    {
     "data": {
      "text/plain": [
       "complex"
      ]
     },
     "execution_count": 15,
     "metadata": {},
     "output_type": "execute_result"
    }
   ],
   "source": [
    "type(a)"
   ]
  },
  {
   "cell_type": "code",
   "execution_count": 16,
   "id": "d805b349-be13-4c18-9c04-9aaf28af8732",
   "metadata": {},
   "outputs": [],
   "source": [
    "a = None"
   ]
  },
  {
   "cell_type": "code",
   "execution_count": 17,
   "id": "f6438202-f960-4da1-9bc8-8aa8a6bd8256",
   "metadata": {},
   "outputs": [
    {
     "data": {
      "text/plain": [
       "NoneType"
      ]
     },
     "execution_count": 17,
     "metadata": {},
     "output_type": "execute_result"
    }
   ],
   "source": [
    "type(a)"
   ]
  },
  {
   "cell_type": "markdown",
   "id": "20243897-e8c9-4e77-b4d0-1694872300f6",
   "metadata": {},
   "source": [
    "### There are some rules to declare a variable\n",
    "1. Variable names are case sensitive.\n",
    "2. Variable names can include alphabets A-Z, a-z, 0-9.\n",
    "3. Varibale name cannot start with a number and can never include any special character except underscore(_).\n",
    "4. Avoid using reserved keywords in naming a Variable."
   ]
  },
  {
   "cell_type": "code",
   "execution_count": 18,
   "id": "09447767-0684-47df-8cba-77be2b9def45",
   "metadata": {},
   "outputs": [],
   "source": [
    "name = \"Rahul\""
   ]
  },
  {
   "cell_type": "code",
   "execution_count": 19,
   "id": "b5811b9a-51db-4852-9396-11f86ab75ab0",
   "metadata": {},
   "outputs": [
    {
     "data": {
      "text/plain": [
       "str"
      ]
     },
     "execution_count": 19,
     "metadata": {},
     "output_type": "execute_result"
    }
   ],
   "source": [
    "type(name)"
   ]
  },
  {
   "cell_type": "code",
   "execution_count": 22,
   "id": "b6b9fe79-f2e4-40be-af95-8a15b3802ffe",
   "metadata": {},
   "outputs": [
    {
     "name": "stdout",
     "output_type": "stream",
     "text": [
      "Rahul\n"
     ]
    }
   ],
   "source": [
    "print(name)"
   ]
  },
  {
   "cell_type": "code",
   "execution_count": 30,
   "id": "48b8841e-79f1-4ed8-897c-c863296c5766",
   "metadata": {},
   "outputs": [],
   "source": [
    "NaMe13 = \"Rahul\""
   ]
  },
  {
   "cell_type": "code",
   "execution_count": 26,
   "id": "eda097b8-b2cc-437b-935f-38da9745b4f8",
   "metadata": {},
   "outputs": [
    {
     "name": "stdout",
     "output_type": "stream",
     "text": [
      "Rahul\n"
     ]
    }
   ],
   "source": [
    "print(Name)"
   ]
  },
  {
   "cell_type": "code",
   "execution_count": 33,
   "id": "e0c72017-73eb-4395-bfc7-be36b5bfd43d",
   "metadata": {},
   "outputs": [],
   "source": [
    "na_me = \"Rahul\""
   ]
  },
  {
   "cell_type": "code",
   "execution_count": 37,
   "id": "96a92f19-5300-46a4-a2f9-37e8c4eb1c37",
   "metadata": {},
   "outputs": [],
   "source": [
    "for1 = \"Rahul\""
   ]
  },
  {
   "cell_type": "code",
   "execution_count": 36,
   "id": "d4a9c73c-167d-4800-ad95-e03761324dac",
   "metadata": {},
   "outputs": [],
   "source": [
    "List = \"Rahul\""
   ]
  },
  {
   "cell_type": "markdown",
   "id": "cfca30ce-1b43-4c30-882b-01de7d9a8097",
   "metadata": {},
   "source": [
    "### How to take an input from the user"
   ]
  },
  {
   "cell_type": "code",
   "execution_count": 51,
   "id": "2ec9c173-7455-47f9-a060-b31d7d564dc1",
   "metadata": {},
   "outputs": [
    {
     "name": "stdin",
     "output_type": "stream",
     "text": [
      "Enter a number:  10\n"
     ]
    }
   ],
   "source": [
    "a = int(input(\"Enter a number: \"))"
   ]
  },
  {
   "cell_type": "markdown",
   "id": "5c2dc0fd-09c9-442d-b4cb-6cbd79afae5c",
   "metadata": {},
   "source": [
    "### How to convert from one data type to another"
   ]
  },
  {
   "cell_type": "code",
   "execution_count": 52,
   "id": "184b533b-a09f-496a-9613-ab6b672f649b",
   "metadata": {},
   "outputs": [],
   "source": [
    "a = 10"
   ]
  },
  {
   "cell_type": "code",
   "execution_count": 53,
   "id": "44f37baa-4931-418c-9e4c-b705e55077ee",
   "metadata": {},
   "outputs": [
    {
     "data": {
      "text/plain": [
       "int"
      ]
     },
     "execution_count": 53,
     "metadata": {},
     "output_type": "execute_result"
    }
   ],
   "source": [
    "type(a)"
   ]
  },
  {
   "cell_type": "code",
   "execution_count": 54,
   "id": "0741c7a0-953c-44db-85cc-87d0eec25834",
   "metadata": {},
   "outputs": [
    {
     "data": {
      "text/plain": [
       "10.0"
      ]
     },
     "execution_count": 54,
     "metadata": {},
     "output_type": "execute_result"
    }
   ],
   "source": [
    "float(a)"
   ]
  },
  {
   "cell_type": "code",
   "execution_count": 56,
   "id": "35a08d8f-9333-4a6d-8a27-d72b2d919ece",
   "metadata": {},
   "outputs": [
    {
     "data": {
      "text/plain": [
       "'10'"
      ]
     },
     "execution_count": 56,
     "metadata": {},
     "output_type": "execute_result"
    }
   ],
   "source": [
    "str(a)"
   ]
  },
  {
   "cell_type": "markdown",
   "id": "abb098d1-84ae-4730-ab83-cc77b929f692",
   "metadata": {},
   "source": [
    "### Operators and operands"
   ]
  },
  {
   "cell_type": "code",
   "execution_count": 2,
   "id": "465aa7e0-f9b5-4a2e-9892-3b5543379e12",
   "metadata": {},
   "outputs": [
    {
     "data": {
      "text/plain": [
       "15"
      ]
     },
     "execution_count": 2,
     "metadata": {},
     "output_type": "execute_result"
    }
   ],
   "source": [
    "x = 5  # operands\n",
    "y = 10 # operands\n",
    "\n",
    "z = x + y # + is my operator\n",
    "z"
   ]
  },
  {
   "cell_type": "markdown",
   "id": "27e9e422-c839-4db4-86d6-259321c4bc36",
   "metadata": {},
   "source": [
    "### Typese of operator\n",
    "1. Arithmatic operator\n",
    "2. Unary operator\n",
    "3. Binary operator\n",
    "4. Relational operators\n",
    "5. Logical operator\n",
    "6. Arithmatic assignment operator\n",
    "7. Bitwise operator"
   ]
  },
  {
   "cell_type": "markdown",
   "id": "bf48e2fe-1a35-4ac8-bfd2-0ae53b049425",
   "metadata": {},
   "source": [
    "### 1. Arithmatic operator"
   ]
  },
  {
   "cell_type": "code",
   "execution_count": 3,
   "id": "8b797a79-4d85-44de-bd47-da095bde24e1",
   "metadata": {},
   "outputs": [],
   "source": [
    "x = 5 # integer\n",
    "y = 3 # integer"
   ]
  },
  {
   "cell_type": "code",
   "execution_count": 6,
   "id": "4b0bd4d0-5a62-4eaa-9443-321cd2d3821d",
   "metadata": {},
   "outputs": [
    {
     "name": "stdout",
     "output_type": "stream",
     "text": [
      "Addition 8\n",
      "Subtraction 2\n",
      "Division 1.6666666666666667\n",
      "Multiplication 15\n",
      "Modulus 2\n",
      "Exponential 125\n",
      "Floor division 1\n"
     ]
    }
   ],
   "source": [
    "print(\"Addition\", x + y) # Addition \n",
    "print(\"Subtraction\", x - y) # Subtraction\n",
    "print(\"Division\", x / y) # Division\n",
    "print(\"Multiplication\", x * y) # Multiplication\n",
    "print(\"Modulus\", x % y) # Modulus\n",
    "print(\"Exponential\", x ** y) # Exponential\n",
    "print(\"Floor division\", x //y ) # Floor division"
   ]
  },
  {
   "cell_type": "markdown",
   "id": "c77acfd3-7d68-4b05-8d04-62b018f04a62",
   "metadata": {},
   "source": [
    "### 2. Unary operator: Operators on a single operands"
   ]
  },
  {
   "cell_type": "code",
   "execution_count": 7,
   "id": "ffee1d07-df26-434f-982b-30fa9274673e",
   "metadata": {},
   "outputs": [
    {
     "name": "stdout",
     "output_type": "stream",
     "text": [
      "-5\n"
     ]
    }
   ],
   "source": [
    "x = 5\n",
    "print(-x)"
   ]
  },
  {
   "cell_type": "markdown",
   "id": "6f8a2ae2-507d-4ba9-9688-95af829661c7",
   "metadata": {},
   "source": [
    "### 3. Binary Operator: Opearate on two operands eg Addition, Multiplication, division, subtraction etc"
   ]
  },
  {
   "cell_type": "code",
   "execution_count": 10,
   "id": "d2634db4-c880-4a16-9c3c-d9b1504b7f4f",
   "metadata": {},
   "outputs": [
    {
     "name": "stdout",
     "output_type": "stream",
     "text": [
      "Addition 8\n",
      "Subtraction 2\n",
      "Division 1.6666666666666667\n",
      "Multiplication 15\n",
      "Modulus 2\n",
      "Exponential 125\n",
      "Floor division 1\n"
     ]
    }
   ],
   "source": [
    "print(\"Addition\", x + y) # Addition \n",
    "print(\"Subtraction\", x - y) # Subtraction\n",
    "print(\"Division\", x / y) # Division\n",
    "print(\"Multiplication\", x * y) # Multiplication\n",
    "print(\"Modulus\", x % y) # Modulus\n",
    "print(\"Exponential\", x ** y) # Exponential\n",
    "print(\"Floor division\", x //y ) # Floor division"
   ]
  },
  {
   "cell_type": "code",
   "execution_count": null,
   "id": "b453d5e1-3619-45e2-a840-2372a050cfd6",
   "metadata": {},
   "outputs": [],
   "source": []
  },
  {
   "cell_type": "markdown",
   "id": "1ac0a4fe-1d02-4cda-9d8c-aafa552f9ec4",
   "metadata": {},
   "source": [
    "### 4. Relational Opearator: Compares two values and gives you boolean value"
   ]
  },
  {
   "cell_type": "code",
   "execution_count": 11,
   "id": "39ccd9ec-01a4-4e7b-a1e5-a933e17eaeb9",
   "metadata": {},
   "outputs": [],
   "source": [
    "x = 10\n",
    "y = 5"
   ]
  },
  {
   "cell_type": "code",
   "execution_count": 12,
   "id": "b1ff6d86-9f01-427f-8764-976e43fc10cd",
   "metadata": {},
   "outputs": [
    {
     "name": "stdout",
     "output_type": "stream",
     "text": [
      "True\n",
      "False\n",
      "True\n",
      "False\n",
      "True\n",
      "False\n"
     ]
    }
   ],
   "source": [
    "print(x > y)\n",
    "print(x < y)\n",
    "print(x != y)\n",
    "print(x == y)\n",
    "print(x >= y)\n",
    "print(x <= y)"
   ]
  },
  {
   "cell_type": "markdown",
   "id": "a74e0394-9d5c-4f29-b8a2-47fdb0852df5",
   "metadata": {},
   "source": [
    "### 5. Logical operator: Used to combine conditional statements "
   ]
  },
  {
   "cell_type": "code",
   "execution_count": 13,
   "id": "2ae16a7b-a8bc-4786-9ffe-da0d9e0e0403",
   "metadata": {},
   "outputs": [],
   "source": [
    "x = True # 1\n",
    "y = False # 0"
   ]
  },
  {
   "cell_type": "code",
   "execution_count": 14,
   "id": "34407abe-2dff-413a-8c02-8a33e0a401d3",
   "metadata": {},
   "outputs": [
    {
     "name": "stdout",
     "output_type": "stream",
     "text": [
      "False\n",
      "True\n",
      "False\n"
     ]
    }
   ],
   "source": [
    "print(x and y)\n",
    "print(x or y)\n",
    "print(not x)"
   ]
  },
  {
   "cell_type": "markdown",
   "id": "4965a82d-4f55-47ab-984c-ca0a56b79294",
   "metadata": {},
   "source": [
    "### 6. Arithmatic assignment operator: eg +=, -=, *=,/="
   ]
  },
  {
   "cell_type": "code",
   "execution_count": 15,
   "id": "9a3d209d-ef76-48c9-8945-b2fccbbffc2a",
   "metadata": {},
   "outputs": [
    {
     "data": {
      "text/plain": [
       "15"
      ]
     },
     "execution_count": 15,
     "metadata": {},
     "output_type": "execute_result"
    }
   ],
   "source": [
    "x = 10\n",
    "\n",
    "x += 5 # x = x + 5\n",
    "x"
   ]
  },
  {
   "cell_type": "code",
   "execution_count": 17,
   "id": "e7303fff-4a0e-441f-9938-3f47ddf1767f",
   "metadata": {},
   "outputs": [
    {
     "data": {
      "text/plain": [
       "50"
      ]
     },
     "execution_count": 17,
     "metadata": {},
     "output_type": "execute_result"
    }
   ],
   "source": [
    "a = 10\n",
    "a *= 5 # a = a*5\n",
    "a"
   ]
  },
  {
   "cell_type": "markdown",
   "id": "bfca74d7-aca5-4ce2-a3c5-e15f7340cf33",
   "metadata": {},
   "source": [
    "### 7. Bitwise Operator"
   ]
  },
  {
   "cell_type": "code",
   "execution_count": 18,
   "id": "459d4d0b-b2c2-4d55-8fbf-dff0472a2b57",
   "metadata": {},
   "outputs": [],
   "source": [
    "x = 5\n",
    "y = 3"
   ]
  },
  {
   "cell_type": "code",
   "execution_count": 20,
   "id": "aafbf01e-8880-4414-996c-17349b53000e",
   "metadata": {},
   "outputs": [
    {
     "name": "stdout",
     "output_type": "stream",
     "text": [
      "1\n",
      "7\n",
      "6\n",
      "-6\n",
      "10\n",
      "2\n"
     ]
    }
   ],
   "source": [
    "print(x & y)\n",
    "print(x | y)\n",
    "print(x ^ y)\n",
    "print(~x)\n",
    "print(x << 1)\n",
    "print(x >> 1)"
   ]
  },
  {
   "cell_type": "raw",
   "id": "ba261779-f558-4eaf-a47c-9e0ddc8424c5",
   "metadata": {},
   "source": [
    "Explanation of print(x & y)\n",
    ". . . 128 64 32 16 8 4 2 1\n",
    "               5 = 0 1 0 1   \n",
    "               3 = 0 0 1 1\n",
    "            -----------------\n",
    "                   0 0 0 1\n",
    "            -----------------"
   ]
  },
  {
   "cell_type": "markdown",
   "id": "7b65040a-6311-4a12-a080-76231676c27e",
   "metadata": {},
   "source": [
    "## **Control statement**\n",
    "Control statement alters the flow of execution of a program. It generally includes statements like if, else or loops for while loop, and jump statements like break, continue, return."
   ]
  },
  {
   "cell_type": "markdown",
   "id": "6a72b7da-b519-4047-93aa-7117996aea5a",
   "metadata": {},
   "source": [
    "### If else"
   ]
  },
  {
   "cell_type": "raw",
   "id": "32dc516f-0b8f-4046-84db-9ea5763ca2da",
   "metadata": {},
   "source": [
    "if condition:\n",
    "    Do something\n",
    "else:\n",
    "    Don this"
   ]
  },
  {
   "cell_type": "code",
   "execution_count": 21,
   "id": "d265254e-388e-4f18-8b97-0857c62e9c5f",
   "metadata": {},
   "outputs": [
    {
     "name": "stdout",
     "output_type": "stream",
     "text": [
      "Huurray\n"
     ]
    }
   ],
   "source": [
    "if 5 > 3:\n",
    "    print(\"Huurray\")\n",
    "else:\n",
    "    print(\"Not Hurray\")"
   ]
  },
  {
   "cell_type": "code",
   "execution_count": 26,
   "id": "260d31f8-3511-4c8b-ba3e-88de96191baa",
   "metadata": {},
   "outputs": [
    {
     "name": "stdout",
     "output_type": "stream",
     "text": [
      "No\n"
     ]
    }
   ],
   "source": [
    "if False:\n",
    "    print(\"Yes\")\n",
    "else:\n",
    "    print(\"No\")"
   ]
  },
  {
   "cell_type": "code",
   "execution_count": 29,
   "id": "22d01ca8-360a-497f-af92-71af5a9ee3f1",
   "metadata": {},
   "outputs": [
    {
     "name": "stdin",
     "output_type": "stream",
     "text": [
      "ENter the number:  -10\n"
     ]
    },
    {
     "name": "stdout",
     "output_type": "stream",
     "text": [
      "The number is less than 10\n"
     ]
    }
   ],
   "source": [
    "num = int(input(\"ENter the number: \"))\n",
    "if num > 10:\n",
    "    print(\"The number user printed is greater than 10\")\n",
    "else: \n",
    "    print(\"The number is less than 10\")"
   ]
  },
  {
   "cell_type": "markdown",
   "id": "462e1714-0ecd-412b-b7a0-897bb749003c",
   "metadata": {},
   "source": [
    "### If, elif, elif, ... , else"
   ]
  },
  {
   "cell_type": "code",
   "execution_count": 32,
   "id": "103e2ec8-c1e8-4680-ab17-c947525173aa",
   "metadata": {},
   "outputs": [
    {
     "name": "stdin",
     "output_type": "stream",
     "text": [
      "Enter the number -9\n"
     ]
    },
    {
     "name": "stdout",
     "output_type": "stream",
     "text": [
      "The number is less than 10\n"
     ]
    }
   ],
   "source": [
    "num = int(input(\"Enter the number\"))\n",
    "if num > 10:\n",
    "    print(\"The number is greater than 10\")\n",
    "elif num == 10:\n",
    "    print(\"The number is equal to 10\")\n",
    "else:\n",
    "    print(\"The number is less than 10\")"
   ]
  },
  {
   "cell_type": "markdown",
   "id": "83555d09-eb25-43fb-84a7-48000d1d7476",
   "metadata": {},
   "source": [
    "## **Practice Question for if- else**\n",
    "### **Basic Questions**\n",
    "1. Write a program that takes an integer input from the user and prints whether it is **positive**, **negative**, or **zero**.\n",
    "2. Write a program that asks for a number and prints whether it is **even** or **odd**.\n",
    "3. Ask the user to enter their age and determine if they are **a child (0-12 years)**, **a teenager (13-19 years)**, **an adult (20-59 years)**, or **a senior citizen (60+ years)**.\n",
    "\n",
    "### **Intermediate Questions**\n",
    "4. Write a program that asks for a score (0-100) and prints the corresponding **grade**:\n",
    "   - 90-100: A\n",
    "   - 80-89: B\n",
    "   - 70-79: C\n",
    "   - 60-69: D\n",
    "   - Below 60: F\n",
    "5. Ask the user for a year and determine whether it is a **leap year** or not.\n",
    "6. Write a program that asks for the temperature and prints whether it is **Cold (<15°C), Warm (15-25°C), or Hot (>25°C)**.\n",
    "7. Ask the user to input a character and check if it is a **vowel (a, e, i, o, u)** or a **consonant**.\n",
    "\n",
    "### **Advanced Questions**\n",
    "8. Write a program that takes three numbers as input and prints the **largest** among them.\n",
    "9. Write a program that checks if a triangle is **equilateral (all sides equal)**, **isosceles (two sides equal)**, or **scalene (no sides equal)**.\n",
    "10. Create a program that asks for a username and password. If the username is `\"admin\"` and the password is `\"password123\"`, print `\"Login successful\"`; otherwise, print `\"Invalid credentials\"`.\n"
   ]
  },
  {
   "cell_type": "code",
   "execution_count": 35,
   "id": "1b06ce1b-7f29-414b-aeda-0d3fc6172888",
   "metadata": {},
   "outputs": [
    {
     "name": "stdin",
     "output_type": "stream",
     "text": [
      "Enter the number:  -10\n"
     ]
    },
    {
     "name": "stdout",
     "output_type": "stream",
     "text": [
      "The number is negetive\n"
     ]
    }
   ],
   "source": [
    "# 1. Write a program that takes an integer input from the user and prints whether it is positive, negative, or zero.\n",
    "\n",
    "num = float(input(\"Enter the number: \"))\n",
    "if num > 0:\n",
    "    print(\"The number is positive\")\n",
    "elif num == 0:\n",
    "    print(\"The number is 0\")\n",
    "else:\n",
    "    print(\"The number is negetive\")"
   ]
  },
  {
   "cell_type": "code",
   "execution_count": 43,
   "id": "6f89e128-8014-4406-84bf-49c502f31209",
   "metadata": {},
   "outputs": [
    {
     "name": "stdin",
     "output_type": "stream",
     "text": [
      "Enter the number 10\n"
     ]
    },
    {
     "name": "stdout",
     "output_type": "stream",
     "text": [
      "The number is even\n"
     ]
    }
   ],
   "source": [
    "# 2. Write a program that asks for a number and prints whether it is **even** or **odd**.\n",
    "num = int(input(\"Enter the number\"))\n",
    "if num % 2 == 0:\n",
    "    print(\"The number is even\")\n",
    "else:\n",
    "    print(\"The number is odd\")"
   ]
  },
  {
   "cell_type": "code",
   "execution_count": 51,
   "id": "66f27445-1a2a-41c0-871f-59af75c03e5b",
   "metadata": {},
   "outputs": [
    {
     "name": "stdin",
     "output_type": "stream",
     "text": [
      "Enter an alphabet p\n"
     ]
    },
    {
     "name": "stdout",
     "output_type": "stream",
     "text": [
      "Consonent\n"
     ]
    }
   ],
   "source": [
    "# 7. Ask the user to input a character and check if it is a vowel (a, e, i, o, u) or a consonant.\n",
    "\n",
    "char = input(\"Enter an alphabet\")\n",
    "if char in \"aeiou\":\n",
    "    print(\"Vowel\")\n",
    "else:\n",
    "    print(\"Consonent\")"
   ]
  },
  {
   "cell_type": "markdown",
   "id": "7854e9e5-8fa5-4970-91f6-6421fa3a470d",
   "metadata": {},
   "source": [
    "### Nested if else"
   ]
  },
  {
   "cell_type": "code",
   "execution_count": 55,
   "id": "0752fc47-1f92-4d8b-a2e2-5f688e829c98",
   "metadata": {},
   "outputs": [
    {
     "name": "stdin",
     "output_type": "stream",
     "text": [
      "Enter the first side:  10\n",
      "Enter the second side:  10\n",
      "Enter the third side:  12\n"
     ]
    },
    {
     "name": "stdout",
     "output_type": "stream",
     "text": [
      "The triangle is valid\n",
      "Isosceles triangle\n"
     ]
    }
   ],
   "source": [
    "### 9. Write a program that checks if a triangle is equilateral (all sides equal), isosceles (two sides equal), or scalene (no sides equal).\n",
    "# Conditio 1 = Sum of any two sides should be greater than the third side\n",
    "\n",
    "a = int(input(\"Enter the first side: \"))\n",
    "b = int(input(\"Enter the second side: \"))\n",
    "c = int(input(\"Enter the third side: \"))\n",
    "\n",
    "if a + b > c and b + c > a and a + c > b:\n",
    "    print(\"The triangle is valid\")\n",
    "    if a == b == c:\n",
    "        print(\"Equilateral triangle\")\n",
    "    elif a == b or b == c or a == c:\n",
    "        print(\"Isosceles triangle\")\n",
    "    else:\n",
    "        print(\"Scalen triangle\")\n",
    "else:\n",
    "    print(\"The triangle is not valid\")"
   ]
  },
  {
   "cell_type": "markdown",
   "id": "06d87fc9-4a53-4bf6-9708-da046d54d269",
   "metadata": {},
   "source": [
    "11. A company gives a bonus to its employees based on their years of service. The bonus is calculated as follows:  \n",
    "- If the service is *more than 10 years, the bonus is **10%* of the salary.  \n",
    "- If the service is *between 6 and 10 years, the bonus is **8%* of the salary.  \n",
    "- If the service is *less than 6 years, the bonus is **5%* of the salary.  \n",
    "\n",
    "Write a Python program that takes the employee's salary and years of service as input and calculates the bonus amount."
   ]
  },
  {
   "cell_type": "code",
   "execution_count": 3,
   "id": "063231b7-8ec6-48df-8364-9589d3bfc45c",
   "metadata": {},
   "outputs": [
    {
     "name": "stdin",
     "output_type": "stream",
     "text": [
      "Enter the number of years served:  6\n",
      "Enter the salary:  50000\n"
     ]
    },
    {
     "name": "stdout",
     "output_type": "stream",
     "text": [
      "The bonus you have got is:  4000.0\n"
     ]
    }
   ],
   "source": [
    "year = int(input(\"Enter the number of years served: \"))\n",
    "salary = int(input(\"Enter the salary: \"))\n",
    "\n",
    "if year >= 10:\n",
    "    bonus = (10*salary)/100\n",
    "    print(\"The bonus you have got is: \", bonus)\n",
    "elif 6 <= year < 10:\n",
    "    bonus = (8*salary)/100\n",
    "    print(\"The bonus you have got is: \", bonus)\n",
    "if year < 6:\n",
    "    bonus = (5*salary)/100\n",
    "    print(\"The bonus you have got is: \", bonus)"
   ]
  },
  {
   "cell_type": "markdown",
   "id": "216a7477-9ea5-479a-a98f-63ab89fc897a",
   "metadata": {},
   "source": [
    "### **For and While loop**\n",
    "For loop\n",
    "1. For loop works on ranges and sequences\n",
    "2. In For loop, the number of iterations are known.\n",
    "3. The counter management is automatic in for loop.\n",
    "4. For loop stops when the iteration is out of range or sequence.\n",
    "\n",
    "While loop\n",
    "1. While loop works on a condtion.\n",
    "2. While loop works when the number of iteration is unknown.\n",
    "3. The counter managemnet is manual.\n",
    "4. While loop stops whent the condition becomes false."
   ]
  },
  {
   "cell_type": "code",
   "execution_count": 57,
   "id": "036387fe-fbd3-466f-9aab-334d39151794",
   "metadata": {},
   "outputs": [
    {
     "name": "stdout",
     "output_type": "stream",
     "text": [
      "1\n",
      "2\n",
      "3\n",
      "4\n",
      "5\n",
      "6\n",
      "7\n",
      "8\n",
      "9\n",
      "10\n"
     ]
    }
   ],
   "source": [
    "for i in range(1,11):\n",
    "    print(i)"
   ]
  },
  {
   "cell_type": "code",
   "execution_count": 58,
   "id": "75a4823a-95a3-46b8-8963-cb299447e17d",
   "metadata": {},
   "outputs": [
    {
     "name": "stdout",
     "output_type": "stream",
     "text": [
      "1\n",
      "2\n",
      "3\n",
      "4\n",
      "5\n",
      "6\n",
      "7\n",
      "8\n",
      "9\n",
      "10\n"
     ]
    }
   ],
   "source": [
    "i = 1\n",
    "while i <= 10:\n",
    "    print(i)\n",
    "    i += 1"
   ]
  },
  {
   "cell_type": "raw",
   "id": "728b2037-d65f-4ac2-9017-d4f3b77a2d12",
   "metadata": {},
   "source": [
    "For loop\n",
    "for var in sequence/range:\n",
    "    Do something\n",
    "\n",
    "While loop\n",
    "while condition:\n",
    "    Do something"
   ]
  },
  {
   "cell_type": "code",
   "execution_count": 60,
   "id": "e97302c6-513a-472f-878c-004da053f60d",
   "metadata": {},
   "outputs": [
    {
     "name": "stdout",
     "output_type": "stream",
     "text": [
      "1\n",
      "2\n",
      "3\n",
      "4\n",
      "5\n",
      "6\n",
      "7\n",
      "8\n",
      "9\n",
      "10\n"
     ]
    }
   ],
   "source": [
    "for i in range(1,11):\n",
    "    print(i)"
   ]
  },
  {
   "cell_type": "code",
   "execution_count": 64,
   "id": "2c7966fc-80a2-4271-b90c-1d8610b1087a",
   "metadata": {},
   "outputs": [
    {
     "name": "stdin",
     "output_type": "stream",
     "text": [
      "Enter the number q\n"
     ]
    }
   ],
   "source": [
    "while True:\n",
    "    n = input(\"Enter the number\")\n",
    "    if n == 'q':\n",
    "        break\n",
    "    print(n)"
   ]
  },
  {
   "cell_type": "code",
   "execution_count": 66,
   "id": "bfdbbf5a-a701-448d-b1f1-56f91e1f9916",
   "metadata": {},
   "outputs": [
    {
     "name": "stdout",
     "output_type": "stream",
     "text": [
      "1\n",
      "2\n",
      "3\n",
      "4\n",
      "5\n",
      "6\n",
      "7\n",
      "8\n",
      "9\n",
      "10\n"
     ]
    }
   ],
   "source": [
    "i = 1\n",
    "while i <= 10:\n",
    "    print(i)\n",
    "    i += 1"
   ]
  },
  {
   "cell_type": "code",
   "execution_count": 68,
   "id": "d3bf0f76-4035-4c30-973e-831155b790f1",
   "metadata": {},
   "outputs": [
    {
     "name": "stdout",
     "output_type": "stream",
     "text": [
      "1\n",
      "2\n",
      "3\n",
      "4\n",
      "5\n",
      "6\n",
      "7\n",
      "8\n",
      "9\n",
      "10\n"
     ]
    }
   ],
   "source": [
    "for i in range(1,11):\n",
    "    print(i)"
   ]
  },
  {
   "cell_type": "markdown",
   "id": "ab6cc7da-3233-4d6d-8d83-ae023789a62a",
   "metadata": {},
   "source": [
    "### Practice question for for loop\n",
    "1. Write a program to print numbers from 1 to 10 using a for loop.\n",
    "2. Write a program to find the sum of the first 10 natural numbers using a for loop.\n",
    "3. Write a program to print all even numbers between 1 and 20 using a for loop.\n",
    "4. Write a program to print the multiplication table of a given number (e.g., 5)."
   ]
  },
  {
   "cell_type": "code",
   "execution_count": 70,
   "id": "ead1c966-2254-4775-8bcb-c1762ff74fd7",
   "metadata": {},
   "outputs": [
    {
     "name": "stdout",
     "output_type": "stream",
     "text": [
      "5 * 1 = 5\n",
      "5 * 2 = 10\n",
      "5 * 3 = 15\n",
      "5 * 4 = 20\n",
      "5 * 5 = 25\n",
      "5 * 6 = 30\n",
      "5 * 7 = 35\n",
      "5 * 8 = 40\n",
      "5 * 9 = 45\n",
      "5 * 10 = 50\n"
     ]
    }
   ],
   "source": [
    "for i in range(1,11):\n",
    "    print(\"5 *\",i,\"=\", 5 * i)"
   ]
  },
  {
   "cell_type": "code",
   "execution_count": 76,
   "id": "f77f7313-3d7a-47c3-8aed-b02be733e76a",
   "metadata": {},
   "outputs": [
    {
     "name": "stdout",
     "output_type": "stream",
     "text": [
      "5\n",
      "10\n",
      "15\n",
      "20\n",
      "25\n",
      "30\n",
      "35\n",
      "40\n",
      "45\n",
      "50\n"
     ]
    }
   ],
   "source": [
    "for i in range(5,51,5):\n",
    "    print(i)"
   ]
  },
  {
   "cell_type": "code",
   "execution_count": 6,
   "id": "97d4782b-e0f4-424d-803f-7e930061318e",
   "metadata": {},
   "outputs": [
    {
     "data": {
      "text/plain": [
       "list"
      ]
     },
     "execution_count": 6,
     "metadata": {},
     "output_type": "execute_result"
    }
   ],
   "source": [
    "a = [1,2,3,4,5,6,7]\n",
    "type(a)"
   ]
  },
  {
   "cell_type": "code",
   "execution_count": 7,
   "id": "ae1f5e0e-9062-47d8-b50a-8309788c9641",
   "metadata": {},
   "outputs": [
    {
     "name": "stdout",
     "output_type": "stream",
     "text": [
      "1\n",
      "2\n",
      "3\n",
      "4\n",
      "5\n",
      "6\n",
      "7\n"
     ]
    }
   ],
   "source": [
    "for i in a:\n",
    "    print(i)"
   ]
  },
  {
   "cell_type": "code",
   "execution_count": 13,
   "id": "54815057-f202-43cf-8b58-cc5b80a4cd85",
   "metadata": {},
   "outputs": [
    {
     "name": "stdout",
     "output_type": "stream",
     "text": [
      "110\n"
     ]
    }
   ],
   "source": [
    "# Write a program to find the sum of the first 10 natural numbers using a for loop.\n",
    "# 1+2+3+4+5+6+7+8+9+10 = 55\n",
    "\n",
    "#sum = 0\n",
    "for i in range(1, 11):\n",
    "    sum = sum + i\n",
    "print(sum)"
   ]
  },
  {
   "cell_type": "code",
   "execution_count": 18,
   "id": "63fe9348-08cb-4ba6-8402-11100a66a9cd",
   "metadata": {},
   "outputs": [
    {
     "name": "stdout",
     "output_type": "stream",
     "text": [
      "55\n"
     ]
    }
   ],
   "source": [
    "sum1 = 0\n",
    "for i in range(1, 11):\n",
    "    sum1 = sum1 + i\n",
    "print(sum1)"
   ]
  },
  {
   "cell_type": "code",
   "execution_count": 24,
   "id": "4b2c5333-7ba5-49a0-9d80-26d32b13969d",
   "metadata": {},
   "outputs": [
    {
     "name": "stdin",
     "output_type": "stream",
     "text": [
      "Enter the number:  2\n"
     ]
    },
    {
     "name": "stdout",
     "output_type": "stream",
     "text": [
      "3\n"
     ]
    }
   ],
   "source": [
    "num = int(input(\"Enter the number: \"))\n",
    "sum = 0\n",
    "for i in range(1,num+1):\n",
    "    sum = sum + i\n",
    "print(sum)"
   ]
  },
  {
   "cell_type": "code",
   "execution_count": 27,
   "id": "cdf79bb9-f66a-4597-9cd2-caac7d508d78",
   "metadata": {},
   "outputs": [
    {
     "name": "stdout",
     "output_type": "stream",
     "text": [
      "2\n",
      "4\n",
      "6\n",
      "8\n",
      "10\n",
      "12\n",
      "14\n",
      "16\n",
      "18\n",
      "20\n"
     ]
    }
   ],
   "source": [
    "# 3. Write a program to print all even numbers between 1 and 20 using a for loop.\n",
    "\n",
    "for i in range(2,21,2):\n",
    "    print(i)"
   ]
  },
  {
   "cell_type": "code",
   "execution_count": 36,
   "id": "79c63309-d4d6-491b-8a5d-f075b326e4f1",
   "metadata": {},
   "outputs": [
    {
     "name": "stdout",
     "output_type": "stream",
     "text": [
      "2\n",
      "4\n",
      "6\n",
      "8\n",
      "10\n",
      "12\n",
      "14\n",
      "16\n",
      "18\n",
      "20\n"
     ]
    }
   ],
   "source": [
    "for i in range(1,21):\n",
    "    if i % 2 == 0:\n",
    "        print(i)"
   ]
  },
  {
   "cell_type": "markdown",
   "id": "7e025464-9df5-4141-b4c9-45f23e97bf72",
   "metadata": {},
   "source": [
    "### What is prime number: The numbers whose factor is 1 and number itself.\n",
    "3 = 1,3 prime number<br>\n",
    "4 = 1,2,4 not a prime number<br>\n",
    "5 = 1,5 prime number<br>\n",
    ".<br>\n",
    ".<br>\n",
    ".<br>\n",
    "16 = 1,2,4,8,16 not a prime number<br>\n",
    "17 = 1,17 prime number<br>\n",
    ".<br>\n",
    ".<br>\n",
    ".<br>"
   ]
  },
  {
   "cell_type": "code",
   "execution_count": 43,
   "id": "b358d0b5-1f85-4a25-a091-4714175b05b3",
   "metadata": {},
   "outputs": [
    {
     "name": "stdin",
     "output_type": "stream",
     "text": [
      "Entet the number:  17\n"
     ]
    },
    {
     "name": "stdout",
     "output_type": "stream",
     "text": [
      "Then number is prime\n"
     ]
    }
   ],
   "source": [
    "num = int(input(\"Entet the number: \"))\n",
    "for i in range(2,num):\n",
    "    if num % i == 0:\n",
    "        print(\"The number is not prime\")\n",
    "        break\n",
    "else:\n",
    "    print(\"Then number is prime\")  "
   ]
  },
  {
   "cell_type": "markdown",
   "id": "c664465d-4122-4c2c-a795-0ffdbf8408ff",
   "metadata": {},
   "source": [
    "### Write a python code to find the factorial of a number.\n",
    "eg. Factorial of 5 = 5! = 5 * 4 * 3 * 2 * 1"
   ]
  },
  {
   "cell_type": "code",
   "execution_count": 47,
   "id": "317a1eb3-6405-4fc3-a3cb-e8168a57b901",
   "metadata": {},
   "outputs": [
    {
     "name": "stdin",
     "output_type": "stream",
     "text": [
      "Enter the number:  5\n"
     ]
    },
    {
     "name": "stdout",
     "output_type": "stream",
     "text": [
      "120\n"
     ]
    }
   ],
   "source": [
    "num = int(input(\"Enter the number: \"))\n",
    "\n",
    "fact = 1\n",
    "for i in range(2, num + 1):\n",
    "    fact = fact * i\n",
    "print(fact)"
   ]
  },
  {
   "cell_type": "markdown",
   "id": "d3743ded-a2e7-4a47-990a-0844134e2c33",
   "metadata": {},
   "source": [
    "### **Built in data types in python.**\n",
    "1. Lists\n",
    "2. Tuples\n",
    "3. Set\n",
    "4. Frozenset\n",
    "5. Dictionary\n",
    "\n",
    "### Data Types\n",
    "1. Int\n",
    "2. float\n",
    "3. string\n",
    "4. complex\n",
    "5. Boolean\n",
    "6. Nonetype"
   ]
  },
  {
   "cell_type": "markdown",
   "id": "025263a8-ab64-4a68-8b7c-60e8e25e7fba",
   "metadata": {},
   "source": [
    "### 1. Lists: \n",
    "Lists represents an ordered and mutable collection of elements. These are enclosed in Square brackets. Any king of data types can be stores in lists.<br>\n",
    "Indexing in python starts from 0."
   ]
  },
  {
   "cell_type": "code",
   "execution_count": 49,
   "id": "6b4dfc1f-f3ba-402a-ab16-3a01bd873472",
   "metadata": {},
   "outputs": [
    {
     "data": {
      "text/plain": [
       "list"
      ]
     },
     "execution_count": 49,
     "metadata": {},
     "output_type": "execute_result"
    }
   ],
   "source": [
    "a = [1,2,3,4,5]\n",
    "type(a)"
   ]
  },
  {
   "cell_type": "code",
   "execution_count": 52,
   "id": "e26f112c-ada0-4b83-b02b-7859cd8c1027",
   "metadata": {},
   "outputs": [
    {
     "data": {
      "text/plain": [
       "4"
      ]
     },
     "execution_count": 52,
     "metadata": {},
     "output_type": "execute_result"
    }
   ],
   "source": [
    "a[3]"
   ]
  },
  {
   "cell_type": "code",
   "execution_count": 54,
   "id": "fb8f6d0c-7186-4ec6-9a8c-02611900624d",
   "metadata": {},
   "outputs": [
    {
     "data": {
      "text/plain": [
       "5"
      ]
     },
     "execution_count": 54,
     "metadata": {},
     "output_type": "execute_result"
    }
   ],
   "source": [
    "# Length of a list\n",
    "len(a)"
   ]
  },
  {
   "cell_type": "code",
   "execution_count": 55,
   "id": "d177c377-ae01-4ef2-a685-235c90d66389",
   "metadata": {},
   "outputs": [
    {
     "data": {
      "text/plain": [
       "5"
      ]
     },
     "execution_count": 55,
     "metadata": {},
     "output_type": "execute_result"
    }
   ],
   "source": [
    "a[len(a) - 1]"
   ]
  },
  {
   "cell_type": "code",
   "execution_count": 56,
   "id": "b7e31455-6ea4-4a8f-8190-61f403b77235",
   "metadata": {},
   "outputs": [
    {
     "data": {
      "text/plain": [
       "5"
      ]
     },
     "execution_count": 56,
     "metadata": {},
     "output_type": "execute_result"
    }
   ],
   "source": [
    "a[4]"
   ]
  },
  {
   "cell_type": "code",
   "execution_count": 57,
   "id": "3695a8d3-838f-430a-bdc4-2610a7a92780",
   "metadata": {},
   "outputs": [],
   "source": [
    "a[0] = 100"
   ]
  },
  {
   "cell_type": "code",
   "execution_count": 59,
   "id": "92162efb-aa43-46a6-83a3-736e18dc5b2b",
   "metadata": {},
   "outputs": [],
   "source": [
    "a[len(a) -1] = 500"
   ]
  },
  {
   "cell_type": "code",
   "execution_count": 60,
   "id": "f45a8c8f-3faa-4c47-8e79-b2d5d0dedf9b",
   "metadata": {},
   "outputs": [
    {
     "data": {
      "text/plain": [
       "[100, 2, 3, 4, 500]"
      ]
     },
     "execution_count": 60,
     "metadata": {},
     "output_type": "execute_result"
    }
   ],
   "source": [
    "a"
   ]
  },
  {
   "cell_type": "code",
   "execution_count": 61,
   "id": "7929e8ec-e7f7-4e10-864d-2c92e0106bc4",
   "metadata": {},
   "outputs": [],
   "source": [
    "a = [1,2,3, 5.5, 4.98, \"Python\", 4 + 5j, True, None, False]"
   ]
  },
  {
   "cell_type": "code",
   "execution_count": 63,
   "id": "8ab93e35-760e-463b-b865-adf25a42d376",
   "metadata": {},
   "outputs": [
    {
     "data": {
      "text/plain": [
       "list"
      ]
     },
     "execution_count": 63,
     "metadata": {},
     "output_type": "execute_result"
    }
   ],
   "source": [
    "type(a)"
   ]
  },
  {
   "cell_type": "markdown",
   "id": "935bb037-0b97-415e-ab57-2e112d5582bb",
   "metadata": {},
   "source": [
    "### Creating a list using range()"
   ]
  },
  {
   "cell_type": "code",
   "execution_count": 64,
   "id": "4b0d50d7-f459-4461-828d-76f4c13c49eb",
   "metadata": {},
   "outputs": [],
   "source": [
    "b = list(range(1,11))"
   ]
  },
  {
   "cell_type": "code",
   "execution_count": 65,
   "id": "73ba8ee7-b9f8-4de1-8fe3-fef25b1c6e97",
   "metadata": {},
   "outputs": [
    {
     "data": {
      "text/plain": [
       "[1, 2, 3, 4, 5, 6, 7, 8, 9, 10]"
      ]
     },
     "execution_count": 65,
     "metadata": {},
     "output_type": "execute_result"
    }
   ],
   "source": [
    "b"
   ]
  },
  {
   "cell_type": "markdown",
   "id": "782c5690-3655-40f4-b62d-5e03158aabf5",
   "metadata": {},
   "source": [
    "### updating elements in the list"
   ]
  },
  {
   "cell_type": "code",
   "execution_count": 66,
   "id": "073ef63a-666e-4908-8e20-a7dab6c4827f",
   "metadata": {},
   "outputs": [],
   "source": [
    "b[0] = 1000"
   ]
  },
  {
   "cell_type": "code",
   "execution_count": 67,
   "id": "36227105-2dd7-420c-8ec3-a14a22fdbb89",
   "metadata": {},
   "outputs": [
    {
     "data": {
      "text/plain": [
       "[1000, 2, 3, 4, 5, 6, 7, 8, 9, 10]"
      ]
     },
     "execution_count": 67,
     "metadata": {},
     "output_type": "execute_result"
    }
   ],
   "source": [
    "b"
   ]
  },
  {
   "cell_type": "markdown",
   "id": "3c8b9141-5a64-4cee-8bb7-3aea79b4773d",
   "metadata": {},
   "source": [
    "### Methods to process lists "
   ]
  },
  {
   "cell_type": "code",
   "execution_count": 76,
   "id": "e40ae09c-52e2-4973-814d-ea4408a8fa98",
   "metadata": {},
   "outputs": [],
   "source": [
    "list1 = [1,2,3]\n",
    "list1.append(4)\n",
    "list1.insert(1,100)\n",
    "list1.pop()\n",
    "list1.remove(100)\n",
    "list1.clear()"
   ]
  },
  {
   "cell_type": "code",
   "execution_count": 77,
   "id": "4a84d5cb-1b5f-450a-8574-a7bff142f93f",
   "metadata": {},
   "outputs": [
    {
     "data": {
      "text/plain": [
       "[]"
      ]
     },
     "execution_count": 77,
     "metadata": {},
     "output_type": "execute_result"
    }
   ],
   "source": [
    "list1"
   ]
  },
  {
   "cell_type": "markdown",
   "id": "640e60bc-c2c5-41e0-82d0-6890a4508cb5",
   "metadata": {},
   "source": [
    "### To find the smalles and largest of a list"
   ]
  },
  {
   "cell_type": "code",
   "execution_count": 78,
   "id": "727d950f-8795-4d49-8053-9a6149a41d61",
   "metadata": {},
   "outputs": [],
   "source": [
    "b = [1,2,3,4,66,7245,3246,347,513,235]"
   ]
  },
  {
   "cell_type": "code",
   "execution_count": 79,
   "id": "819d6f99-3ad5-4fd6-b396-821df389181d",
   "metadata": {},
   "outputs": [
    {
     "data": {
      "text/plain": [
       "7245"
      ]
     },
     "execution_count": 79,
     "metadata": {},
     "output_type": "execute_result"
    }
   ],
   "source": [
    "max(b)"
   ]
  },
  {
   "cell_type": "code",
   "execution_count": 80,
   "id": "a09be0b9-4374-4945-94f5-e25fcc216a5f",
   "metadata": {},
   "outputs": [
    {
     "data": {
      "text/plain": [
       "1"
      ]
     },
     "execution_count": 80,
     "metadata": {},
     "output_type": "execute_result"
    }
   ],
   "source": [
    "min(b)"
   ]
  },
  {
   "cell_type": "markdown",
   "id": "b69b636c-b346-47d7-bb0f-a34065558324",
   "metadata": {},
   "source": [
    "### nested lists"
   ]
  },
  {
   "cell_type": "code",
   "execution_count": 81,
   "id": "deb418e6-1f3a-4741-abf2-db97fe81e660",
   "metadata": {},
   "outputs": [],
   "source": [
    "b = [1,2,4,[1,4,5,7,4]]"
   ]
  },
  {
   "cell_type": "code",
   "execution_count": 83,
   "id": "e9168b3a-05cc-4c4e-9e67-d2209605f963",
   "metadata": {},
   "outputs": [
    {
     "data": {
      "text/plain": [
       "list"
      ]
     },
     "execution_count": 83,
     "metadata": {},
     "output_type": "execute_result"
    }
   ],
   "source": [
    "type(b)"
   ]
  },
  {
   "cell_type": "code",
   "execution_count": 89,
   "id": "2665714b-94ca-4ccd-8262-6c3e9b3724f2",
   "metadata": {},
   "outputs": [
    {
     "data": {
      "text/plain": [
       "7"
      ]
     },
     "execution_count": 89,
     "metadata": {},
     "output_type": "execute_result"
    }
   ],
   "source": [
    "b = [1,2,4,[1,4,5,7,4]]\n",
    "b[len(b)-1][len(b[len(b)-1]) - 2]"
   ]
  },
  {
   "cell_type": "code",
   "execution_count": 90,
   "id": "15c9554b-2b36-4859-a8c5-0054d91b700f",
   "metadata": {},
   "outputs": [
    {
     "data": {
      "text/plain": [
       "[1, 2, 4, [1, 4, 5, 7, 4]]"
      ]
     },
     "execution_count": 90,
     "metadata": {},
     "output_type": "execute_result"
    }
   ],
   "source": [
    "b"
   ]
  },
  {
   "cell_type": "code",
   "execution_count": 93,
   "id": "10072a8d-efdd-48c0-b6ac-a6b3a5a1c44b",
   "metadata": {},
   "outputs": [
    {
     "data": {
      "text/plain": [
       "5"
      ]
     },
     "execution_count": 93,
     "metadata": {},
     "output_type": "execute_result"
    }
   ],
   "source": [
    "b[len(b)-1][2]"
   ]
  },
  {
   "cell_type": "markdown",
   "id": "deea5779-e9f1-4c39-9b5d-700cedd06271",
   "metadata": {},
   "source": [
    "### Tuples:\n",
    "Tuples represents the ordered, but immutable collection of elements which are enclosed in round brackets. Any sort of data type can be stored in tuples"
   ]
  },
  {
   "cell_type": "code",
   "execution_count": 94,
   "id": "3fcf6f03-3b99-4805-8cc7-20b3a582a1f9",
   "metadata": {},
   "outputs": [],
   "source": [
    "a = (1,2,3,4,5,7)"
   ]
  },
  {
   "cell_type": "code",
   "execution_count": 95,
   "id": "f0287b46-d531-4956-89fb-65edcf29e2bb",
   "metadata": {},
   "outputs": [
    {
     "data": {
      "text/plain": [
       "1"
      ]
     },
     "execution_count": 95,
     "metadata": {},
     "output_type": "execute_result"
    }
   ],
   "source": [
    "a[0]"
   ]
  },
  {
   "cell_type": "code",
   "execution_count": 96,
   "id": "eb66ecba-8cfe-4ae1-854b-6ebfc6fe06f9",
   "metadata": {},
   "outputs": [
    {
     "data": {
      "text/plain": [
       "7"
      ]
     },
     "execution_count": 96,
     "metadata": {},
     "output_type": "execute_result"
    }
   ],
   "source": [
    "a[len(a) -1]"
   ]
  },
  {
   "cell_type": "code",
   "execution_count": 98,
   "id": "4fa7ca01-20ed-4021-bd9c-5e3d75524828",
   "metadata": {},
   "outputs": [
    {
     "ename": "TypeError",
     "evalue": "'tuple' object does not support item assignment",
     "output_type": "error",
     "traceback": [
      "\u001b[1;31m---------------------------------------------------------------------------\u001b[0m",
      "\u001b[1;31mTypeError\u001b[0m                                 Traceback (most recent call last)",
      "Cell \u001b[1;32mIn[98], line 1\u001b[0m\n\u001b[1;32m----> 1\u001b[0m a[\u001b[38;5;241m0\u001b[39m] \u001b[38;5;241m=\u001b[39m \u001b[38;5;241m5\u001b[39m\n",
      "\u001b[1;31mTypeError\u001b[0m: 'tuple' object does not support item assignment"
     ]
    }
   ],
   "source": [
    "a[0] = 5"
   ]
  },
  {
   "cell_type": "code",
   "execution_count": 99,
   "id": "26f85fb0-3bdb-43f1-98b5-f58658388ba9",
   "metadata": {},
   "outputs": [],
   "source": [
    "a = (1,2,3,4,5)"
   ]
  },
  {
   "cell_type": "code",
   "execution_count": 100,
   "id": "99bdab8c-a139-4e85-a737-eddbe13030bd",
   "metadata": {},
   "outputs": [
    {
     "ename": "AttributeError",
     "evalue": "'tuple' object has no attribute 'append'",
     "output_type": "error",
     "traceback": [
      "\u001b[1;31m---------------------------------------------------------------------------\u001b[0m",
      "\u001b[1;31mAttributeError\u001b[0m                            Traceback (most recent call last)",
      "Cell \u001b[1;32mIn[100], line 1\u001b[0m\n\u001b[1;32m----> 1\u001b[0m a\u001b[38;5;241m.\u001b[39mappend(\u001b[38;5;241m100\u001b[39m)\n",
      "\u001b[1;31mAttributeError\u001b[0m: 'tuple' object has no attribute 'append'"
     ]
    }
   ],
   "source": [
    "a.append(100)"
   ]
  },
  {
   "cell_type": "code",
   "execution_count": 102,
   "id": "672702fd-3453-45f4-b45c-95d0fa400146",
   "metadata": {},
   "outputs": [],
   "source": [
    "b = list(a)"
   ]
  },
  {
   "cell_type": "code",
   "execution_count": 103,
   "id": "86d4ba92-45ac-4105-ae37-3ada9c641287",
   "metadata": {},
   "outputs": [
    {
     "data": {
      "text/plain": [
       "[1, 2, 3, 4, 5]"
      ]
     },
     "execution_count": 103,
     "metadata": {},
     "output_type": "execute_result"
    }
   ],
   "source": [
    "b"
   ]
  },
  {
   "cell_type": "code",
   "execution_count": 104,
   "id": "521af9bd-e2ac-429a-9114-a081b99cdd19",
   "metadata": {},
   "outputs": [
    {
     "data": {
      "text/plain": [
       "list"
      ]
     },
     "execution_count": 104,
     "metadata": {},
     "output_type": "execute_result"
    }
   ],
   "source": [
    "type(b)"
   ]
  },
  {
   "cell_type": "code",
   "execution_count": 105,
   "id": "89ea79bd-f196-4b5d-8499-7bd1119e1390",
   "metadata": {},
   "outputs": [],
   "source": [
    "b.append(100)"
   ]
  },
  {
   "cell_type": "code",
   "execution_count": 106,
   "id": "bbe914dd-8ab3-4177-af31-5a02ef3ccda4",
   "metadata": {},
   "outputs": [
    {
     "data": {
      "text/plain": [
       "[1, 2, 3, 4, 5, 100]"
      ]
     },
     "execution_count": 106,
     "metadata": {},
     "output_type": "execute_result"
    }
   ],
   "source": [
    "b"
   ]
  },
  {
   "cell_type": "code",
   "execution_count": 107,
   "id": "b4369fff-4689-458b-8562-a9efdc531d12",
   "metadata": {},
   "outputs": [],
   "source": [
    "a =tuple(b)"
   ]
  },
  {
   "cell_type": "code",
   "execution_count": 108,
   "id": "636181ea-e404-4ab1-bb31-1d095f26d7fc",
   "metadata": {},
   "outputs": [
    {
     "data": {
      "text/plain": [
       "(1, 2, 3, 4, 5, 100)"
      ]
     },
     "execution_count": 108,
     "metadata": {},
     "output_type": "execute_result"
    }
   ],
   "source": [
    "a "
   ]
  },
  {
   "cell_type": "code",
   "execution_count": 110,
   "id": "49e172af-b48e-468e-b035-b5105404d59e",
   "metadata": {},
   "outputs": [
    {
     "data": {
      "text/plain": [
       "tuple"
      ]
     },
     "execution_count": 110,
     "metadata": {},
     "output_type": "execute_result"
    }
   ],
   "source": [
    "type(a)"
   ]
  },
  {
   "cell_type": "markdown",
   "id": "e7419a15-e420-4805-99e5-507d9209896f",
   "metadata": {},
   "source": [
    "### Functions to process a tuple"
   ]
  },
  {
   "cell_type": "code",
   "execution_count": 111,
   "id": "7eb451b0-d6b0-4058-bff2-dab161e182c5",
   "metadata": {},
   "outputs": [
    {
     "data": {
      "text/plain": [
       "(1, 2, 3, 4, 5, 100)"
      ]
     },
     "execution_count": 111,
     "metadata": {},
     "output_type": "execute_result"
    }
   ],
   "source": [
    "a"
   ]
  },
  {
   "cell_type": "code",
   "execution_count": 112,
   "id": "79d41ee4-f619-4bed-b5bf-56dcc03ebf57",
   "metadata": {},
   "outputs": [
    {
     "data": {
      "text/plain": [
       "6"
      ]
     },
     "execution_count": 112,
     "metadata": {},
     "output_type": "execute_result"
    }
   ],
   "source": [
    "len(a)"
   ]
  },
  {
   "cell_type": "code",
   "execution_count": 113,
   "id": "05e1d3ae-4c1a-45ad-a423-40ebe1b47a07",
   "metadata": {},
   "outputs": [
    {
     "data": {
      "text/plain": [
       "100"
      ]
     },
     "execution_count": 113,
     "metadata": {},
     "output_type": "execute_result"
    }
   ],
   "source": [
    "max(a)"
   ]
  },
  {
   "cell_type": "code",
   "execution_count": 114,
   "id": "740d7770-c480-4157-9d5b-6c376a3e2423",
   "metadata": {},
   "outputs": [
    {
     "data": {
      "text/plain": [
       "1"
      ]
     },
     "execution_count": 114,
     "metadata": {},
     "output_type": "execute_result"
    }
   ],
   "source": [
    "min(a)"
   ]
  },
  {
   "cell_type": "markdown",
   "id": "fb1ef18b-6d11-4c88-8fc6-5952146f9cfd",
   "metadata": {},
   "source": [
    "### Inserting, deleting, or updating the tuplese is not possible because tuples are immutable in nature"
   ]
  },
  {
   "cell_type": "markdown",
   "id": "4d2de9d5-6b0c-463e-b74b-72055fad1691",
   "metadata": {},
   "source": [
    "### Sets\n",
    "Sets represents unordered collection of unique elements. Sets are enclosed in flower brackets. Sets are mutable in nature.<br>\n",
    "any kind of data types can be stored in sets"
   ]
  },
  {
   "cell_type": "code",
   "execution_count": 115,
   "id": "098a0cde-7331-431e-bc71-53b0a925d415",
   "metadata": {},
   "outputs": [],
   "source": [
    "s1 = {1,2 ,4, 4.5, \"Python\", True, 4+5j}"
   ]
  },
  {
   "cell_type": "code",
   "execution_count": 116,
   "id": "c48df0b8-28f0-4d5c-aa7b-ae6ba4a48686",
   "metadata": {},
   "outputs": [
    {
     "data": {
      "text/plain": [
       "set"
      ]
     },
     "execution_count": 116,
     "metadata": {},
     "output_type": "execute_result"
    }
   ],
   "source": [
    "type(s1)"
   ]
  },
  {
   "cell_type": "code",
   "execution_count": 117,
   "id": "39fa7542-6a0c-434b-8a38-0c548a0d2032",
   "metadata": {},
   "outputs": [
    {
     "ename": "TypeError",
     "evalue": "'set' object is not subscriptable",
     "output_type": "error",
     "traceback": [
      "\u001b[1;31m---------------------------------------------------------------------------\u001b[0m",
      "\u001b[1;31mTypeError\u001b[0m                                 Traceback (most recent call last)",
      "Cell \u001b[1;32mIn[117], line 1\u001b[0m\n\u001b[1;32m----> 1\u001b[0m s1[\u001b[38;5;241m0\u001b[39m]\n",
      "\u001b[1;31mTypeError\u001b[0m: 'set' object is not subscriptable"
     ]
    }
   ],
   "source": [
    "s1[0]"
   ]
  },
  {
   "cell_type": "code",
   "execution_count": 118,
   "id": "94d83c07-2db1-4d87-9582-c330a770e3f4",
   "metadata": {},
   "outputs": [],
   "source": [
    "s2 = {1,1,1,1,1,23,4,5,2,2,3,5,5,5,5,6,4,3,3,2,22,3,5}"
   ]
  },
  {
   "cell_type": "code",
   "execution_count": 119,
   "id": "18af68e2-36fe-446d-854b-8a07a9c3d809",
   "metadata": {},
   "outputs": [
    {
     "data": {
      "text/plain": [
       "{1, 2, 3, 4, 5, 6, 22, 23}"
      ]
     },
     "execution_count": 119,
     "metadata": {},
     "output_type": "execute_result"
    }
   ],
   "source": [
    "s2"
   ]
  },
  {
   "cell_type": "code",
   "execution_count": 121,
   "id": "6a49f3d8-fc82-47d5-b630-9db593ed7fd6",
   "metadata": {},
   "outputs": [],
   "source": [
    "s2.add(1000)"
   ]
  },
  {
   "cell_type": "code",
   "execution_count": 122,
   "id": "cc9effa3-5bb9-4add-8c89-8745e2d1afcb",
   "metadata": {},
   "outputs": [
    {
     "data": {
      "text/plain": [
       "{1, 2, 3, 4, 5, 6, 22, 23, 1000}"
      ]
     },
     "execution_count": 122,
     "metadata": {},
     "output_type": "execute_result"
    }
   ],
   "source": [
    "s2"
   ]
  },
  {
   "cell_type": "code",
   "execution_count": 125,
   "id": "4d46914a-6129-4193-9292-ed066ab1f941",
   "metadata": {},
   "outputs": [],
   "source": [
    "s2.update([300])"
   ]
  },
  {
   "cell_type": "code",
   "execution_count": 126,
   "id": "a2da7324-a4d7-48b9-b49c-d10b4d08c7ff",
   "metadata": {},
   "outputs": [
    {
     "data": {
      "text/plain": [
       "{1, 2, 3, 4, 5, 6, 22, 23, 300, 1000}"
      ]
     },
     "execution_count": 126,
     "metadata": {},
     "output_type": "execute_result"
    }
   ],
   "source": [
    "s2"
   ]
  },
  {
   "cell_type": "code",
   "execution_count": 127,
   "id": "d1bb4f6a-7063-42ca-a65d-4ade95da9b9c",
   "metadata": {},
   "outputs": [
    {
     "data": {
      "text/plain": [
       "1"
      ]
     },
     "execution_count": 127,
     "metadata": {},
     "output_type": "execute_result"
    }
   ],
   "source": [
    "s2.pop()"
   ]
  },
  {
   "cell_type": "code",
   "execution_count": 129,
   "id": "da0a7d8d-e021-4977-b26d-0410a88a80f2",
   "metadata": {},
   "outputs": [
    {
     "data": {
      "text/plain": [
       "{2, 3, 4, 5, 6, 22, 23, 300, 1000}"
      ]
     },
     "execution_count": 129,
     "metadata": {},
     "output_type": "execute_result"
    }
   ],
   "source": [
    "s2"
   ]
  },
  {
   "cell_type": "markdown",
   "id": "64d61f51-0c44-4451-a35e-2fc4f626509b",
   "metadata": {},
   "source": [
    "### Dictioanry\n",
    "Dictionary represents the key value pair."
   ]
  },
  {
   "cell_type": "code",
   "execution_count": 130,
   "id": "ddc532d6-5dcb-4d2f-8de4-0b30955defef",
   "metadata": {},
   "outputs": [],
   "source": [
    "d1 = {\"Name\" : ['Rahul', 'Gauri', 'Raj', 'Nikhil'],\n",
    "      \"Age\" : [25,24,26,26],\n",
    "      \"Company\" : [\"Antwalk\", \"Capgemenini\", \"Flentas\", \"Accenture\"],\n",
    "      \"Salary\" : [95000, 65000, 75000, 68000]}"
   ]
  },
  {
   "cell_type": "code",
   "execution_count": 131,
   "id": "c78414c1-00bb-4d54-a5c4-5e2664e07437",
   "metadata": {},
   "outputs": [
    {
     "data": {
      "text/plain": [
       "dict"
      ]
     },
     "execution_count": 131,
     "metadata": {},
     "output_type": "execute_result"
    }
   ],
   "source": [
    "type(d1)"
   ]
  },
  {
   "cell_type": "code",
   "execution_count": 132,
   "id": "6277ef5d-1cba-4ea4-ae37-d86e4614426e",
   "metadata": {},
   "outputs": [
    {
     "data": {
      "text/plain": [
       "dict_keys(['Name', 'Age', 'Company', 'Salary'])"
      ]
     },
     "execution_count": 132,
     "metadata": {},
     "output_type": "execute_result"
    }
   ],
   "source": [
    "d1.keys()"
   ]
  },
  {
   "cell_type": "code",
   "execution_count": 133,
   "id": "49635bbc-e428-4b26-ae4d-d1b62837c7aa",
   "metadata": {},
   "outputs": [
    {
     "data": {
      "text/plain": [
       "dict_values([['Rahul', 'Gauri', 'Raj', 'Nikhil'], [25, 24, 26, 26], ['ANtwalk', 'Capgemenini', 'Flentas', 'Accenture'], [95000, 65000, 75000, 68000]])"
      ]
     },
     "execution_count": 133,
     "metadata": {},
     "output_type": "execute_result"
    }
   ],
   "source": [
    "d1.values()"
   ]
  },
  {
   "cell_type": "code",
   "execution_count": null,
   "id": "cb9d5d31-7c9a-410a-81ef-855220e01a50",
   "metadata": {},
   "outputs": [],
   "source": []
  },
  {
   "cell_type": "code",
   "execution_count": null,
   "id": "31ed2b38-80e9-41e8-8779-e649fd93fd6a",
   "metadata": {},
   "outputs": [],
   "source": []
  },
  {
   "cell_type": "code",
   "execution_count": null,
   "id": "700728b9-86fd-41ee-b433-af8f876bfa96",
   "metadata": {},
   "outputs": [],
   "source": []
  },
  {
   "cell_type": "code",
   "execution_count": null,
   "id": "9051b7a2-92b5-4ed4-a7ef-3dc22bcabc29",
   "metadata": {},
   "outputs": [],
   "source": []
  },
  {
   "cell_type": "code",
   "execution_count": null,
   "id": "b05adc9a-a015-4bfa-af96-ed0e00af2bdd",
   "metadata": {},
   "outputs": [],
   "source": []
  },
  {
   "cell_type": "code",
   "execution_count": null,
   "id": "3e9b646f-38cf-4dae-bd20-82cfd8acae89",
   "metadata": {},
   "outputs": [],
   "source": []
  },
  {
   "cell_type": "code",
   "execution_count": null,
   "id": "20709102-efd0-4deb-84d0-8fba39f64fcd",
   "metadata": {},
   "outputs": [],
   "source": []
  },
  {
   "cell_type": "code",
   "execution_count": null,
   "id": "5122169e-f15c-4d4f-ba04-598bcc251b0b",
   "metadata": {},
   "outputs": [],
   "source": []
  },
  {
   "cell_type": "code",
   "execution_count": null,
   "id": "f20c585b-12c2-4356-8d2f-54e6324ce50b",
   "metadata": {},
   "outputs": [],
   "source": []
  },
  {
   "cell_type": "code",
   "execution_count": null,
   "id": "6ecff46c-47c9-4da6-8fbd-6f0a69dfc025",
   "metadata": {},
   "outputs": [],
   "source": []
  },
  {
   "cell_type": "code",
   "execution_count": null,
   "id": "8f307faf-63f1-4ed0-bc0d-98c3b5c76f03",
   "metadata": {},
   "outputs": [],
   "source": []
  },
  {
   "cell_type": "code",
   "execution_count": null,
   "id": "78c42d6e-ce77-4de7-84af-c1475d5c0da6",
   "metadata": {},
   "outputs": [],
   "source": []
  },
  {
   "cell_type": "code",
   "execution_count": null,
   "id": "f296a3c4-83f8-43b8-ba2a-f9831220dbeb",
   "metadata": {},
   "outputs": [],
   "source": []
  },
  {
   "cell_type": "code",
   "execution_count": null,
   "id": "11a205d3-3cc2-4bd5-a883-a70c3139a002",
   "metadata": {},
   "outputs": [],
   "source": []
  },
  {
   "cell_type": "code",
   "execution_count": null,
   "id": "287d2d56-6088-4271-9c45-fc7fef579334",
   "metadata": {},
   "outputs": [],
   "source": []
  },
  {
   "cell_type": "code",
   "execution_count": null,
   "id": "3284798e-096d-4e78-b6d7-ac7bf6f62d3e",
   "metadata": {},
   "outputs": [],
   "source": []
  },
  {
   "cell_type": "code",
   "execution_count": null,
   "id": "63d287d3-97a0-42ec-9bd7-1b740370cd7b",
   "metadata": {},
   "outputs": [],
   "source": []
  },
  {
   "cell_type": "code",
   "execution_count": null,
   "id": "7ab48e5a-dde0-4199-a1f4-ec6bae72edfc",
   "metadata": {},
   "outputs": [],
   "source": []
  }
 ],
 "metadata": {
  "kernelspec": {
   "display_name": "Python 3 (ipykernel)",
   "language": "python",
   "name": "python3"
  },
  "language_info": {
   "codemirror_mode": {
    "name": "ipython",
    "version": 3
   },
   "file_extension": ".py",
   "mimetype": "text/x-python",
   "name": "python",
   "nbconvert_exporter": "python",
   "pygments_lexer": "ipython3",
   "version": "3.12.7"
  }
 },
 "nbformat": 4,
 "nbformat_minor": 5
}
