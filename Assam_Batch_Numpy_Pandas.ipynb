{
 "cells": [
  {
   "cell_type": "markdown",
   "id": "d622ff7e-efe2-413a-ba94-67dad6542da2",
   "metadata": {},
   "source": [
    "## **Introduction to numpy**\n",
    "Numpy: Numerical  <br>\n",
    "import numpy as np"
   ]
  },
  {
   "cell_type": "code",
   "execution_count": 1,
   "id": "6aa525ee-69a7-492c-a675-a7833a56cd0a",
   "metadata": {},
   "outputs": [],
   "source": [
    "import numpy as np"
   ]
  },
  {
   "cell_type": "markdown",
   "id": "60b2a8dc-e198-4976-9b20-c04ac9b4bdcf",
   "metadata": {},
   "source": [
    "### Creating a array"
   ]
  },
  {
   "cell_type": "code",
   "execution_count": 2,
   "id": "35b336ec-bb5c-4f55-b57d-8ad1a2b82593",
   "metadata": {},
   "outputs": [
    {
     "data": {
      "text/plain": [
       "array([1, 2, 3, 4, 5, 6])"
      ]
     },
     "execution_count": 2,
     "metadata": {},
     "output_type": "execute_result"
    }
   ],
   "source": [
    "arr = np.array([1,2,3,4,5,6])\n",
    "arr"
   ]
  },
  {
   "cell_type": "code",
   "execution_count": 3,
   "id": "ce9e0867-0f75-40c8-8bad-445e81589aba",
   "metadata": {},
   "outputs": [
    {
     "data": {
      "text/plain": [
       "numpy.ndarray"
      ]
     },
     "execution_count": 3,
     "metadata": {},
     "output_type": "execute_result"
    }
   ],
   "source": [
    "type(arr)"
   ]
  },
  {
   "cell_type": "markdown",
   "id": "229ab7ed-5b67-4a74-8a9d-b62e95c46791",
   "metadata": {},
   "source": [
    "### Creating a 2D array"
   ]
  },
  {
   "cell_type": "code",
   "execution_count": 5,
   "id": "302baccc-445e-4122-b553-73afabc3f387",
   "metadata": {},
   "outputs": [
    {
     "data": {
      "text/plain": [
       "array([[1, 2, 3],\n",
       "       [4, 5, 6]])"
      ]
     },
     "execution_count": 5,
     "metadata": {},
     "output_type": "execute_result"
    }
   ],
   "source": [
    "arr2d = np.array([[1,2,3], [4,5,6]])\n",
    "arr2d"
   ]
  },
  {
   "cell_type": "code",
   "execution_count": 6,
   "id": "9ee3bc60-2db0-40d4-9d42-2fef9af23bc4",
   "metadata": {},
   "outputs": [
    {
     "data": {
      "text/plain": [
       "numpy.ndarray"
      ]
     },
     "execution_count": 6,
     "metadata": {},
     "output_type": "execute_result"
    }
   ],
   "source": [
    "type(arr2d)"
   ]
  },
  {
   "cell_type": "markdown",
   "id": "c1c94109-0be4-4644-afc7-49d678ab18a2",
   "metadata": {},
   "source": [
    "### Shape of array"
   ]
  },
  {
   "cell_type": "code",
   "execution_count": 7,
   "id": "de5243d5-b5da-4ab6-9e6c-b75295af27f6",
   "metadata": {},
   "outputs": [
    {
     "data": {
      "text/plain": [
       "(6,)"
      ]
     },
     "execution_count": 7,
     "metadata": {},
     "output_type": "execute_result"
    }
   ],
   "source": [
    "arr.shape"
   ]
  },
  {
   "cell_type": "code",
   "execution_count": 8,
   "id": "fc550c2d-88e5-4a3c-8a3d-ed28dca32065",
   "metadata": {},
   "outputs": [
    {
     "data": {
      "text/plain": [
       "(2, 3)"
      ]
     },
     "execution_count": 8,
     "metadata": {},
     "output_type": "execute_result"
    }
   ],
   "source": [
    "arr2d.shape"
   ]
  },
  {
   "cell_type": "markdown",
   "id": "277896fa-34fa-45e3-8f4b-214c35c14027",
   "metadata": {},
   "source": [
    "### Creating a special array"
   ]
  },
  {
   "cell_type": "markdown",
   "id": "dfa75a04-19ad-42e4-8949-5cbef32551c9",
   "metadata": {},
   "source": [
    "### 1. Array of zeros"
   ]
  },
  {
   "cell_type": "code",
   "execution_count": 10,
   "id": "37204c0f-0c50-4e8a-bb41-bcde5828b0f5",
   "metadata": {},
   "outputs": [
    {
     "data": {
      "text/plain": [
       "array([[0., 0., 0., 0.],\n",
       "       [0., 0., 0., 0.],\n",
       "       [0., 0., 0., 0.]])"
      ]
     },
     "execution_count": 10,
     "metadata": {},
     "output_type": "execute_result"
    }
   ],
   "source": [
    "zero_arr = np.zeros((3,4))\n",
    "zero_arr"
   ]
  },
  {
   "cell_type": "markdown",
   "id": "0632c2da-a77a-458a-8b84-6a7c722f7484",
   "metadata": {},
   "source": [
    "### 2. Array of ones"
   ]
  },
  {
   "cell_type": "code",
   "execution_count": 11,
   "id": "fbb3ba54-2b7a-4518-851b-dc96637fbcbd",
   "metadata": {},
   "outputs": [
    {
     "data": {
      "text/plain": [
       "array([[1., 1., 1.],\n",
       "       [1., 1., 1.]])"
      ]
     },
     "execution_count": 11,
     "metadata": {},
     "output_type": "execute_result"
    }
   ],
   "source": [
    "ones_arr = np.ones((2,3))\n",
    "ones_arr"
   ]
  },
  {
   "cell_type": "markdown",
   "id": "47417d12-c158-4196-9eb7-d91dc65ae934",
   "metadata": {},
   "source": [
    "### 3. Identity matrix"
   ]
  },
  {
   "cell_type": "code",
   "execution_count": 14,
   "id": "2f35c8f7-b021-4fcc-8a06-299c230f1e3a",
   "metadata": {},
   "outputs": [
    {
     "data": {
      "text/plain": [
       "array([[1., 0., 0.],\n",
       "       [0., 1., 0.],\n",
       "       [0., 0., 1.]])"
      ]
     },
     "execution_count": 14,
     "metadata": {},
     "output_type": "execute_result"
    }
   ],
   "source": [
    "identity_mat = np.eye(3)\n",
    "identity_mat"
   ]
  },
  {
   "cell_type": "markdown",
   "id": "7b3b2151-0f86-464a-bc4c-22d6cbfedc1b",
   "metadata": {},
   "source": [
    "### 4. Random array"
   ]
  },
  {
   "cell_type": "code",
   "execution_count": 18,
   "id": "3ce88ea1-46d3-4dce-b544-50c96566f4c3",
   "metadata": {},
   "outputs": [
    {
     "data": {
      "text/plain": [
       "array([[0.99081381, 0.65822719, 0.11008774],\n",
       "       [0.81073021, 0.39556397, 0.1210679 ],\n",
       "       [0.51488734, 0.78947572, 0.47433096]])"
      ]
     },
     "execution_count": 18,
     "metadata": {},
     "output_type": "execute_result"
    }
   ],
   "source": [
    "random_arr = np.random.rand(3,3)\n",
    "random_arr"
   ]
  },
  {
   "cell_type": "markdown",
   "id": "27fa2d62-ffae-4a2b-99b1-c74adcd0c9c5",
   "metadata": {},
   "source": [
    "---"
   ]
  },
  {
   "cell_type": "markdown",
   "id": "eff5e4ce-24fd-4162-ba9d-5d6377c86c3c",
   "metadata": {},
   "source": [
    "### Array indexing and slicing"
   ]
  },
  {
   "cell_type": "code",
   "execution_count": 19,
   "id": "b2664efe-e178-4cc1-9694-290b27d5d385",
   "metadata": {},
   "outputs": [],
   "source": [
    "arr = np.array([10,20,30,40,50])"
   ]
  },
  {
   "cell_type": "code",
   "execution_count": 20,
   "id": "4eb596c1-499b-4603-9e91-02c3cf3f5e35",
   "metadata": {},
   "outputs": [
    {
     "data": {
      "text/plain": [
       "10"
      ]
     },
     "execution_count": 20,
     "metadata": {},
     "output_type": "execute_result"
    }
   ],
   "source": [
    "# First element\n",
    "arr[0]"
   ]
  },
  {
   "cell_type": "code",
   "execution_count": 21,
   "id": "d00908e9-b0f6-4c2b-8a20-a2a5d8690281",
   "metadata": {},
   "outputs": [
    {
     "data": {
      "text/plain": [
       "50"
      ]
     },
     "execution_count": 21,
     "metadata": {},
     "output_type": "execute_result"
    }
   ],
   "source": [
    "# last element\n",
    "arr[-1]"
   ]
  },
  {
   "cell_type": "code",
   "execution_count": 24,
   "id": "d63ad762-3468-4c2a-b48c-779ec3987057",
   "metadata": {},
   "outputs": [
    {
     "data": {
      "text/plain": [
       "array([20, 30, 40])"
      ]
     },
     "execution_count": 24,
     "metadata": {},
     "output_type": "execute_result"
    }
   ],
   "source": [
    "arr[1:4]"
   ]
  },
  {
   "cell_type": "code",
   "execution_count": 25,
   "id": "92e2076e-c917-4752-b2e6-86861d319993",
   "metadata": {},
   "outputs": [
    {
     "data": {
      "text/plain": [
       "array([[1, 2, 3],\n",
       "       [4, 5, 6]])"
      ]
     },
     "execution_count": 25,
     "metadata": {},
     "output_type": "execute_result"
    }
   ],
   "source": [
    "arr2d"
   ]
  },
  {
   "cell_type": "code",
   "execution_count": 26,
   "id": "5899a0b8-b2cf-4fe6-a496-b102f48047db",
   "metadata": {},
   "outputs": [
    {
     "data": {
      "text/plain": [
       "2"
      ]
     },
     "execution_count": 26,
     "metadata": {},
     "output_type": "execute_result"
    }
   ],
   "source": [
    "arr2d[0, 1]"
   ]
  },
  {
   "cell_type": "code",
   "execution_count": 27,
   "id": "a6386d7a-ba9a-483b-83c1-0e610ba57fd1",
   "metadata": {},
   "outputs": [
    {
     "data": {
      "text/plain": [
       "6"
      ]
     },
     "execution_count": 27,
     "metadata": {},
     "output_type": "execute_result"
    }
   ],
   "source": [
    "arr2d[1,2]"
   ]
  },
  {
   "cell_type": "markdown",
   "id": "c776a292-5141-4aa9-a4ea-2422185d5011",
   "metadata": {},
   "source": [
    "### Basic Mathematical operations"
   ]
  },
  {
   "cell_type": "code",
   "execution_count": 28,
   "id": "b19ba458-3ef3-431f-84a4-e5c9d5a2fccd",
   "metadata": {},
   "outputs": [],
   "source": [
    "arr1 = np.array([1,2,3])\n",
    "arr2 = np.array([4,5,6])"
   ]
  },
  {
   "cell_type": "code",
   "execution_count": 29,
   "id": "16fc2023-e649-419b-9f86-1e7988468f64",
   "metadata": {},
   "outputs": [
    {
     "data": {
      "text/plain": [
       "array([5, 7, 9])"
      ]
     },
     "execution_count": 29,
     "metadata": {},
     "output_type": "execute_result"
    }
   ],
   "source": [
    "# Addition\n",
    "arr1 + arr2"
   ]
  },
  {
   "cell_type": "code",
   "execution_count": 30,
   "id": "84cb618d-93b0-4ae5-b343-d13ded78d350",
   "metadata": {},
   "outputs": [
    {
     "data": {
      "text/plain": [
       "[1, 2, 3, 4, 5, 6]"
      ]
     },
     "execution_count": 30,
     "metadata": {},
     "output_type": "execute_result"
    }
   ],
   "source": [
    "list1 = [1,2,3]\n",
    "list2 = [4,5,6]\n",
    "list1 + list2"
   ]
  },
  {
   "cell_type": "code",
   "execution_count": 32,
   "id": "b5e320d9-ce76-4c0c-86d2-704d8682106e",
   "metadata": {},
   "outputs": [
    {
     "data": {
      "text/plain": [
       "array([3, 3, 3])"
      ]
     },
     "execution_count": 32,
     "metadata": {},
     "output_type": "execute_result"
    }
   ],
   "source": [
    "# SUbtraction\n",
    "arr2 - arr1"
   ]
  },
  {
   "cell_type": "code",
   "execution_count": 33,
   "id": "bccebe95-3e07-489e-8568-8074241381b9",
   "metadata": {},
   "outputs": [
    {
     "data": {
      "text/plain": [
       "array([ 4, 10, 18])"
      ]
     },
     "execution_count": 33,
     "metadata": {},
     "output_type": "execute_result"
    }
   ],
   "source": [
    "# Multiplication \n",
    "arr1 * arr2"
   ]
  },
  {
   "cell_type": "code",
   "execution_count": 34,
   "id": "5dcc4a63-e7cb-4226-a430-49e6cf380474",
   "metadata": {},
   "outputs": [
    {
     "data": {
      "text/plain": [
       "array([4. , 2.5, 2. ])"
      ]
     },
     "execution_count": 34,
     "metadata": {},
     "output_type": "execute_result"
    }
   ],
   "source": [
    "# Division\n",
    "arr2 / arr1"
   ]
  },
  {
   "cell_type": "markdown",
   "id": "0d5f65c5-81b1-4b9f-8287-f8dd6c3ff915",
   "metadata": {},
   "source": [
    "### Universal functions"
   ]
  },
  {
   "cell_type": "code",
   "execution_count": 35,
   "id": "ea146170-0d00-4afd-a857-e1faee83fd5a",
   "metadata": {},
   "outputs": [],
   "source": [
    "arr = np.array([1,4,9,16,25])"
   ]
  },
  {
   "cell_type": "code",
   "execution_count": 40,
   "id": "ef32e050-42cd-4b22-8f82-d688ef8238ea",
   "metadata": {},
   "outputs": [
    {
     "name": "stdout",
     "output_type": "stream",
     "text": [
      "Square root [1. 2. 3. 4. 5.] \n",
      "\n",
      "Exponential [2.71828183e+00 5.45981500e+01 8.10308393e+03 8.88611052e+06\n",
      " 7.20048993e+10] \n",
      "\n",
      "Logarithm [0.         1.38629436 2.19722458 2.77258872 3.21887582] \n",
      "\n"
     ]
    }
   ],
   "source": [
    "print(\"Square root\", np.sqrt(arr), \"\\n\")  # square root\n",
    "print(\"Exponential\", np.exp(arr), \"\\n\")   # exponential\n",
    "print(\"Logarithm\", np.log(arr), \"\\n\")   # logarithm"
   ]
  },
  {
   "cell_type": "markdown",
   "id": "e29ae3db-4f6e-4e86-bc54-c372a26802bf",
   "metadata": {},
   "source": [
    "### Aggregation function"
   ]
  },
  {
   "cell_type": "code",
   "execution_count": 41,
   "id": "a18c747f-7b7c-4dc5-abd5-4b4503b5b974",
   "metadata": {},
   "outputs": [
    {
     "data": {
      "text/plain": [
       "array([ 1,  4,  9, 16, 25])"
      ]
     },
     "execution_count": 41,
     "metadata": {},
     "output_type": "execute_result"
    }
   ],
   "source": [
    "arr"
   ]
  },
  {
   "cell_type": "code",
   "execution_count": 42,
   "id": "052cd43b-2fc0-4e26-898f-e9d69da70562",
   "metadata": {},
   "outputs": [
    {
     "name": "stdout",
     "output_type": "stream",
     "text": [
      "Sum 55\n",
      "Mean 11.0\n",
      "Min 1\n",
      "Max 25\n",
      "Standard deviation 8.648699324175862\n"
     ]
    }
   ],
   "source": [
    "print(\"Sum\", np.sum(arr))\n",
    "print(\"Mean\", np.mean(arr))\n",
    "print(\"Min\", np.min(arr))\n",
    "print(\"Max\", np.max(arr))\n",
    "print(\"Standard deviation\", np.std(arr))"
   ]
  },
  {
   "cell_type": "markdown",
   "id": "4a11fb12-3580-4ddc-a601-c404ab8ab4d3",
   "metadata": {},
   "source": [
    "## **Introduction to Pandas**\n",
    "Series - one dimensional array <br>\n",
    "DataFrame - Two dimensional labelled array <br>\n",
    "\n",
    "**import pandas as pd**"
   ]
  },
  {
   "cell_type": "code",
   "execution_count": 43,
   "id": "96501347-5324-47f9-a31a-0648d102e33d",
   "metadata": {},
   "outputs": [],
   "source": [
    "import pandas as pd"
   ]
  },
  {
   "cell_type": "markdown",
   "id": "43fcb3df-e360-41d3-ade4-929c8a7305fb",
   "metadata": {},
   "source": [
    "### Create a Series"
   ]
  },
  {
   "cell_type": "code",
   "execution_count": 44,
   "id": "804a5e4b-d7bc-4922-b1f6-a3ddde0f76c7",
   "metadata": {},
   "outputs": [],
   "source": [
    "data = [10,20,30,40,50]"
   ]
  },
  {
   "cell_type": "code",
   "execution_count": 45,
   "id": "7861d246-5a79-45d9-91c7-57634a2622c2",
   "metadata": {},
   "outputs": [
    {
     "data": {
      "text/plain": [
       "list"
      ]
     },
     "execution_count": 45,
     "metadata": {},
     "output_type": "execute_result"
    }
   ],
   "source": [
    "type(data)"
   ]
  },
  {
   "cell_type": "code",
   "execution_count": 46,
   "id": "45655796-4d11-41e6-8307-89f4fc0aa8e5",
   "metadata": {},
   "outputs": [],
   "source": [
    "series = pd.Series(data)"
   ]
  },
  {
   "cell_type": "code",
   "execution_count": 47,
   "id": "f38781dc-a94f-40ac-ae3c-bd3b3b04c238",
   "metadata": {},
   "outputs": [
    {
     "data": {
      "text/plain": [
       "0    10\n",
       "1    20\n",
       "2    30\n",
       "3    40\n",
       "4    50\n",
       "dtype: int64"
      ]
     },
     "execution_count": 47,
     "metadata": {},
     "output_type": "execute_result"
    }
   ],
   "source": [
    "series"
   ]
  },
  {
   "cell_type": "code",
   "execution_count": 48,
   "id": "6149d113-aad2-499f-9a4c-cd1b7149a82b",
   "metadata": {},
   "outputs": [
    {
     "data": {
      "text/plain": [
       "pandas.core.series.Series"
      ]
     },
     "execution_count": 48,
     "metadata": {},
     "output_type": "execute_result"
    }
   ],
   "source": [
    "type(series)"
   ]
  },
  {
   "cell_type": "markdown",
   "id": "4428f562-df82-4048-b801-3fcf1a196214",
   "metadata": {},
   "source": [
    "### Create a data frame"
   ]
  },
  {
   "cell_type": "code",
   "execution_count": 49,
   "id": "1ce486ae-5c02-496f-80c3-730176a02826",
   "metadata": {},
   "outputs": [],
   "source": [
    "data = {\n",
    "    \"Name\" : [\"Rahul\", \"Raj\", \"Nikhil\", \"Gauri\"],\n",
    "    \"Age\" : [25,25,26,24],\n",
    "    \"Company\" : [\"Antwalk\", \"Zensar technologies\", \"Accenture\", \"Capgemini\"],\n",
    "    \"Salary\" : [20000,25000,30000,50000]\n",
    "}"
   ]
  },
  {
   "cell_type": "code",
   "execution_count": 50,
   "id": "e9fd4a6d-cda9-4042-8485-78f7f2fa8251",
   "metadata": {},
   "outputs": [
    {
     "data": {
      "text/plain": [
       "dict"
      ]
     },
     "execution_count": 50,
     "metadata": {},
     "output_type": "execute_result"
    }
   ],
   "source": [
    "type(data)"
   ]
  },
  {
   "cell_type": "code",
   "execution_count": 51,
   "id": "76f63f74-132c-4be9-b6e2-1645cae27139",
   "metadata": {},
   "outputs": [],
   "source": [
    "df = pd.DataFrame(data)"
   ]
  },
  {
   "cell_type": "code",
   "execution_count": 52,
   "id": "0254e99b-f922-42fa-8866-2b45fc24a9c4",
   "metadata": {},
   "outputs": [
    {
     "data": {
      "text/html": [
       "<div>\n",
       "<style scoped>\n",
       "    .dataframe tbody tr th:only-of-type {\n",
       "        vertical-align: middle;\n",
       "    }\n",
       "\n",
       "    .dataframe tbody tr th {\n",
       "        vertical-align: top;\n",
       "    }\n",
       "\n",
       "    .dataframe thead th {\n",
       "        text-align: right;\n",
       "    }\n",
       "</style>\n",
       "<table border=\"1\" class=\"dataframe\">\n",
       "  <thead>\n",
       "    <tr style=\"text-align: right;\">\n",
       "      <th></th>\n",
       "      <th>Name</th>\n",
       "      <th>Age</th>\n",
       "      <th>Company</th>\n",
       "      <th>Salary</th>\n",
       "    </tr>\n",
       "  </thead>\n",
       "  <tbody>\n",
       "    <tr>\n",
       "      <th>0</th>\n",
       "      <td>Rahul</td>\n",
       "      <td>25</td>\n",
       "      <td>Antwalk</td>\n",
       "      <td>20000</td>\n",
       "    </tr>\n",
       "    <tr>\n",
       "      <th>1</th>\n",
       "      <td>Raj</td>\n",
       "      <td>25</td>\n",
       "      <td>Zensar technologies</td>\n",
       "      <td>25000</td>\n",
       "    </tr>\n",
       "    <tr>\n",
       "      <th>2</th>\n",
       "      <td>Nikhil</td>\n",
       "      <td>26</td>\n",
       "      <td>Accenture</td>\n",
       "      <td>30000</td>\n",
       "    </tr>\n",
       "    <tr>\n",
       "      <th>3</th>\n",
       "      <td>Gauri</td>\n",
       "      <td>24</td>\n",
       "      <td>Capgemini</td>\n",
       "      <td>50000</td>\n",
       "    </tr>\n",
       "  </tbody>\n",
       "</table>\n",
       "</div>"
      ],
      "text/plain": [
       "     Name  Age              Company  Salary\n",
       "0   Rahul   25              Antwalk   20000\n",
       "1     Raj   25  Zensar technologies   25000\n",
       "2  Nikhil   26            Accenture   30000\n",
       "3   Gauri   24            Capgemini   50000"
      ]
     },
     "execution_count": 52,
     "metadata": {},
     "output_type": "execute_result"
    }
   ],
   "source": [
    "df"
   ]
  },
  {
   "cell_type": "markdown",
   "id": "dbc55de5-b910-44a5-bdb4-2522b2e73f3f",
   "metadata": {},
   "source": [
    "### Reading and Writing data"
   ]
  },
  {
   "cell_type": "code",
   "execution_count": 53,
   "id": "fea85733-4f96-4a63-8b58-b365429c0dd3",
   "metadata": {},
   "outputs": [],
   "source": [
    "df = pd.read_csv(\"https://raw.githubusercontent.com/rahulinchal/CSV-Files-/refs/heads/main/Data/Job_Placement_Data.csv\")"
   ]
  },
  {
   "cell_type": "code",
   "execution_count": 54,
   "id": "955ed90c-4380-4002-ab5f-be6a94371a74",
   "metadata": {},
   "outputs": [
    {
     "data": {
      "text/html": [
       "<div>\n",
       "<style scoped>\n",
       "    .dataframe tbody tr th:only-of-type {\n",
       "        vertical-align: middle;\n",
       "    }\n",
       "\n",
       "    .dataframe tbody tr th {\n",
       "        vertical-align: top;\n",
       "    }\n",
       "\n",
       "    .dataframe thead th {\n",
       "        text-align: right;\n",
       "    }\n",
       "</style>\n",
       "<table border=\"1\" class=\"dataframe\">\n",
       "  <thead>\n",
       "    <tr style=\"text-align: right;\">\n",
       "      <th></th>\n",
       "      <th>gender</th>\n",
       "      <th>ssc_percentage</th>\n",
       "      <th>ssc_board</th>\n",
       "      <th>hsc_percentage</th>\n",
       "      <th>hsc_board</th>\n",
       "      <th>hsc_subject</th>\n",
       "      <th>degree_percentage</th>\n",
       "      <th>undergrad_degree</th>\n",
       "      <th>work_experience</th>\n",
       "      <th>emp_test_percentage</th>\n",
       "      <th>specialisation</th>\n",
       "      <th>mba_percent</th>\n",
       "      <th>status</th>\n",
       "    </tr>\n",
       "  </thead>\n",
       "  <tbody>\n",
       "    <tr>\n",
       "      <th>0</th>\n",
       "      <td>M</td>\n",
       "      <td>67.00</td>\n",
       "      <td>Others</td>\n",
       "      <td>91.00</td>\n",
       "      <td>Others</td>\n",
       "      <td>Commerce</td>\n",
       "      <td>58.00</td>\n",
       "      <td>Sci&amp;Tech</td>\n",
       "      <td>No</td>\n",
       "      <td>55.0</td>\n",
       "      <td>Mkt&amp;HR</td>\n",
       "      <td>58.80</td>\n",
       "      <td>Placed</td>\n",
       "    </tr>\n",
       "    <tr>\n",
       "      <th>1</th>\n",
       "      <td>M</td>\n",
       "      <td>79.33</td>\n",
       "      <td>Central</td>\n",
       "      <td>78.33</td>\n",
       "      <td>Others</td>\n",
       "      <td>Science</td>\n",
       "      <td>77.48</td>\n",
       "      <td>Sci&amp;Tech</td>\n",
       "      <td>Yes</td>\n",
       "      <td>86.5</td>\n",
       "      <td>Mkt&amp;Fin</td>\n",
       "      <td>66.28</td>\n",
       "      <td>Placed</td>\n",
       "    </tr>\n",
       "    <tr>\n",
       "      <th>2</th>\n",
       "      <td>M</td>\n",
       "      <td>65.00</td>\n",
       "      <td>Central</td>\n",
       "      <td>68.00</td>\n",
       "      <td>Central</td>\n",
       "      <td>Arts</td>\n",
       "      <td>64.00</td>\n",
       "      <td>Comm&amp;Mgmt</td>\n",
       "      <td>No</td>\n",
       "      <td>75.0</td>\n",
       "      <td>Mkt&amp;Fin</td>\n",
       "      <td>57.80</td>\n",
       "      <td>Placed</td>\n",
       "    </tr>\n",
       "    <tr>\n",
       "      <th>3</th>\n",
       "      <td>M</td>\n",
       "      <td>56.00</td>\n",
       "      <td>Central</td>\n",
       "      <td>52.00</td>\n",
       "      <td>Central</td>\n",
       "      <td>Science</td>\n",
       "      <td>52.00</td>\n",
       "      <td>Sci&amp;Tech</td>\n",
       "      <td>No</td>\n",
       "      <td>66.0</td>\n",
       "      <td>Mkt&amp;HR</td>\n",
       "      <td>59.43</td>\n",
       "      <td>Not Placed</td>\n",
       "    </tr>\n",
       "    <tr>\n",
       "      <th>4</th>\n",
       "      <td>M</td>\n",
       "      <td>85.80</td>\n",
       "      <td>Central</td>\n",
       "      <td>73.60</td>\n",
       "      <td>Central</td>\n",
       "      <td>Commerce</td>\n",
       "      <td>73.30</td>\n",
       "      <td>Comm&amp;Mgmt</td>\n",
       "      <td>No</td>\n",
       "      <td>96.8</td>\n",
       "      <td>Mkt&amp;Fin</td>\n",
       "      <td>55.50</td>\n",
       "      <td>Placed</td>\n",
       "    </tr>\n",
       "  </tbody>\n",
       "</table>\n",
       "</div>"
      ],
      "text/plain": [
       "  gender  ssc_percentage ssc_board  hsc_percentage hsc_board hsc_subject  \\\n",
       "0      M           67.00    Others           91.00    Others    Commerce   \n",
       "1      M           79.33   Central           78.33    Others     Science   \n",
       "2      M           65.00   Central           68.00   Central        Arts   \n",
       "3      M           56.00   Central           52.00   Central     Science   \n",
       "4      M           85.80   Central           73.60   Central    Commerce   \n",
       "\n",
       "   degree_percentage undergrad_degree work_experience  emp_test_percentage  \\\n",
       "0              58.00         Sci&Tech              No                 55.0   \n",
       "1              77.48         Sci&Tech             Yes                 86.5   \n",
       "2              64.00        Comm&Mgmt              No                 75.0   \n",
       "3              52.00         Sci&Tech              No                 66.0   \n",
       "4              73.30        Comm&Mgmt              No                 96.8   \n",
       "\n",
       "  specialisation  mba_percent      status  \n",
       "0         Mkt&HR        58.80      Placed  \n",
       "1        Mkt&Fin        66.28      Placed  \n",
       "2        Mkt&Fin        57.80      Placed  \n",
       "3         Mkt&HR        59.43  Not Placed  \n",
       "4        Mkt&Fin        55.50      Placed  "
      ]
     },
     "execution_count": 54,
     "metadata": {},
     "output_type": "execute_result"
    }
   ],
   "source": [
    "df.head()"
   ]
  },
  {
   "cell_type": "code",
   "execution_count": 55,
   "id": "41107952-4f4e-40e7-ba65-84814fa8bda6",
   "metadata": {},
   "outputs": [
    {
     "data": {
      "text/plain": [
       "pandas.core.frame.DataFrame"
      ]
     },
     "execution_count": 55,
     "metadata": {},
     "output_type": "execute_result"
    }
   ],
   "source": [
    "type(df)"
   ]
  },
  {
   "cell_type": "code",
   "execution_count": 57,
   "id": "b533911c-4e15-4347-a246-e74de2894fbe",
   "metadata": {},
   "outputs": [
    {
     "data": {
      "text/html": [
       "<div>\n",
       "<style scoped>\n",
       "    .dataframe tbody tr th:only-of-type {\n",
       "        vertical-align: middle;\n",
       "    }\n",
       "\n",
       "    .dataframe tbody tr th {\n",
       "        vertical-align: top;\n",
       "    }\n",
       "\n",
       "    .dataframe thead th {\n",
       "        text-align: right;\n",
       "    }\n",
       "</style>\n",
       "<table border=\"1\" class=\"dataframe\">\n",
       "  <thead>\n",
       "    <tr style=\"text-align: right;\">\n",
       "      <th></th>\n",
       "      <th>gender</th>\n",
       "      <th>ssc_percentage</th>\n",
       "      <th>ssc_board</th>\n",
       "      <th>hsc_percentage</th>\n",
       "      <th>hsc_board</th>\n",
       "      <th>hsc_subject</th>\n",
       "      <th>degree_percentage</th>\n",
       "      <th>undergrad_degree</th>\n",
       "      <th>work_experience</th>\n",
       "      <th>emp_test_percentage</th>\n",
       "      <th>specialisation</th>\n",
       "      <th>mba_percent</th>\n",
       "      <th>status</th>\n",
       "    </tr>\n",
       "  </thead>\n",
       "  <tbody>\n",
       "    <tr>\n",
       "      <th>210</th>\n",
       "      <td>M</td>\n",
       "      <td>80.6</td>\n",
       "      <td>Others</td>\n",
       "      <td>82.0</td>\n",
       "      <td>Others</td>\n",
       "      <td>Commerce</td>\n",
       "      <td>77.6</td>\n",
       "      <td>Comm&amp;Mgmt</td>\n",
       "      <td>No</td>\n",
       "      <td>91.0</td>\n",
       "      <td>Mkt&amp;Fin</td>\n",
       "      <td>74.49</td>\n",
       "      <td>Placed</td>\n",
       "    </tr>\n",
       "    <tr>\n",
       "      <th>211</th>\n",
       "      <td>M</td>\n",
       "      <td>58.0</td>\n",
       "      <td>Others</td>\n",
       "      <td>60.0</td>\n",
       "      <td>Others</td>\n",
       "      <td>Science</td>\n",
       "      <td>72.0</td>\n",
       "      <td>Sci&amp;Tech</td>\n",
       "      <td>No</td>\n",
       "      <td>74.0</td>\n",
       "      <td>Mkt&amp;Fin</td>\n",
       "      <td>53.62</td>\n",
       "      <td>Placed</td>\n",
       "    </tr>\n",
       "    <tr>\n",
       "      <th>212</th>\n",
       "      <td>M</td>\n",
       "      <td>67.0</td>\n",
       "      <td>Others</td>\n",
       "      <td>67.0</td>\n",
       "      <td>Others</td>\n",
       "      <td>Commerce</td>\n",
       "      <td>73.0</td>\n",
       "      <td>Comm&amp;Mgmt</td>\n",
       "      <td>Yes</td>\n",
       "      <td>59.0</td>\n",
       "      <td>Mkt&amp;Fin</td>\n",
       "      <td>69.72</td>\n",
       "      <td>Placed</td>\n",
       "    </tr>\n",
       "    <tr>\n",
       "      <th>213</th>\n",
       "      <td>F</td>\n",
       "      <td>74.0</td>\n",
       "      <td>Others</td>\n",
       "      <td>66.0</td>\n",
       "      <td>Others</td>\n",
       "      <td>Commerce</td>\n",
       "      <td>58.0</td>\n",
       "      <td>Comm&amp;Mgmt</td>\n",
       "      <td>No</td>\n",
       "      <td>70.0</td>\n",
       "      <td>Mkt&amp;HR</td>\n",
       "      <td>60.23</td>\n",
       "      <td>Placed</td>\n",
       "    </tr>\n",
       "    <tr>\n",
       "      <th>214</th>\n",
       "      <td>M</td>\n",
       "      <td>62.0</td>\n",
       "      <td>Central</td>\n",
       "      <td>58.0</td>\n",
       "      <td>Others</td>\n",
       "      <td>Science</td>\n",
       "      <td>53.0</td>\n",
       "      <td>Comm&amp;Mgmt</td>\n",
       "      <td>No</td>\n",
       "      <td>89.0</td>\n",
       "      <td>Mkt&amp;HR</td>\n",
       "      <td>60.22</td>\n",
       "      <td>Not Placed</td>\n",
       "    </tr>\n",
       "  </tbody>\n",
       "</table>\n",
       "</div>"
      ],
      "text/plain": [
       "    gender  ssc_percentage ssc_board  hsc_percentage hsc_board hsc_subject  \\\n",
       "210      M            80.6    Others            82.0    Others    Commerce   \n",
       "211      M            58.0    Others            60.0    Others     Science   \n",
       "212      M            67.0    Others            67.0    Others    Commerce   \n",
       "213      F            74.0    Others            66.0    Others    Commerce   \n",
       "214      M            62.0   Central            58.0    Others     Science   \n",
       "\n",
       "     degree_percentage undergrad_degree work_experience  emp_test_percentage  \\\n",
       "210               77.6        Comm&Mgmt              No                 91.0   \n",
       "211               72.0         Sci&Tech              No                 74.0   \n",
       "212               73.0        Comm&Mgmt             Yes                 59.0   \n",
       "213               58.0        Comm&Mgmt              No                 70.0   \n",
       "214               53.0        Comm&Mgmt              No                 89.0   \n",
       "\n",
       "    specialisation  mba_percent      status  \n",
       "210        Mkt&Fin        74.49      Placed  \n",
       "211        Mkt&Fin        53.62      Placed  \n",
       "212        Mkt&Fin        69.72      Placed  \n",
       "213         Mkt&HR        60.23      Placed  \n",
       "214         Mkt&HR        60.22  Not Placed  "
      ]
     },
     "execution_count": 57,
     "metadata": {},
     "output_type": "execute_result"
    }
   ],
   "source": [
    "df.tail()"
   ]
  },
  {
   "cell_type": "code",
   "execution_count": 58,
   "id": "633119e8-adc4-490f-9523-de07f3459c26",
   "metadata": {},
   "outputs": [
    {
     "data": {
      "text/plain": [
       "(215, 13)"
      ]
     },
     "execution_count": 58,
     "metadata": {},
     "output_type": "execute_result"
    }
   ],
   "source": [
    "df.shape"
   ]
  },
  {
   "cell_type": "markdown",
   "id": "ca30cea1-886a-4385-a03f-dea51f263d00",
   "metadata": {},
   "source": [
    "### Inspecting the data"
   ]
  },
  {
   "cell_type": "code",
   "execution_count": 59,
   "id": "4c056d91-5a7b-4110-b790-e6464a41da89",
   "metadata": {},
   "outputs": [
    {
     "data": {
      "text/plain": [
       "(215, 13)"
      ]
     },
     "execution_count": 59,
     "metadata": {},
     "output_type": "execute_result"
    }
   ],
   "source": [
    "df.shape"
   ]
  },
  {
   "cell_type": "code",
   "execution_count": 60,
   "id": "517f0704-c9fe-4428-ae0f-ae5890abfde5",
   "metadata": {},
   "outputs": [
    {
     "data": {
      "text/plain": [
       "Index(['gender', 'ssc_percentage', 'ssc_board', 'hsc_percentage', 'hsc_board',\n",
       "       'hsc_subject', 'degree_percentage', 'undergrad_degree',\n",
       "       'work_experience', 'emp_test_percentage', 'specialisation',\n",
       "       'mba_percent', 'status'],\n",
       "      dtype='object')"
      ]
     },
     "execution_count": 60,
     "metadata": {},
     "output_type": "execute_result"
    }
   ],
   "source": [
    "df.columns"
   ]
  },
  {
   "cell_type": "code",
   "execution_count": 61,
   "id": "f2916fe8-b6b0-4d60-8501-754156c0b410",
   "metadata": {},
   "outputs": [
    {
     "data": {
      "text/plain": [
       "gender                  object\n",
       "ssc_percentage         float64\n",
       "ssc_board               object\n",
       "hsc_percentage         float64\n",
       "hsc_board               object\n",
       "hsc_subject             object\n",
       "degree_percentage      float64\n",
       "undergrad_degree        object\n",
       "work_experience         object\n",
       "emp_test_percentage    float64\n",
       "specialisation          object\n",
       "mba_percent            float64\n",
       "status                  object\n",
       "dtype: object"
      ]
     },
     "execution_count": 61,
     "metadata": {},
     "output_type": "execute_result"
    }
   ],
   "source": [
    "df.dtypes"
   ]
  },
  {
   "cell_type": "code",
   "execution_count": 62,
   "id": "055620bd-a68b-497c-a3b3-2ca879f004af",
   "metadata": {},
   "outputs": [
    {
     "name": "stdout",
     "output_type": "stream",
     "text": [
      "<class 'pandas.core.frame.DataFrame'>\n",
      "RangeIndex: 215 entries, 0 to 214\n",
      "Data columns (total 13 columns):\n",
      " #   Column               Non-Null Count  Dtype  \n",
      "---  ------               --------------  -----  \n",
      " 0   gender               215 non-null    object \n",
      " 1   ssc_percentage       215 non-null    float64\n",
      " 2   ssc_board            215 non-null    object \n",
      " 3   hsc_percentage       215 non-null    float64\n",
      " 4   hsc_board            215 non-null    object \n",
      " 5   hsc_subject          215 non-null    object \n",
      " 6   degree_percentage    215 non-null    float64\n",
      " 7   undergrad_degree     215 non-null    object \n",
      " 8   work_experience      215 non-null    object \n",
      " 9   emp_test_percentage  215 non-null    float64\n",
      " 10  specialisation       215 non-null    object \n",
      " 11  mba_percent          215 non-null    float64\n",
      " 12  status               215 non-null    object \n",
      "dtypes: float64(5), object(8)\n",
      "memory usage: 22.0+ KB\n"
     ]
    }
   ],
   "source": [
    "df.info()"
   ]
  },
  {
   "cell_type": "code",
   "execution_count": 64,
   "id": "d2a4dde5-d790-4063-81ad-69530f7317dd",
   "metadata": {},
   "outputs": [
    {
     "data": {
      "text/html": [
       "<div>\n",
       "<style scoped>\n",
       "    .dataframe tbody tr th:only-of-type {\n",
       "        vertical-align: middle;\n",
       "    }\n",
       "\n",
       "    .dataframe tbody tr th {\n",
       "        vertical-align: top;\n",
       "    }\n",
       "\n",
       "    .dataframe thead th {\n",
       "        text-align: right;\n",
       "    }\n",
       "</style>\n",
       "<table border=\"1\" class=\"dataframe\">\n",
       "  <thead>\n",
       "    <tr style=\"text-align: right;\">\n",
       "      <th></th>\n",
       "      <th>count</th>\n",
       "      <th>mean</th>\n",
       "      <th>std</th>\n",
       "      <th>min</th>\n",
       "      <th>25%</th>\n",
       "      <th>50%</th>\n",
       "      <th>75%</th>\n",
       "      <th>max</th>\n",
       "    </tr>\n",
       "  </thead>\n",
       "  <tbody>\n",
       "    <tr>\n",
       "      <th>ssc_percentage</th>\n",
       "      <td>215.0</td>\n",
       "      <td>67.303395</td>\n",
       "      <td>10.827205</td>\n",
       "      <td>40.89</td>\n",
       "      <td>60.600</td>\n",
       "      <td>67.0</td>\n",
       "      <td>75.700</td>\n",
       "      <td>89.40</td>\n",
       "    </tr>\n",
       "    <tr>\n",
       "      <th>hsc_percentage</th>\n",
       "      <td>215.0</td>\n",
       "      <td>66.333163</td>\n",
       "      <td>10.897509</td>\n",
       "      <td>37.00</td>\n",
       "      <td>60.900</td>\n",
       "      <td>65.0</td>\n",
       "      <td>73.000</td>\n",
       "      <td>97.70</td>\n",
       "    </tr>\n",
       "    <tr>\n",
       "      <th>degree_percentage</th>\n",
       "      <td>215.0</td>\n",
       "      <td>66.370186</td>\n",
       "      <td>7.358743</td>\n",
       "      <td>50.00</td>\n",
       "      <td>61.000</td>\n",
       "      <td>66.0</td>\n",
       "      <td>72.000</td>\n",
       "      <td>91.00</td>\n",
       "    </tr>\n",
       "    <tr>\n",
       "      <th>emp_test_percentage</th>\n",
       "      <td>215.0</td>\n",
       "      <td>72.100558</td>\n",
       "      <td>13.275956</td>\n",
       "      <td>50.00</td>\n",
       "      <td>60.000</td>\n",
       "      <td>71.0</td>\n",
       "      <td>83.500</td>\n",
       "      <td>98.00</td>\n",
       "    </tr>\n",
       "    <tr>\n",
       "      <th>mba_percent</th>\n",
       "      <td>215.0</td>\n",
       "      <td>62.278186</td>\n",
       "      <td>5.833385</td>\n",
       "      <td>51.21</td>\n",
       "      <td>57.945</td>\n",
       "      <td>62.0</td>\n",
       "      <td>66.255</td>\n",
       "      <td>77.89</td>\n",
       "    </tr>\n",
       "  </tbody>\n",
       "</table>\n",
       "</div>"
      ],
      "text/plain": [
       "                     count       mean        std    min     25%   50%     75%  \\\n",
       "ssc_percentage       215.0  67.303395  10.827205  40.89  60.600  67.0  75.700   \n",
       "hsc_percentage       215.0  66.333163  10.897509  37.00  60.900  65.0  73.000   \n",
       "degree_percentage    215.0  66.370186   7.358743  50.00  61.000  66.0  72.000   \n",
       "emp_test_percentage  215.0  72.100558  13.275956  50.00  60.000  71.0  83.500   \n",
       "mba_percent          215.0  62.278186   5.833385  51.21  57.945  62.0  66.255   \n",
       "\n",
       "                       max  \n",
       "ssc_percentage       89.40  \n",
       "hsc_percentage       97.70  \n",
       "degree_percentage    91.00  \n",
       "emp_test_percentage  98.00  \n",
       "mba_percent          77.89  "
      ]
     },
     "execution_count": 64,
     "metadata": {},
     "output_type": "execute_result"
    }
   ],
   "source": [
    "df.describe().T"
   ]
  },
  {
   "cell_type": "markdown",
   "id": "7f23e2a5-57de-47fa-8683-cd1b004202de",
   "metadata": {},
   "source": [
    "### Selecting the columns and rows"
   ]
  },
  {
   "cell_type": "code",
   "execution_count": 65,
   "id": "8a4b52c5-f306-4716-8d01-04f1ab0b4449",
   "metadata": {},
   "outputs": [
    {
     "data": {
      "text/html": [
       "<div>\n",
       "<style scoped>\n",
       "    .dataframe tbody tr th:only-of-type {\n",
       "        vertical-align: middle;\n",
       "    }\n",
       "\n",
       "    .dataframe tbody tr th {\n",
       "        vertical-align: top;\n",
       "    }\n",
       "\n",
       "    .dataframe thead th {\n",
       "        text-align: right;\n",
       "    }\n",
       "</style>\n",
       "<table border=\"1\" class=\"dataframe\">\n",
       "  <thead>\n",
       "    <tr style=\"text-align: right;\">\n",
       "      <th></th>\n",
       "      <th>gender</th>\n",
       "      <th>ssc_percentage</th>\n",
       "      <th>ssc_board</th>\n",
       "      <th>hsc_percentage</th>\n",
       "      <th>hsc_board</th>\n",
       "      <th>hsc_subject</th>\n",
       "      <th>degree_percentage</th>\n",
       "      <th>undergrad_degree</th>\n",
       "      <th>work_experience</th>\n",
       "      <th>emp_test_percentage</th>\n",
       "      <th>specialisation</th>\n",
       "      <th>mba_percent</th>\n",
       "      <th>status</th>\n",
       "    </tr>\n",
       "  </thead>\n",
       "  <tbody>\n",
       "    <tr>\n",
       "      <th>0</th>\n",
       "      <td>M</td>\n",
       "      <td>67.00</td>\n",
       "      <td>Others</td>\n",
       "      <td>91.00</td>\n",
       "      <td>Others</td>\n",
       "      <td>Commerce</td>\n",
       "      <td>58.00</td>\n",
       "      <td>Sci&amp;Tech</td>\n",
       "      <td>No</td>\n",
       "      <td>55.0</td>\n",
       "      <td>Mkt&amp;HR</td>\n",
       "      <td>58.80</td>\n",
       "      <td>Placed</td>\n",
       "    </tr>\n",
       "    <tr>\n",
       "      <th>1</th>\n",
       "      <td>M</td>\n",
       "      <td>79.33</td>\n",
       "      <td>Central</td>\n",
       "      <td>78.33</td>\n",
       "      <td>Others</td>\n",
       "      <td>Science</td>\n",
       "      <td>77.48</td>\n",
       "      <td>Sci&amp;Tech</td>\n",
       "      <td>Yes</td>\n",
       "      <td>86.5</td>\n",
       "      <td>Mkt&amp;Fin</td>\n",
       "      <td>66.28</td>\n",
       "      <td>Placed</td>\n",
       "    </tr>\n",
       "    <tr>\n",
       "      <th>2</th>\n",
       "      <td>M</td>\n",
       "      <td>65.00</td>\n",
       "      <td>Central</td>\n",
       "      <td>68.00</td>\n",
       "      <td>Central</td>\n",
       "      <td>Arts</td>\n",
       "      <td>64.00</td>\n",
       "      <td>Comm&amp;Mgmt</td>\n",
       "      <td>No</td>\n",
       "      <td>75.0</td>\n",
       "      <td>Mkt&amp;Fin</td>\n",
       "      <td>57.80</td>\n",
       "      <td>Placed</td>\n",
       "    </tr>\n",
       "    <tr>\n",
       "      <th>3</th>\n",
       "      <td>M</td>\n",
       "      <td>56.00</td>\n",
       "      <td>Central</td>\n",
       "      <td>52.00</td>\n",
       "      <td>Central</td>\n",
       "      <td>Science</td>\n",
       "      <td>52.00</td>\n",
       "      <td>Sci&amp;Tech</td>\n",
       "      <td>No</td>\n",
       "      <td>66.0</td>\n",
       "      <td>Mkt&amp;HR</td>\n",
       "      <td>59.43</td>\n",
       "      <td>Not Placed</td>\n",
       "    </tr>\n",
       "    <tr>\n",
       "      <th>4</th>\n",
       "      <td>M</td>\n",
       "      <td>85.80</td>\n",
       "      <td>Central</td>\n",
       "      <td>73.60</td>\n",
       "      <td>Central</td>\n",
       "      <td>Commerce</td>\n",
       "      <td>73.30</td>\n",
       "      <td>Comm&amp;Mgmt</td>\n",
       "      <td>No</td>\n",
       "      <td>96.8</td>\n",
       "      <td>Mkt&amp;Fin</td>\n",
       "      <td>55.50</td>\n",
       "      <td>Placed</td>\n",
       "    </tr>\n",
       "  </tbody>\n",
       "</table>\n",
       "</div>"
      ],
      "text/plain": [
       "  gender  ssc_percentage ssc_board  hsc_percentage hsc_board hsc_subject  \\\n",
       "0      M           67.00    Others           91.00    Others    Commerce   \n",
       "1      M           79.33   Central           78.33    Others     Science   \n",
       "2      M           65.00   Central           68.00   Central        Arts   \n",
       "3      M           56.00   Central           52.00   Central     Science   \n",
       "4      M           85.80   Central           73.60   Central    Commerce   \n",
       "\n",
       "   degree_percentage undergrad_degree work_experience  emp_test_percentage  \\\n",
       "0              58.00         Sci&Tech              No                 55.0   \n",
       "1              77.48         Sci&Tech             Yes                 86.5   \n",
       "2              64.00        Comm&Mgmt              No                 75.0   \n",
       "3              52.00         Sci&Tech              No                 66.0   \n",
       "4              73.30        Comm&Mgmt              No                 96.8   \n",
       "\n",
       "  specialisation  mba_percent      status  \n",
       "0         Mkt&HR        58.80      Placed  \n",
       "1        Mkt&Fin        66.28      Placed  \n",
       "2        Mkt&Fin        57.80      Placed  \n",
       "3         Mkt&HR        59.43  Not Placed  \n",
       "4        Mkt&Fin        55.50      Placed  "
      ]
     },
     "execution_count": 65,
     "metadata": {},
     "output_type": "execute_result"
    }
   ],
   "source": [
    "df.head()"
   ]
  },
  {
   "cell_type": "code",
   "execution_count": 70,
   "id": "a9e712fc-fc4a-4e71-81d8-77a3b33bcc7c",
   "metadata": {},
   "outputs": [
    {
     "data": {
      "text/html": [
       "<div>\n",
       "<style scoped>\n",
       "    .dataframe tbody tr th:only-of-type {\n",
       "        vertical-align: middle;\n",
       "    }\n",
       "\n",
       "    .dataframe tbody tr th {\n",
       "        vertical-align: top;\n",
       "    }\n",
       "\n",
       "    .dataframe thead th {\n",
       "        text-align: right;\n",
       "    }\n",
       "</style>\n",
       "<table border=\"1\" class=\"dataframe\">\n",
       "  <thead>\n",
       "    <tr style=\"text-align: right;\">\n",
       "      <th></th>\n",
       "      <th>work_experience</th>\n",
       "      <th>emp_test_percentage</th>\n",
       "    </tr>\n",
       "  </thead>\n",
       "  <tbody>\n",
       "    <tr>\n",
       "      <th>0</th>\n",
       "      <td>No</td>\n",
       "      <td>55.0</td>\n",
       "    </tr>\n",
       "    <tr>\n",
       "      <th>1</th>\n",
       "      <td>Yes</td>\n",
       "      <td>86.5</td>\n",
       "    </tr>\n",
       "    <tr>\n",
       "      <th>2</th>\n",
       "      <td>No</td>\n",
       "      <td>75.0</td>\n",
       "    </tr>\n",
       "    <tr>\n",
       "      <th>3</th>\n",
       "      <td>No</td>\n",
       "      <td>66.0</td>\n",
       "    </tr>\n",
       "    <tr>\n",
       "      <th>4</th>\n",
       "      <td>No</td>\n",
       "      <td>96.8</td>\n",
       "    </tr>\n",
       "    <tr>\n",
       "      <th>...</th>\n",
       "      <td>...</td>\n",
       "      <td>...</td>\n",
       "    </tr>\n",
       "    <tr>\n",
       "      <th>210</th>\n",
       "      <td>No</td>\n",
       "      <td>91.0</td>\n",
       "    </tr>\n",
       "    <tr>\n",
       "      <th>211</th>\n",
       "      <td>No</td>\n",
       "      <td>74.0</td>\n",
       "    </tr>\n",
       "    <tr>\n",
       "      <th>212</th>\n",
       "      <td>Yes</td>\n",
       "      <td>59.0</td>\n",
       "    </tr>\n",
       "    <tr>\n",
       "      <th>213</th>\n",
       "      <td>No</td>\n",
       "      <td>70.0</td>\n",
       "    </tr>\n",
       "    <tr>\n",
       "      <th>214</th>\n",
       "      <td>No</td>\n",
       "      <td>89.0</td>\n",
       "    </tr>\n",
       "  </tbody>\n",
       "</table>\n",
       "<p>215 rows × 2 columns</p>\n",
       "</div>"
      ],
      "text/plain": [
       "    work_experience  emp_test_percentage\n",
       "0                No                 55.0\n",
       "1               Yes                 86.5\n",
       "2                No                 75.0\n",
       "3                No                 66.0\n",
       "4                No                 96.8\n",
       "..              ...                  ...\n",
       "210              No                 91.0\n",
       "211              No                 74.0\n",
       "212             Yes                 59.0\n",
       "213              No                 70.0\n",
       "214              No                 89.0\n",
       "\n",
       "[215 rows x 2 columns]"
      ]
     },
     "execution_count": 70,
     "metadata": {},
     "output_type": "execute_result"
    }
   ],
   "source": [
    "df[['work_experience', 'emp_test_percentage']]"
   ]
  },
  {
   "cell_type": "markdown",
   "id": "366f648f-217e-43c6-99af-7c4fdfa67436",
   "metadata": {},
   "source": [
    "### Filtering data"
   ]
  },
  {
   "cell_type": "code",
   "execution_count": 73,
   "id": "7b8ca7df-e8a3-4ff4-a8a6-14fba0b7ba92",
   "metadata": {},
   "outputs": [],
   "source": [
    "filt_df = df[df['degree_percentage'] > 60.0]"
   ]
  },
  {
   "cell_type": "code",
   "execution_count": 74,
   "id": "46b1b990-1323-4dc2-8508-e95a9654677e",
   "metadata": {},
   "outputs": [
    {
     "data": {
      "text/html": [
       "<div>\n",
       "<style scoped>\n",
       "    .dataframe tbody tr th:only-of-type {\n",
       "        vertical-align: middle;\n",
       "    }\n",
       "\n",
       "    .dataframe tbody tr th {\n",
       "        vertical-align: top;\n",
       "    }\n",
       "\n",
       "    .dataframe thead th {\n",
       "        text-align: right;\n",
       "    }\n",
       "</style>\n",
       "<table border=\"1\" class=\"dataframe\">\n",
       "  <thead>\n",
       "    <tr style=\"text-align: right;\">\n",
       "      <th></th>\n",
       "      <th>gender</th>\n",
       "      <th>ssc_percentage</th>\n",
       "      <th>ssc_board</th>\n",
       "      <th>hsc_percentage</th>\n",
       "      <th>hsc_board</th>\n",
       "      <th>hsc_subject</th>\n",
       "      <th>degree_percentage</th>\n",
       "      <th>undergrad_degree</th>\n",
       "      <th>work_experience</th>\n",
       "      <th>emp_test_percentage</th>\n",
       "      <th>specialisation</th>\n",
       "      <th>mba_percent</th>\n",
       "      <th>status</th>\n",
       "    </tr>\n",
       "  </thead>\n",
       "  <tbody>\n",
       "    <tr>\n",
       "      <th>1</th>\n",
       "      <td>M</td>\n",
       "      <td>79.33</td>\n",
       "      <td>Central</td>\n",
       "      <td>78.33</td>\n",
       "      <td>Others</td>\n",
       "      <td>Science</td>\n",
       "      <td>77.48</td>\n",
       "      <td>Sci&amp;Tech</td>\n",
       "      <td>Yes</td>\n",
       "      <td>86.50</td>\n",
       "      <td>Mkt&amp;Fin</td>\n",
       "      <td>66.28</td>\n",
       "      <td>Placed</td>\n",
       "    </tr>\n",
       "    <tr>\n",
       "      <th>2</th>\n",
       "      <td>M</td>\n",
       "      <td>65.00</td>\n",
       "      <td>Central</td>\n",
       "      <td>68.00</td>\n",
       "      <td>Central</td>\n",
       "      <td>Arts</td>\n",
       "      <td>64.00</td>\n",
       "      <td>Comm&amp;Mgmt</td>\n",
       "      <td>No</td>\n",
       "      <td>75.00</td>\n",
       "      <td>Mkt&amp;Fin</td>\n",
       "      <td>57.80</td>\n",
       "      <td>Placed</td>\n",
       "    </tr>\n",
       "    <tr>\n",
       "      <th>4</th>\n",
       "      <td>M</td>\n",
       "      <td>85.80</td>\n",
       "      <td>Central</td>\n",
       "      <td>73.60</td>\n",
       "      <td>Central</td>\n",
       "      <td>Commerce</td>\n",
       "      <td>73.30</td>\n",
       "      <td>Comm&amp;Mgmt</td>\n",
       "      <td>No</td>\n",
       "      <td>96.80</td>\n",
       "      <td>Mkt&amp;Fin</td>\n",
       "      <td>55.50</td>\n",
       "      <td>Placed</td>\n",
       "    </tr>\n",
       "    <tr>\n",
       "      <th>5</th>\n",
       "      <td>M</td>\n",
       "      <td>55.00</td>\n",
       "      <td>Others</td>\n",
       "      <td>49.80</td>\n",
       "      <td>Others</td>\n",
       "      <td>Science</td>\n",
       "      <td>67.25</td>\n",
       "      <td>Sci&amp;Tech</td>\n",
       "      <td>Yes</td>\n",
       "      <td>55.00</td>\n",
       "      <td>Mkt&amp;Fin</td>\n",
       "      <td>51.58</td>\n",
       "      <td>Not Placed</td>\n",
       "    </tr>\n",
       "    <tr>\n",
       "      <th>6</th>\n",
       "      <td>F</td>\n",
       "      <td>46.00</td>\n",
       "      <td>Others</td>\n",
       "      <td>49.20</td>\n",
       "      <td>Others</td>\n",
       "      <td>Commerce</td>\n",
       "      <td>79.00</td>\n",
       "      <td>Comm&amp;Mgmt</td>\n",
       "      <td>No</td>\n",
       "      <td>74.28</td>\n",
       "      <td>Mkt&amp;Fin</td>\n",
       "      <td>53.29</td>\n",
       "      <td>Not Placed</td>\n",
       "    </tr>\n",
       "    <tr>\n",
       "      <th>...</th>\n",
       "      <td>...</td>\n",
       "      <td>...</td>\n",
       "      <td>...</td>\n",
       "      <td>...</td>\n",
       "      <td>...</td>\n",
       "      <td>...</td>\n",
       "      <td>...</td>\n",
       "      <td>...</td>\n",
       "      <td>...</td>\n",
       "      <td>...</td>\n",
       "      <td>...</td>\n",
       "      <td>...</td>\n",
       "      <td>...</td>\n",
       "    </tr>\n",
       "    <tr>\n",
       "      <th>208</th>\n",
       "      <td>F</td>\n",
       "      <td>43.00</td>\n",
       "      <td>Central</td>\n",
       "      <td>60.00</td>\n",
       "      <td>Others</td>\n",
       "      <td>Science</td>\n",
       "      <td>65.00</td>\n",
       "      <td>Comm&amp;Mgmt</td>\n",
       "      <td>No</td>\n",
       "      <td>92.66</td>\n",
       "      <td>Mkt&amp;HR</td>\n",
       "      <td>62.92</td>\n",
       "      <td>Not Placed</td>\n",
       "    </tr>\n",
       "    <tr>\n",
       "      <th>209</th>\n",
       "      <td>M</td>\n",
       "      <td>62.00</td>\n",
       "      <td>Central</td>\n",
       "      <td>72.00</td>\n",
       "      <td>Central</td>\n",
       "      <td>Commerce</td>\n",
       "      <td>65.00</td>\n",
       "      <td>Comm&amp;Mgmt</td>\n",
       "      <td>No</td>\n",
       "      <td>67.00</td>\n",
       "      <td>Mkt&amp;Fin</td>\n",
       "      <td>56.49</td>\n",
       "      <td>Placed</td>\n",
       "    </tr>\n",
       "    <tr>\n",
       "      <th>210</th>\n",
       "      <td>M</td>\n",
       "      <td>80.60</td>\n",
       "      <td>Others</td>\n",
       "      <td>82.00</td>\n",
       "      <td>Others</td>\n",
       "      <td>Commerce</td>\n",
       "      <td>77.60</td>\n",
       "      <td>Comm&amp;Mgmt</td>\n",
       "      <td>No</td>\n",
       "      <td>91.00</td>\n",
       "      <td>Mkt&amp;Fin</td>\n",
       "      <td>74.49</td>\n",
       "      <td>Placed</td>\n",
       "    </tr>\n",
       "    <tr>\n",
       "      <th>211</th>\n",
       "      <td>M</td>\n",
       "      <td>58.00</td>\n",
       "      <td>Others</td>\n",
       "      <td>60.00</td>\n",
       "      <td>Others</td>\n",
       "      <td>Science</td>\n",
       "      <td>72.00</td>\n",
       "      <td>Sci&amp;Tech</td>\n",
       "      <td>No</td>\n",
       "      <td>74.00</td>\n",
       "      <td>Mkt&amp;Fin</td>\n",
       "      <td>53.62</td>\n",
       "      <td>Placed</td>\n",
       "    </tr>\n",
       "    <tr>\n",
       "      <th>212</th>\n",
       "      <td>M</td>\n",
       "      <td>67.00</td>\n",
       "      <td>Others</td>\n",
       "      <td>67.00</td>\n",
       "      <td>Others</td>\n",
       "      <td>Commerce</td>\n",
       "      <td>73.00</td>\n",
       "      <td>Comm&amp;Mgmt</td>\n",
       "      <td>Yes</td>\n",
       "      <td>59.00</td>\n",
       "      <td>Mkt&amp;Fin</td>\n",
       "      <td>69.72</td>\n",
       "      <td>Placed</td>\n",
       "    </tr>\n",
       "  </tbody>\n",
       "</table>\n",
       "<p>167 rows × 13 columns</p>\n",
       "</div>"
      ],
      "text/plain": [
       "    gender  ssc_percentage ssc_board  hsc_percentage hsc_board hsc_subject  \\\n",
       "1        M           79.33   Central           78.33    Others     Science   \n",
       "2        M           65.00   Central           68.00   Central        Arts   \n",
       "4        M           85.80   Central           73.60   Central    Commerce   \n",
       "5        M           55.00    Others           49.80    Others     Science   \n",
       "6        F           46.00    Others           49.20    Others    Commerce   \n",
       "..     ...             ...       ...             ...       ...         ...   \n",
       "208      F           43.00   Central           60.00    Others     Science   \n",
       "209      M           62.00   Central           72.00   Central    Commerce   \n",
       "210      M           80.60    Others           82.00    Others    Commerce   \n",
       "211      M           58.00    Others           60.00    Others     Science   \n",
       "212      M           67.00    Others           67.00    Others    Commerce   \n",
       "\n",
       "     degree_percentage undergrad_degree work_experience  emp_test_percentage  \\\n",
       "1                77.48         Sci&Tech             Yes                86.50   \n",
       "2                64.00        Comm&Mgmt              No                75.00   \n",
       "4                73.30        Comm&Mgmt              No                96.80   \n",
       "5                67.25         Sci&Tech             Yes                55.00   \n",
       "6                79.00        Comm&Mgmt              No                74.28   \n",
       "..                 ...              ...             ...                  ...   \n",
       "208              65.00        Comm&Mgmt              No                92.66   \n",
       "209              65.00        Comm&Mgmt              No                67.00   \n",
       "210              77.60        Comm&Mgmt              No                91.00   \n",
       "211              72.00         Sci&Tech              No                74.00   \n",
       "212              73.00        Comm&Mgmt             Yes                59.00   \n",
       "\n",
       "    specialisation  mba_percent      status  \n",
       "1          Mkt&Fin        66.28      Placed  \n",
       "2          Mkt&Fin        57.80      Placed  \n",
       "4          Mkt&Fin        55.50      Placed  \n",
       "5          Mkt&Fin        51.58  Not Placed  \n",
       "6          Mkt&Fin        53.29  Not Placed  \n",
       "..             ...          ...         ...  \n",
       "208         Mkt&HR        62.92  Not Placed  \n",
       "209        Mkt&Fin        56.49      Placed  \n",
       "210        Mkt&Fin        74.49      Placed  \n",
       "211        Mkt&Fin        53.62      Placed  \n",
       "212        Mkt&Fin        69.72      Placed  \n",
       "\n",
       "[167 rows x 13 columns]"
      ]
     },
     "execution_count": 74,
     "metadata": {},
     "output_type": "execute_result"
    }
   ],
   "source": [
    "filt_df"
   ]
  },
  {
   "cell_type": "code",
   "execution_count": 75,
   "id": "7e05a7c1-7e01-4f31-bcd4-47ca1c6d6eec",
   "metadata": {},
   "outputs": [
    {
     "data": {
      "text/plain": [
       "array([77.48, 64.  , 73.3 , 67.25, 79.  , 66.  , 72.  , 61.  , 78.3 ,\n",
       "       65.  , 69.  , 65.6 , 70.  , 85.  , 72.23, 64.74, 78.86, 67.5 ,\n",
       "       73.  , 66.4 , 81.  , 80.  , 68.  , 68.4 , 61.4 , 74.  , 72.11,\n",
       "       66.89, 67.4 , 75.  , 67.  , 72.7 , 62.  , 71.  , 78.  , 71.72,\n",
       "       70.2 , 77.5 , 71.93, 64.5 , 77.2 , 82.  , 76.  , 63.  , 83.  ,\n",
       "       66.6 , 64.6 , 69.6 , 69.3 , 64.33, 75.5 , 77.72, 77.  , 69.5 ,\n",
       "       73.43, 70.67, 71.25, 84.  , 60.9 , 77.25, 63.35, 61.26, 64.27,\n",
       "       64.2 , 62.8 , 64.21, 69.2 , 64.8 , 91.  , 77.6 ])"
      ]
     },
     "execution_count": 75,
     "metadata": {},
     "output_type": "execute_result"
    }
   ],
   "source": [
    "filt_df.degree_percentage.unique()"
   ]
  }
 ],
 "metadata": {
  "kernelspec": {
   "display_name": "Python 3 (ipykernel)",
   "language": "python",
   "name": "python3"
  },
  "language_info": {
   "codemirror_mode": {
    "name": "ipython",
    "version": 3
   },
   "file_extension": ".py",
   "mimetype": "text/x-python",
   "name": "python",
   "nbconvert_exporter": "python",
   "pygments_lexer": "ipython3",
   "version": "3.12.7"
  }
 },
 "nbformat": 4,
 "nbformat_minor": 5
}
