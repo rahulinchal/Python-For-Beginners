{
 "cells": [
  {
   "cell_type": "code",
   "execution_count": 2,
   "id": "aec34f16-54a5-4502-b214-59ad3be60ebd",
   "metadata": {},
   "outputs": [
    {
     "name": "stdout",
     "output_type": "stream",
     "text": [
      "Hello\n"
     ]
    }
   ],
   "source": [
    "print(\"Hello\")"
   ]
  },
  {
   "cell_type": "markdown",
   "id": "e6b5d595-2d68-4b75-a832-6b5253350143",
   "metadata": {},
   "source": [
    "# Heading\n",
    "## Heading\n",
    "### Heading\n",
    "#### Heading\n",
    "# **Heading**"
   ]
  },
  {
   "cell_type": "raw",
   "id": "0914d8de-97d6-471e-b2e7-0b5ce654eaf7",
   "metadata": {},
   "source": [
    "### This is just to give you understandings of raw mode"
   ]
  },
  {
   "cell_type": "markdown",
   "id": "8274a377-d5f7-4dbc-b66d-4f6484f3e832",
   "metadata": {},
   "source": [
    "### Basic Syntax\n",
    "1. Variables and Data Types (int, float, str, bool)\n",
    "2. Taking user input (input())\n",
    "3. Type conversion (int(), float(), str())"
   ]
  },
  {
   "cell_type": "markdown",
   "id": "af8e6f6d-0e4e-4437-addb-c685c1ec6641",
   "metadata": {},
   "source": [
    "### 1. Variable:\n",
    "#### There are some rules to declare variables.\n",
    "1. Variable names are case sensitive.\n",
    "2. Variable name should include alphabets a-z, A-Z, and numbers 0-9.\n",
    "3. Varibale name should not start from number and no special characters are allowed except underscore (_).\n",
    "4. Avoid using python keywords."
   ]
  },
  {
   "cell_type": "code",
   "execution_count": 3,
   "id": "49cb4a43-cd86-429a-b741-fe240d303ac4",
   "metadata": {},
   "outputs": [],
   "source": [
    "name = \"Rahul\""
   ]
  },
  {
   "cell_type": "code",
   "execution_count": 6,
   "id": "60f0d704-44d4-4229-bc42-d6f0db6e3881",
   "metadata": {},
   "outputs": [],
   "source": [
    "name1 = \"Shruti\""
   ]
  },
  {
   "cell_type": "code",
   "execution_count": 7,
   "id": "b09c186f-d5e7-4d84-829d-fc8067707303",
   "metadata": {},
   "outputs": [
    {
     "data": {
      "text/plain": [
       "'Shruti'"
      ]
     },
     "execution_count": 7,
     "metadata": {},
     "output_type": "execute_result"
    }
   ],
   "source": [
    "name1"
   ]
  },
  {
   "cell_type": "code",
   "execution_count": 8,
   "id": "10a3560d-3a8d-49ff-90bc-e37c2c100786",
   "metadata": {},
   "outputs": [],
   "source": [
    "name1_name2 = \"Rahul_Inchal\""
   ]
  },
  {
   "cell_type": "code",
   "execution_count": 9,
   "id": "a0a83cea-3f66-4606-8ba7-23c938a42623",
   "metadata": {},
   "outputs": [
    {
     "data": {
      "text/plain": [
       "'Rahul_Inchal'"
      ]
     },
     "execution_count": 9,
     "metadata": {},
     "output_type": "execute_result"
    }
   ],
   "source": [
    "name1_name2"
   ]
  },
  {
   "cell_type": "code",
   "execution_count": 13,
   "id": "7e84a39b-9a1b-4fbf-9b39-246d6bc927ff",
   "metadata": {},
   "outputs": [],
   "source": [
    "list = 5"
   ]
  },
  {
   "cell_type": "code",
   "execution_count": 14,
   "id": "002f10e0-aed8-4b8b-a7a3-afce4ef078b4",
   "metadata": {},
   "outputs": [
    {
     "data": {
      "text/plain": [
       "5"
      ]
     },
     "execution_count": 14,
     "metadata": {},
     "output_type": "execute_result"
    }
   ],
   "source": [
    "list"
   ]
  },
  {
   "cell_type": "markdown",
   "id": "3e9a3764-7c79-487d-911f-99db10f36229",
   "metadata": {},
   "source": [
    "### 2. Data types\n",
    "1. int - Any natural number.\n",
    "2. Float - Any Decimal number.\n",
    "3. String - Anything which is enclosed in quotes(\"\")\n",
    "4. Boolean - True or False\n",
    "5. Complex - Complex number like (4 + 5j)\n",
    "6. Nonetype - None"
   ]
  },
  {
   "cell_type": "code",
   "execution_count": 15,
   "id": "bbe5a090-02eb-494a-9cd5-ecdf3f28bbf4",
   "metadata": {},
   "outputs": [],
   "source": [
    "a = 5"
   ]
  },
  {
   "cell_type": "code",
   "execution_count": 16,
   "id": "6f53601f-6871-4b8d-9db7-d7eefea015b3",
   "metadata": {},
   "outputs": [
    {
     "data": {
      "text/plain": [
       "int"
      ]
     },
     "execution_count": 16,
     "metadata": {},
     "output_type": "execute_result"
    }
   ],
   "source": [
    "type(a)"
   ]
  },
  {
   "cell_type": "code",
   "execution_count": 17,
   "id": "fb9c4b9b-80d6-4455-aff7-1435d2c57590",
   "metadata": {},
   "outputs": [],
   "source": [
    "a = 5.5"
   ]
  },
  {
   "cell_type": "code",
   "execution_count": 18,
   "id": "e4eff313-55a4-459e-9e52-47729fc9a53d",
   "metadata": {},
   "outputs": [
    {
     "data": {
      "text/plain": [
       "float"
      ]
     },
     "execution_count": 18,
     "metadata": {},
     "output_type": "execute_result"
    }
   ],
   "source": [
    "type(a)"
   ]
  },
  {
   "cell_type": "code",
   "execution_count": 19,
   "id": "edf99da6-f797-44de-a569-0ed683195832",
   "metadata": {},
   "outputs": [],
   "source": [
    "a = \"5.5\""
   ]
  },
  {
   "cell_type": "code",
   "execution_count": 20,
   "id": "6043bce2-2c3d-4f6a-84fa-2046976818fd",
   "metadata": {},
   "outputs": [
    {
     "data": {
      "text/plain": [
       "str"
      ]
     },
     "execution_count": 20,
     "metadata": {},
     "output_type": "execute_result"
    }
   ],
   "source": [
    "type(a)"
   ]
  },
  {
   "cell_type": "code",
   "execution_count": 21,
   "id": "3f764f07-b97c-4bd9-a087-484adae85897",
   "metadata": {},
   "outputs": [],
   "source": [
    "a = True"
   ]
  },
  {
   "cell_type": "code",
   "execution_count": 23,
   "id": "5351b406-3d64-432d-8627-676b442a4b83",
   "metadata": {},
   "outputs": [
    {
     "data": {
      "text/plain": [
       "bool"
      ]
     },
     "execution_count": 23,
     "metadata": {},
     "output_type": "execute_result"
    }
   ],
   "source": [
    "type(a)"
   ]
  },
  {
   "cell_type": "code",
   "execution_count": 24,
   "id": "cacc0189-6564-40cf-a442-dddeafa50163",
   "metadata": {},
   "outputs": [],
   "source": [
    "a = 4 + 5j"
   ]
  },
  {
   "cell_type": "code",
   "execution_count": 25,
   "id": "f7ae8d51-0c04-42ab-8f8e-76af25b473bc",
   "metadata": {},
   "outputs": [
    {
     "data": {
      "text/plain": [
       "complex"
      ]
     },
     "execution_count": 25,
     "metadata": {},
     "output_type": "execute_result"
    }
   ],
   "source": [
    "type(a)"
   ]
  },
  {
   "cell_type": "code",
   "execution_count": 26,
   "id": "925dd27d-7de7-4f70-b52a-42320ceed735",
   "metadata": {},
   "outputs": [],
   "source": [
    "a = None"
   ]
  },
  {
   "cell_type": "code",
   "execution_count": 27,
   "id": "9e8b19d0-ddc7-4fa7-88a3-e92f0bd2dc13",
   "metadata": {},
   "outputs": [
    {
     "data": {
      "text/plain": [
       "NoneType"
      ]
     },
     "execution_count": 27,
     "metadata": {},
     "output_type": "execute_result"
    }
   ],
   "source": [
    "type(a)"
   ]
  },
  {
   "cell_type": "code",
   "execution_count": 30,
   "id": "427fd27d-0bad-4734-b17b-678546f6e2ff",
   "metadata": {},
   "outputs": [],
   "source": [
    "a = \"Rahul\"\n",
    "b = 'Rahul'"
   ]
  },
  {
   "cell_type": "code",
   "execution_count": 31,
   "id": "99b3eced-7548-4a2c-b3bf-912610ad3331",
   "metadata": {},
   "outputs": [
    {
     "data": {
      "text/plain": [
       "'Rahul'"
      ]
     },
     "execution_count": 31,
     "metadata": {},
     "output_type": "execute_result"
    }
   ],
   "source": [
    "b"
   ]
  },
  {
   "cell_type": "code",
   "execution_count": 32,
   "id": "67c50625-e1df-445e-88a5-e573e43bb6c0",
   "metadata": {},
   "outputs": [
    {
     "data": {
      "text/plain": [
       "str"
      ]
     },
     "execution_count": 32,
     "metadata": {},
     "output_type": "execute_result"
    }
   ],
   "source": [
    "type(b)"
   ]
  },
  {
   "cell_type": "markdown",
   "id": "93f04f99-b3bf-438d-a901-b456062d95fd",
   "metadata": {},
   "source": [
    "### 3. How to take input from the user"
   ]
  },
  {
   "cell_type": "code",
   "execution_count": 33,
   "id": "5346a89d-72f1-4fd9-994e-4bc88aea37bb",
   "metadata": {},
   "outputs": [],
   "source": [
    "a = 5"
   ]
  },
  {
   "cell_type": "code",
   "execution_count": 34,
   "id": "e042bbe2-fa19-4d07-9678-defad2f2dfb9",
   "metadata": {},
   "outputs": [
    {
     "name": "stdin",
     "output_type": "stream",
     "text": [
      " 5\n"
     ]
    }
   ],
   "source": [
    "b = input()"
   ]
  },
  {
   "cell_type": "code",
   "execution_count": 35,
   "id": "868db98a-e53f-485d-a37d-6bebc585b506",
   "metadata": {},
   "outputs": [
    {
     "name": "stdin",
     "output_type": "stream",
     "text": [
      "Enter a number:  53\n"
     ]
    }
   ],
   "source": [
    "b = input(\"Enter a number: \")"
   ]
  },
  {
   "cell_type": "code",
   "execution_count": 37,
   "id": "ddfcfff1-4e79-4920-abc9-967f426bbd3d",
   "metadata": {},
   "outputs": [
    {
     "name": "stdin",
     "output_type": "stream",
     "text": [
      "UserID:  abc1234\n",
      "Password:  password\n"
     ]
    }
   ],
   "source": [
    "c = input(\"UserID: \")\n",
    "b = input(\"Password: \")"
   ]
  },
  {
   "cell_type": "code",
   "execution_count": 40,
   "id": "79a83f94-febb-4a3d-abb1-a35e0d503e97",
   "metadata": {},
   "outputs": [
    {
     "name": "stdin",
     "output_type": "stream",
     "text": [
      "Enter the number:  98764215931\n"
     ]
    }
   ],
   "source": [
    "a = int(input(\"Enter the number: \"))"
   ]
  },
  {
   "cell_type": "code",
   "execution_count": 42,
   "id": "e423fd1d-243c-4735-91c7-f8d62af89abe",
   "metadata": {},
   "outputs": [
    {
     "name": "stdin",
     "output_type": "stream",
     "text": [
      "Enter you name:  23\n"
     ]
    }
   ],
   "source": [
    "a = str(input(\"Enter you name: \"))"
   ]
  },
  {
   "cell_type": "code",
   "execution_count": 44,
   "id": "8532dfde-8583-4f02-9b57-1aac3de9031f",
   "metadata": {},
   "outputs": [
    {
     "data": {
      "text/plain": [
       "str"
      ]
     },
     "execution_count": 44,
     "metadata": {},
     "output_type": "execute_result"
    }
   ],
   "source": [
    "type(a)"
   ]
  },
  {
   "cell_type": "markdown",
   "id": "ee605f03-7bdc-48dc-a3da-6aafa3d8835e",
   "metadata": {},
   "source": [
    "### 4. Type conversion "
   ]
  },
  {
   "cell_type": "code",
   "execution_count": 45,
   "id": "f48c36df-4703-438a-b3d1-46e2877a8d3b",
   "metadata": {},
   "outputs": [],
   "source": [
    "a = 5"
   ]
  },
  {
   "cell_type": "code",
   "execution_count": 47,
   "id": "bb166555-aa7a-435a-87c8-8f98a24d0ba4",
   "metadata": {},
   "outputs": [
    {
     "data": {
      "text/plain": [
       "int"
      ]
     },
     "execution_count": 47,
     "metadata": {},
     "output_type": "execute_result"
    }
   ],
   "source": [
    "type(a)"
   ]
  },
  {
   "cell_type": "code",
   "execution_count": 48,
   "id": "f31c65f3-9ace-4640-87f4-41278e051a11",
   "metadata": {},
   "outputs": [],
   "source": [
    "b = float(a)"
   ]
  },
  {
   "cell_type": "code",
   "execution_count": 49,
   "id": "f47a1690-c4b6-4844-8159-a59f6a93a5de",
   "metadata": {},
   "outputs": [
    {
     "data": {
      "text/plain": [
       "5.0"
      ]
     },
     "execution_count": 49,
     "metadata": {},
     "output_type": "execute_result"
    }
   ],
   "source": [
    "b"
   ]
  },
  {
   "cell_type": "code",
   "execution_count": 50,
   "id": "805e2b07-dae4-484d-b834-e873cfdc4830",
   "metadata": {},
   "outputs": [
    {
     "data": {
      "text/plain": [
       "float"
      ]
     },
     "execution_count": 50,
     "metadata": {},
     "output_type": "execute_result"
    }
   ],
   "source": [
    "type(b)"
   ]
  },
  {
   "cell_type": "code",
   "execution_count": 51,
   "id": "f861ee9c-bd98-48da-9f0e-13b48f0fb021",
   "metadata": {},
   "outputs": [
    {
     "data": {
      "text/plain": [
       "'5'"
      ]
     },
     "execution_count": 51,
     "metadata": {},
     "output_type": "execute_result"
    }
   ],
   "source": [
    "c = 5\n",
    "b = str(c)\n",
    "b"
   ]
  },
  {
   "cell_type": "code",
   "execution_count": 52,
   "id": "3c90daa4-dea4-45da-9533-a1f369ccd658",
   "metadata": {},
   "outputs": [
    {
     "data": {
      "text/plain": [
       "str"
      ]
     },
     "execution_count": 52,
     "metadata": {},
     "output_type": "execute_result"
    }
   ],
   "source": [
    "type(b)"
   ]
  },
  {
   "cell_type": "code",
   "execution_count": 53,
   "id": "8468a2f2-d486-4ce6-b683-cd6a22b00ac6",
   "metadata": {},
   "outputs": [
    {
     "data": {
      "text/plain": [
       "int"
      ]
     },
     "execution_count": 53,
     "metadata": {},
     "output_type": "execute_result"
    }
   ],
   "source": [
    "type(c)"
   ]
  },
  {
   "cell_type": "code",
   "execution_count": 54,
   "id": "2717bdb3-40fb-4f41-ac2a-af46f3e435d7",
   "metadata": {},
   "outputs": [
    {
     "data": {
      "text/plain": [
       "5"
      ]
     },
     "execution_count": 54,
     "metadata": {},
     "output_type": "execute_result"
    }
   ],
   "source": [
    "c"
   ]
  },
  {
   "cell_type": "markdown",
   "id": "ec67fc3b-00fa-401b-bc88-4597b6ced7fc",
   "metadata": {},
   "source": [
    "## **3. Operator**\n",
    "1. Arithmetic (+, -, *, /, //, %, **)\n",
    "2. Comparison (==, !=, >, <, >=, <=)\n",
    "3. Logical (and, or, not)\n",
    "4. Assignment (+=, -=, *=, /=, etc.)"
   ]
  },
  {
   "cell_type": "code",
   "execution_count": 55,
   "id": "4ff29d2d-c370-4f84-b6b9-37c78e9c898a",
   "metadata": {},
   "outputs": [
    {
     "data": {
      "text/plain": [
       "11"
      ]
     },
     "execution_count": 55,
     "metadata": {},
     "output_type": "execute_result"
    }
   ],
   "source": [
    "x = 5 # Operands\n",
    "y = 6 # Operands \n",
    "\n",
    "z = x + y # '+' is my operator\n",
    "z"
   ]
  },
  {
   "cell_type": "markdown",
   "id": "db8c8c4f-606e-4e2c-899e-b257c16df329",
   "metadata": {},
   "source": [
    "### Types of operator\n",
    "1. Arithmaric operator\n",
    "2. Unary operator\n",
    "3. Binary Operator\n",
    "4. Relational operator\n",
    "5. Logical Operator\n",
    "6. Arithmaric assignment operator\n",
    "7. Bitwise Operator"
   ]
  },
  {
   "cell_type": "markdown",
   "id": "6c7288cc-2f1e-4f21-8490-74fa21fd2673",
   "metadata": {},
   "source": [
    "### 1. Arithmatic operator"
   ]
  },
  {
   "cell_type": "code",
   "execution_count": 58,
   "id": "6d6e2477-af50-47ef-a7a6-a9000053af30",
   "metadata": {},
   "outputs": [],
   "source": [
    "x = 5 #int\n",
    "y = 3 #int"
   ]
  },
  {
   "cell_type": "code",
   "execution_count": 59,
   "id": "10b307f9-07d6-4f98-9904-24ae4db19784",
   "metadata": {},
   "outputs": [
    {
     "name": "stdout",
     "output_type": "stream",
     "text": [
      "Addition:  8\n",
      "Subraction:  2\n",
      "Multiplicaition:  15\n",
      "Division:  1.6666666666666667\n",
      "Modulus:  2\n",
      "Exponential:  125\n",
      "Floor division:  1\n"
     ]
    }
   ],
   "source": [
    "print(\"Addition: \", x + y)\n",
    "print(\"Subraction: \", x - y)\n",
    "print(\"Multiplicaition: \", x * y)\n",
    "print(\"Division: \", x/y)\n",
    "print(\"Modulus: \", x % y)\n",
    "print(\"Exponential: \", x ** y)\n",
    "print(\"Floor division: \", x // y)"
   ]
  },
  {
   "cell_type": "markdown",
   "id": "fbc4e7ba-72a8-42e2-a306-70587be297ac",
   "metadata": {},
   "source": [
    "### Note: The addition, subraction, multiplication, Exponential, Floor division, and modulus of two integers will always be integer. But the Division of two integer may or may not be integer. Hence, the division of two integer will give you result in float"
   ]
  },
  {
   "cell_type": "code",
   "execution_count": 60,
   "id": "ae15701d-5a3f-452d-bdb7-3b332601bdca",
   "metadata": {},
   "outputs": [
    {
     "name": "stdout",
     "output_type": "stream",
     "text": [
      "2.0\n"
     ]
    }
   ],
   "source": [
    "a = 10\n",
    "b = 5\n",
    "c = a/b\n",
    "print(c)"
   ]
  },
  {
   "cell_type": "markdown",
   "id": "9a79a92b-70aa-4a50-b509-e9fde115787f",
   "metadata": {},
   "source": [
    "### 2. Unary operator"
   ]
  },
  {
   "cell_type": "code",
   "execution_count": 62,
   "id": "23160e49-d573-41e6-983c-4d89d1b61284",
   "metadata": {},
   "outputs": [
    {
     "name": "stdout",
     "output_type": "stream",
     "text": [
      "-5\n",
      "5\n"
     ]
    }
   ],
   "source": [
    "x = 5\n",
    "print(-x)\n",
    "print(+x)"
   ]
  },
  {
   "cell_type": "markdown",
   "id": "44a5d1f8-b1a5-4ffb-b672-4cc02b9057a9",
   "metadata": {},
   "source": [
    "### 3. Binary Operator: Operator with two opearands are called Binary operator. Example: Addition, Multiplication, Division etc"
   ]
  },
  {
   "cell_type": "code",
   "execution_count": 64,
   "id": "669e5f8c-582a-40c1-9483-299552bf3895",
   "metadata": {},
   "outputs": [
    {
     "name": "stdout",
     "output_type": "stream",
     "text": [
      "Addition:  15\n",
      "Subraction:  5\n",
      "Multiplicaition:  50\n",
      "Division:  2.0\n",
      "Modulus:  0\n",
      "Exponential:  100000\n",
      "Floor division:  2\n"
     ]
    }
   ],
   "source": [
    "x = 10\n",
    "y = 5\n",
    "print(\"Addition: \", x + y)\n",
    "print(\"Subraction: \", x - y)\n",
    "print(\"Multiplicaition: \", x * y)\n",
    "print(\"Division: \", x/y)\n",
    "print(\"Modulus: \", x % y)\n",
    "print(\"Exponential: \", x ** y)\n",
    "print(\"Floor division: \", x // y)"
   ]
  },
  {
   "cell_type": "markdown",
   "id": "de9c0296-2b06-44ea-b4cd-0a9164234e3f",
   "metadata": {},
   "source": [
    "### 4. Relational operators: Compare two calues and always will give you the result in boolean."
   ]
  },
  {
   "cell_type": "code",
   "execution_count": 65,
   "id": "dd627a7e-a26b-44e1-bd1a-8fba22e69659",
   "metadata": {},
   "outputs": [],
   "source": [
    "x = 10\n",
    "y = 5"
   ]
  },
  {
   "cell_type": "code",
   "execution_count": 66,
   "id": "a7c87c1c-58c9-474a-b95c-9837709080c5",
   "metadata": {},
   "outputs": [
    {
     "name": "stdout",
     "output_type": "stream",
     "text": [
      "True\n",
      "False\n",
      "True\n",
      "False\n",
      "True\n",
      "False\n"
     ]
    }
   ],
   "source": [
    "print(x > y)\n",
    "print(x < y)\n",
    "print(x != y)\n",
    "print(x == y)\n",
    "print(x >= y)\n",
    "print(x <= y)"
   ]
  },
  {
   "cell_type": "markdown",
   "id": "28277def-edd0-45a6-8ef9-a97e8f58f26f",
   "metadata": {},
   "source": [
    "### 5. Logical operator: Used to combine condtional statements. The result will be in boolean. "
   ]
  },
  {
   "cell_type": "code",
   "execution_count": 68,
   "id": "5a4b258e-073d-494f-bf0b-ff930245d864",
   "metadata": {},
   "outputs": [],
   "source": [
    "x = True\n",
    "y = False"
   ]
  },
  {
   "cell_type": "code",
   "execution_count": 69,
   "id": "32f02fd0-4ee2-494e-8d0e-91543ca2fa71",
   "metadata": {},
   "outputs": [
    {
     "name": "stdout",
     "output_type": "stream",
     "text": [
      "False\n",
      "True\n",
      "False\n"
     ]
    }
   ],
   "source": [
    "print(x and y)\n",
    "print(x or y)\n",
    "print(not x)"
   ]
  },
  {
   "cell_type": "markdown",
   "id": "75dac6ab-4a57-4268-ac88-1d4b188eefd8",
   "metadata": {},
   "source": [
    "### 6. Arithmatic assignment operator: eg. +=, -=, *=, /="
   ]
  },
  {
   "cell_type": "code",
   "execution_count": 84,
   "id": "5f86674c-2148-4428-8135-c9a5cdc7c312",
   "metadata": {},
   "outputs": [
    {
     "name": "stdout",
     "output_type": "stream",
     "text": [
      "20\n"
     ]
    }
   ],
   "source": [
    "a = 10\n",
    "a += 10 # a = a + 10\n",
    "print(a)"
   ]
  },
  {
   "cell_type": "code",
   "execution_count": 85,
   "id": "43007864-dc2c-49e6-afbe-c51442a9fc22",
   "metadata": {},
   "outputs": [
    {
     "name": "stdout",
     "output_type": "stream",
     "text": [
      "18\n"
     ]
    }
   ],
   "source": [
    "a -= 2 # a = a - 2\n",
    "print(a)"
   ]
  },
  {
   "cell_type": "code",
   "execution_count": 86,
   "id": "ac1d1eea-2220-43b4-9029-2a36484cadfb",
   "metadata": {},
   "outputs": [
    {
     "name": "stdout",
     "output_type": "stream",
     "text": [
      "180\n"
     ]
    }
   ],
   "source": [
    "a *= 10 # a = a * 10\n",
    "print(a)"
   ]
  },
  {
   "cell_type": "code",
   "execution_count": 87,
   "id": "39aebc04-fba8-4e09-8cd1-b08bf53e0c82",
   "metadata": {},
   "outputs": [
    {
     "name": "stdout",
     "output_type": "stream",
     "text": [
      "90.0\n"
     ]
    }
   ],
   "source": [
    "a /= 2 #a = a/2\n",
    "print(a)"
   ]
  },
  {
   "cell_type": "markdown",
   "id": "da11a43a-7edc-4ee9-9823-438f9de505f8",
   "metadata": {},
   "source": [
    "### Control Statements:\n",
    "Control Statement alters the flow of execution of a program. It generally includes statements like if, else or loops like for loop or while loop and jump statements like break, continue, return."
   ]
  },
  {
   "cell_type": "markdown",
   "id": "14a9fc57-954b-4bf2-8d17-f03c5f1a5957",
   "metadata": {},
   "source": [
    "### If - else"
   ]
  },
  {
   "cell_type": "code",
   "execution_count": 89,
   "id": "8f4354aa-8a64-48d6-abe1-d9ab570cbb2a",
   "metadata": {},
   "outputs": [
    {
     "name": "stdout",
     "output_type": "stream",
     "text": [
      "False\n"
     ]
    }
   ],
   "source": [
    "if 5 < 3:\n",
    "    print(\"True\")\n",
    "else:\n",
    "    print(\"False\")"
   ]
  },
  {
   "cell_type": "code",
   "execution_count": 91,
   "id": "8abb6f90-959a-4e3b-9533-d5131d95ee01",
   "metadata": {},
   "outputs": [
    {
     "name": "stdout",
     "output_type": "stream",
     "text": [
      "True\n"
     ]
    }
   ],
   "source": [
    "if False:\n",
    "    print(\"False\")\n",
    "else:\n",
    "    print(\"True\")"
   ]
  },
  {
   "cell_type": "code",
   "execution_count": 92,
   "id": "2949f930-e03a-484b-9040-5a0e01f5be48",
   "metadata": {},
   "outputs": [
    {
     "name": "stdout",
     "output_type": "stream",
     "text": [
      "the number is greater than 5\n"
     ]
    }
   ],
   "source": [
    "num = 10\n",
    "if num > 5:\n",
    "    print(\"the number is greater than 5\")\n",
    "else:\n",
    "    print(\"The number is not greater than 5\")"
   ]
  },
  {
   "cell_type": "code",
   "execution_count": 97,
   "id": "bc7d4e96-ed40-4d74-a5ab-d59cdf49ecbb",
   "metadata": {},
   "outputs": [
    {
     "name": "stdin",
     "output_type": "stream",
     "text": [
      "Enter the numebr:  10\n"
     ]
    },
    {
     "name": "stdout",
     "output_type": "stream",
     "text": [
      "The number is greater than 10\n"
     ]
    }
   ],
   "source": [
    "num = int(input(\"Enter the numebr: \"))\n",
    "if num >= 10:\n",
    "    print(\"The number is greater than 10\")\n",
    "else:\n",
    "    print(\"The number is less than 10\")"
   ]
  },
  {
   "cell_type": "markdown",
   "id": "deeae764-94bc-45c5-a617-cbf638d1574a",
   "metadata": {},
   "source": [
    "### if elif elif elif . . ., else"
   ]
  },
  {
   "cell_type": "code",
   "execution_count": 100,
   "id": "14755ce7-ab90-45e8-a40c-f64efafdbbd9",
   "metadata": {},
   "outputs": [
    {
     "name": "stdin",
     "output_type": "stream",
     "text": [
      "Enter the number:  0\n"
     ]
    },
    {
     "name": "stdout",
     "output_type": "stream",
     "text": [
      "The number is zero\n"
     ]
    }
   ],
   "source": [
    "num = int(input(\"Enter the number: \"))\n",
    "if num > 0:\n",
    "    print(\"Positive number\")\n",
    "elif num == 0:\n",
    "    print(\"The number is zero\")\n",
    "else:\n",
    "    print(\"Negetive number\")"
   ]
  },
  {
   "cell_type": "markdown",
   "id": "8edb0fbf-f050-48bc-8893-52d154318186",
   "metadata": {},
   "source": [
    "## **Practice Question for if- else**\n",
    "### **Basic Questions**\n",
    "1. Write a program that takes an integer input from the user and prints whether it is **positive**, **negative**, or **zero**.\n",
    "2. Write a program that asks for a number and prints whether it is **even** or **odd**.\n",
    "3. Ask the user to enter their age and determine if they are **a child (0-12 years)**, **a teenager (13-19 years)**, **an adult (20-59 years)**, or **a senior citizen (60+ years)**.\n",
    "\n",
    "### **Intermediate Questions**\n",
    "4. Write a program that asks for a score (0-100) and prints the corresponding **grade**:\n",
    "   - 90-100: A\n",
    "   - 80-89: B\n",
    "   - 70-79: C\n",
    "   - 60-69: D\n",
    "   - Below 60: F\n",
    "5. Ask the user for a year and determine whether it is a **leap year** or not.\n",
    "6. Write a program that asks for the temperature and prints whether it is **Cold (<15°C), Warm (15-25°C), or Hot (>25°C)**.\n",
    "7. Ask the user to input a character and check if it is a **vowel (a, e, i, o, u)** or a **consonant**.\n",
    "\n",
    "### **Advanced Questions**\n",
    "8. Write a program that takes three numbers as input and prints the **largest** among them.\n",
    "9. Write a program that checks if a triangle is **equilateral (all sides equal)**, **isosceles (two sides equal)**, or **scalene (no sides equal)**.\n",
    "10. Create a program that asks for a username and password. If the username is `\"admin\"` and the password is `\"password123\"`, print `\"Login successful\"`; otherwise, print `\"Invalid credentials\"`.\n",
    "11. A company gives a bonus to its employees based on their years of service. The bonus is calculated as follows:  \n",
    "- If the service is **more than 10 years**, the bonus is **10%** of the salary.  \n",
    "- If the service is **between 6 and 10 years**, the bonus is **8%** of the salary.  \n",
    "- If the service is **less than 6 years**, the bonus is **5%** of the salary.  \n",
    "\n",
    "Write a Python program that takes the employee's salary and years of service as input and calculates the bonus amount.  \n",
    "\n",
    "---"
   ]
  },
  {
   "cell_type": "markdown",
   "id": "ed1d20f2-dd3b-4e22-827d-ef0626e62303",
   "metadata": {},
   "source": [
    "### 2. Write a program that asks for a number and prints whether it is **even** or **odd**."
   ]
  },
  {
   "cell_type": "code",
   "execution_count": 104,
   "id": "70e11336-aa41-42a5-a76c-89d7fb22f8ef",
   "metadata": {},
   "outputs": [
    {
     "name": "stdin",
     "output_type": "stream",
     "text": [
      "Enter the number:  10\n"
     ]
    },
    {
     "name": "stdout",
     "output_type": "stream",
     "text": [
      "Even number\n"
     ]
    }
   ],
   "source": [
    "num = int(input(\"Enter the number: \"))\n",
    "if num % 2 == 0:\n",
    "    print(\"Even number\")\n",
    "else:\n",
    "    print(\"Odd number\")"
   ]
  },
  {
   "cell_type": "markdown",
   "id": "c59e6ff1-cc2a-440a-bf69-081877c158e8",
   "metadata": {},
   "source": [
    "### 3. Ask the user to enter their age and determine if they are **a child (0-12 years)**, **a teenager (13-19 years)**, **an adult (20-59 years)**, or **a senior citizen (60+ years)**."
   ]
  },
  {
   "cell_type": "code",
   "execution_count": 109,
   "id": "421699e9-f3fa-4d4f-8164-6473d057a8b1",
   "metadata": {},
   "outputs": [
    {
     "name": "stdin",
     "output_type": "stream",
     "text": [
      "Enter the age:  59\n"
     ]
    },
    {
     "name": "stdout",
     "output_type": "stream",
     "text": [
      "Senior citizen\n"
     ]
    }
   ],
   "source": [
    "age = int(input(\"Enter the age: \"))\n",
    "if 0 < age < 12:\n",
    "    print(\"Child\")\n",
    "elif 13 < age < 19:\n",
    "    print(\"teenager\")\n",
    "elif 20 < age < 59:\n",
    "    print(\"Adult\")\n",
    "else:\n",
    "    print(\"Senior citizen\")"
   ]
  },
  {
   "cell_type": "code",
   "execution_count": null,
   "id": "052d969f-f3b1-4ff9-89c9-98c1aff63ca1",
   "metadata": {},
   "outputs": [],
   "source": []
  },
  {
   "cell_type": "code",
   "execution_count": null,
   "id": "15558592-ff58-4fb7-8479-e26961a3c1a0",
   "metadata": {},
   "outputs": [],
   "source": []
  },
  {
   "cell_type": "code",
   "execution_count": null,
   "id": "49f48af9-1383-41a4-a8a6-4299f46f2951",
   "metadata": {},
   "outputs": [],
   "source": []
  },
  {
   "cell_type": "code",
   "execution_count": null,
   "id": "d5cc3dc1-eb38-43e8-abff-29cd8511d0f2",
   "metadata": {},
   "outputs": [],
   "source": []
  },
  {
   "cell_type": "code",
   "execution_count": null,
   "id": "6319d8ce-f2b8-4734-9884-dfa9c009649f",
   "metadata": {},
   "outputs": [],
   "source": []
  },
  {
   "cell_type": "code",
   "execution_count": null,
   "id": "2153252a-e5d7-4370-b86e-dd9b790b8bc6",
   "metadata": {},
   "outputs": [],
   "source": []
  },
  {
   "cell_type": "code",
   "execution_count": null,
   "id": "2f41c58a-54de-45e9-b5a8-0d1ec3765e14",
   "metadata": {},
   "outputs": [],
   "source": []
  },
  {
   "cell_type": "code",
   "execution_count": null,
   "id": "f1bc494e-50cf-4fba-8dd5-e93bee851580",
   "metadata": {},
   "outputs": [],
   "source": []
  },
  {
   "cell_type": "code",
   "execution_count": null,
   "id": "44c7f0f7-a799-4593-b8bf-dfc62314179e",
   "metadata": {},
   "outputs": [],
   "source": []
  },
  {
   "cell_type": "code",
   "execution_count": null,
   "id": "29b87f1e-7d07-4d24-a515-f64439fc3434",
   "metadata": {},
   "outputs": [],
   "source": []
  },
  {
   "cell_type": "code",
   "execution_count": null,
   "id": "51799966-f399-40e9-8b9b-621235d38856",
   "metadata": {},
   "outputs": [],
   "source": []
  },
  {
   "cell_type": "code",
   "execution_count": null,
   "id": "8aae1cdd-096b-42af-afdd-4393204904cf",
   "metadata": {},
   "outputs": [],
   "source": []
  },
  {
   "cell_type": "code",
   "execution_count": null,
   "id": "2f433332-8313-4612-beed-85d079e30ce3",
   "metadata": {},
   "outputs": [],
   "source": []
  },
  {
   "cell_type": "code",
   "execution_count": null,
   "id": "74aeee65-6040-42f8-afd8-c925ca00eba5",
   "metadata": {},
   "outputs": [],
   "source": []
  },
  {
   "cell_type": "code",
   "execution_count": null,
   "id": "1b027e92-e3d8-49d4-b8e2-2f64136b1acc",
   "metadata": {},
   "outputs": [],
   "source": []
  },
  {
   "cell_type": "code",
   "execution_count": null,
   "id": "60bf3ebd-339a-4081-9163-4837eb32cd8b",
   "metadata": {},
   "outputs": [],
   "source": []
  },
  {
   "cell_type": "code",
   "execution_count": null,
   "id": "4d59fd70-30b7-434e-9af9-5c68ac839c78",
   "metadata": {},
   "outputs": [],
   "source": []
  },
  {
   "cell_type": "code",
   "execution_count": null,
   "id": "9044636f-15e6-4055-961d-dcd412d6a9ce",
   "metadata": {},
   "outputs": [],
   "source": []
  },
  {
   "cell_type": "code",
   "execution_count": null,
   "id": "827811ab-4c2f-47c9-8477-534c2e7ff53d",
   "metadata": {},
   "outputs": [],
   "source": []
  }
 ],
 "metadata": {
  "kernelspec": {
   "display_name": "Python 3 (ipykernel)",
   "language": "python",
   "name": "python3"
  },
  "language_info": {
   "codemirror_mode": {
    "name": "ipython",
    "version": 3
   },
   "file_extension": ".py",
   "mimetype": "text/x-python",
   "name": "python",
   "nbconvert_exporter": "python",
   "pygments_lexer": "ipython3",
   "version": "3.9.18"
  }
 },
 "nbformat": 4,
 "nbformat_minor": 5
}
